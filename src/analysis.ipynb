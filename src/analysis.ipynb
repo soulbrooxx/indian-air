{
 "cells": [
  {
   "cell_type": "markdown",
   "metadata": {},
   "source": [
    "# Import libraries"
   ]
  },
  {
   "cell_type": "code",
   "execution_count": 784,
   "metadata": {},
   "outputs": [],
   "source": [
    "import pandas as pd\n",
    "import numpy as np\n",
    "import matplotlib.pyplot as plt\n",
    "import plotly.express as px\n",
    "from xgboost import XGBRegressor\n",
    "from sklearn.model_selection import GridSearchCV\n",
    "from sklearn.metrics import mean_squared_error, mean_absolute_error, r2_score\n",
    "import plotly.graph_objects as go\n",
    "from sklearn.ensemble import RandomForestRegressor\n",
    "import plotly.graph_objects as go\n",
    "import joblib  \n",
    "from statsmodels.tsa.arima.model import ARIMA\n",
    "\n"
   ]
  },
  {
   "cell_type": "code",
   "execution_count": 785,
   "metadata": {},
   "outputs": [
    {
     "data": {
      "text/html": [
       "<div>\n",
       "<style scoped>\n",
       "    .dataframe tbody tr th:only-of-type {\n",
       "        vertical-align: middle;\n",
       "    }\n",
       "\n",
       "    .dataframe tbody tr th {\n",
       "        vertical-align: top;\n",
       "    }\n",
       "\n",
       "    .dataframe thead th {\n",
       "        text-align: right;\n",
       "    }\n",
       "</style>\n",
       "<table border=\"1\" class=\"dataframe\">\n",
       "  <thead>\n",
       "    <tr style=\"text-align: right;\">\n",
       "      <th></th>\n",
       "      <th>state</th>\n",
       "      <th>location</th>\n",
       "      <th>type</th>\n",
       "      <th>so2</th>\n",
       "      <th>no2</th>\n",
       "      <th>rspm</th>\n",
       "      <th>spm</th>\n",
       "      <th>date</th>\n",
       "    </tr>\n",
       "  </thead>\n",
       "  <tbody>\n",
       "    <tr>\n",
       "      <th>0</th>\n",
       "      <td>Andhra Pradesh</td>\n",
       "      <td>Hyderabad</td>\n",
       "      <td>Residential</td>\n",
       "      <td>4.8</td>\n",
       "      <td>17.4</td>\n",
       "      <td>0.0</td>\n",
       "      <td>0.0</td>\n",
       "      <td>1990-02-01</td>\n",
       "    </tr>\n",
       "    <tr>\n",
       "      <th>1</th>\n",
       "      <td>Andhra Pradesh</td>\n",
       "      <td>Hyderabad</td>\n",
       "      <td>Industrial</td>\n",
       "      <td>3.1</td>\n",
       "      <td>7.0</td>\n",
       "      <td>0.0</td>\n",
       "      <td>0.0</td>\n",
       "      <td>1990-02-01</td>\n",
       "    </tr>\n",
       "    <tr>\n",
       "      <th>2</th>\n",
       "      <td>Andhra Pradesh</td>\n",
       "      <td>Hyderabad</td>\n",
       "      <td>Residential</td>\n",
       "      <td>6.2</td>\n",
       "      <td>28.5</td>\n",
       "      <td>0.0</td>\n",
       "      <td>0.0</td>\n",
       "      <td>1990-02-01</td>\n",
       "    </tr>\n",
       "    <tr>\n",
       "      <th>3</th>\n",
       "      <td>Andhra Pradesh</td>\n",
       "      <td>Hyderabad</td>\n",
       "      <td>Residential</td>\n",
       "      <td>6.3</td>\n",
       "      <td>14.7</td>\n",
       "      <td>0.0</td>\n",
       "      <td>0.0</td>\n",
       "      <td>1990-03-01</td>\n",
       "    </tr>\n",
       "    <tr>\n",
       "      <th>4</th>\n",
       "      <td>Andhra Pradesh</td>\n",
       "      <td>Hyderabad</td>\n",
       "      <td>Industrial</td>\n",
       "      <td>4.7</td>\n",
       "      <td>7.5</td>\n",
       "      <td>0.0</td>\n",
       "      <td>0.0</td>\n",
       "      <td>1990-03-01</td>\n",
       "    </tr>\n",
       "    <tr>\n",
       "      <th>...</th>\n",
       "      <td>...</td>\n",
       "      <td>...</td>\n",
       "      <td>...</td>\n",
       "      <td>...</td>\n",
       "      <td>...</td>\n",
       "      <td>...</td>\n",
       "      <td>...</td>\n",
       "      <td>...</td>\n",
       "    </tr>\n",
       "    <tr>\n",
       "      <th>434588</th>\n",
       "      <td>West Bengal</td>\n",
       "      <td>ULUBERIA</td>\n",
       "      <td>Residential</td>\n",
       "      <td>20.0</td>\n",
       "      <td>44.0</td>\n",
       "      <td>148.0</td>\n",
       "      <td>0.0</td>\n",
       "      <td>2015-12-15</td>\n",
       "    </tr>\n",
       "    <tr>\n",
       "      <th>434589</th>\n",
       "      <td>West Bengal</td>\n",
       "      <td>ULUBERIA</td>\n",
       "      <td>Residential</td>\n",
       "      <td>17.0</td>\n",
       "      <td>44.0</td>\n",
       "      <td>131.0</td>\n",
       "      <td>0.0</td>\n",
       "      <td>2015-12-18</td>\n",
       "    </tr>\n",
       "    <tr>\n",
       "      <th>434590</th>\n",
       "      <td>West Bengal</td>\n",
       "      <td>ULUBERIA</td>\n",
       "      <td>Residential</td>\n",
       "      <td>18.0</td>\n",
       "      <td>45.0</td>\n",
       "      <td>140.0</td>\n",
       "      <td>0.0</td>\n",
       "      <td>2015-12-21</td>\n",
       "    </tr>\n",
       "    <tr>\n",
       "      <th>434591</th>\n",
       "      <td>West Bengal</td>\n",
       "      <td>ULUBERIA</td>\n",
       "      <td>Residential</td>\n",
       "      <td>22.0</td>\n",
       "      <td>50.0</td>\n",
       "      <td>143.0</td>\n",
       "      <td>0.0</td>\n",
       "      <td>2015-12-24</td>\n",
       "    </tr>\n",
       "    <tr>\n",
       "      <th>434592</th>\n",
       "      <td>West Bengal</td>\n",
       "      <td>ULUBERIA</td>\n",
       "      <td>Residential</td>\n",
       "      <td>20.0</td>\n",
       "      <td>46.0</td>\n",
       "      <td>171.0</td>\n",
       "      <td>0.0</td>\n",
       "      <td>2015-12-29</td>\n",
       "    </tr>\n",
       "  </tbody>\n",
       "</table>\n",
       "<p>434593 rows × 8 columns</p>\n",
       "</div>"
      ],
      "text/plain": [
       "                 state   location         type   so2   no2   rspm  spm  \\\n",
       "0       Andhra Pradesh  Hyderabad  Residential   4.8  17.4    0.0  0.0   \n",
       "1       Andhra Pradesh  Hyderabad   Industrial   3.1   7.0    0.0  0.0   \n",
       "2       Andhra Pradesh  Hyderabad  Residential   6.2  28.5    0.0  0.0   \n",
       "3       Andhra Pradesh  Hyderabad  Residential   6.3  14.7    0.0  0.0   \n",
       "4       Andhra Pradesh  Hyderabad   Industrial   4.7   7.5    0.0  0.0   \n",
       "...                ...        ...          ...   ...   ...    ...  ...   \n",
       "434588     West Bengal   ULUBERIA  Residential  20.0  44.0  148.0  0.0   \n",
       "434589     West Bengal   ULUBERIA  Residential  17.0  44.0  131.0  0.0   \n",
       "434590     West Bengal   ULUBERIA  Residential  18.0  45.0  140.0  0.0   \n",
       "434591     West Bengal   ULUBERIA  Residential  22.0  50.0  143.0  0.0   \n",
       "434592     West Bengal   ULUBERIA  Residential  20.0  46.0  171.0  0.0   \n",
       "\n",
       "              date  \n",
       "0       1990-02-01  \n",
       "1       1990-02-01  \n",
       "2       1990-02-01  \n",
       "3       1990-03-01  \n",
       "4       1990-03-01  \n",
       "...            ...  \n",
       "434588  2015-12-15  \n",
       "434589  2015-12-18  \n",
       "434590  2015-12-21  \n",
       "434591  2015-12-24  \n",
       "434592  2015-12-29  \n",
       "\n",
       "[434593 rows x 8 columns]"
      ]
     },
     "execution_count": 785,
     "metadata": {},
     "output_type": "execute_result"
    }
   ],
   "source": [
    "data = pd.read_csv(\"../data/clean_data.csv\")\n",
    "data"
   ]
  },
  {
   "cell_type": "markdown",
   "metadata": {},
   "source": [
    "# Calculate AQI"
   ]
  },
  {
   "cell_type": "code",
   "execution_count": 786,
   "metadata": {},
   "outputs": [
    {
     "data": {
      "text/html": [
       "<div>\n",
       "<style scoped>\n",
       "    .dataframe tbody tr th:only-of-type {\n",
       "        vertical-align: middle;\n",
       "    }\n",
       "\n",
       "    .dataframe tbody tr th {\n",
       "        vertical-align: top;\n",
       "    }\n",
       "\n",
       "    .dataframe thead th {\n",
       "        text-align: right;\n",
       "    }\n",
       "</style>\n",
       "<table border=\"1\" class=\"dataframe\">\n",
       "  <thead>\n",
       "    <tr style=\"text-align: right;\">\n",
       "      <th></th>\n",
       "      <th>so2</th>\n",
       "      <th>si</th>\n",
       "    </tr>\n",
       "  </thead>\n",
       "  <tbody>\n",
       "    <tr>\n",
       "      <th>0</th>\n",
       "      <td>4.8</td>\n",
       "      <td>6.000</td>\n",
       "    </tr>\n",
       "    <tr>\n",
       "      <th>1</th>\n",
       "      <td>3.1</td>\n",
       "      <td>3.875</td>\n",
       "    </tr>\n",
       "    <tr>\n",
       "      <th>2</th>\n",
       "      <td>6.2</td>\n",
       "      <td>7.750</td>\n",
       "    </tr>\n",
       "    <tr>\n",
       "      <th>3</th>\n",
       "      <td>6.3</td>\n",
       "      <td>7.875</td>\n",
       "    </tr>\n",
       "    <tr>\n",
       "      <th>4</th>\n",
       "      <td>4.7</td>\n",
       "      <td>5.875</td>\n",
       "    </tr>\n",
       "  </tbody>\n",
       "</table>\n",
       "</div>"
      ],
      "text/plain": [
       "   so2     si\n",
       "0  4.8  6.000\n",
       "1  3.1  3.875\n",
       "2  6.2  7.750\n",
       "3  6.3  7.875\n",
       "4  4.7  5.875"
      ]
     },
     "execution_count": 786,
     "metadata": {},
     "output_type": "execute_result"
    }
   ],
   "source": [
    "def calculate_si(so2):\n",
    "    si=0\n",
    "    if (so2<=40):\n",
    "     si= so2*(50/40)\n",
    "    if (so2>40 and so2<=80):\n",
    "     si= 50+(so2-40)*(50/40)\n",
    "    if (so2>80 and so2<=380):\n",
    "     si= 100+(so2-80)*(100/300)\n",
    "    if (so2>380 and so2<=800):\n",
    "     si= 200+(so2-380)*(100/800)\n",
    "    if (so2>800 and so2<=1600):\n",
    "     si= 300+(so2-800)*(100/800)\n",
    "    if (so2>1600):\n",
    "     si= 400+(so2-1600)*(100/800)\n",
    "    return si\n",
    "data['si']=data['so2'].apply(calculate_si)\n",
    "df= data[['so2','si']]\n",
    "df.head()"
   ]
  },
  {
   "cell_type": "code",
   "execution_count": 787,
   "metadata": {},
   "outputs": [
    {
     "data": {
      "text/html": [
       "<div>\n",
       "<style scoped>\n",
       "    .dataframe tbody tr th:only-of-type {\n",
       "        vertical-align: middle;\n",
       "    }\n",
       "\n",
       "    .dataframe tbody tr th {\n",
       "        vertical-align: top;\n",
       "    }\n",
       "\n",
       "    .dataframe thead th {\n",
       "        text-align: right;\n",
       "    }\n",
       "</style>\n",
       "<table border=\"1\" class=\"dataframe\">\n",
       "  <thead>\n",
       "    <tr style=\"text-align: right;\">\n",
       "      <th></th>\n",
       "      <th>no2</th>\n",
       "      <th>ni</th>\n",
       "    </tr>\n",
       "  </thead>\n",
       "  <tbody>\n",
       "    <tr>\n",
       "      <th>0</th>\n",
       "      <td>17.4</td>\n",
       "      <td>21.750</td>\n",
       "    </tr>\n",
       "    <tr>\n",
       "      <th>1</th>\n",
       "      <td>7.0</td>\n",
       "      <td>8.750</td>\n",
       "    </tr>\n",
       "    <tr>\n",
       "      <th>2</th>\n",
       "      <td>28.5</td>\n",
       "      <td>35.625</td>\n",
       "    </tr>\n",
       "    <tr>\n",
       "      <th>3</th>\n",
       "      <td>14.7</td>\n",
       "      <td>18.375</td>\n",
       "    </tr>\n",
       "    <tr>\n",
       "      <th>4</th>\n",
       "      <td>7.5</td>\n",
       "      <td>9.375</td>\n",
       "    </tr>\n",
       "  </tbody>\n",
       "</table>\n",
       "</div>"
      ],
      "text/plain": [
       "    no2      ni\n",
       "0  17.4  21.750\n",
       "1   7.0   8.750\n",
       "2  28.5  35.625\n",
       "3  14.7  18.375\n",
       "4   7.5   9.375"
      ]
     },
     "execution_count": 787,
     "metadata": {},
     "output_type": "execute_result"
    }
   ],
   "source": [
    "def calculate_ni(no2):\n",
    "    ni=0\n",
    "    if(no2<=40):\n",
    "     ni= no2*50/40\n",
    "    elif(no2>40 and no2<=80):\n",
    "     ni= 50+(no2-14)*(50/40)\n",
    "    elif(no2>80 and no2<=180):\n",
    "     ni= 100+(no2-80)*(100/100)\n",
    "    elif(no2>180 and no2<=280):\n",
    "     ni= 200+(no2-180)*(100/100)\n",
    "    elif(no2>280 and no2<=400):\n",
    "     ni= 300+(no2-280)*(100/120)\n",
    "    else:\n",
    "     ni= 400+(no2-400)*(100/120)\n",
    "    return ni\n",
    "data['ni']=data['no2'].apply(calculate_ni)\n",
    "df= data[['no2','ni']]\n",
    "df.head()"
   ]
  },
  {
   "cell_type": "code",
   "execution_count": 788,
   "metadata": {},
   "outputs": [
    {
     "data": {
      "text/html": [
       "<div>\n",
       "<style scoped>\n",
       "    .dataframe tbody tr th:only-of-type {\n",
       "        vertical-align: middle;\n",
       "    }\n",
       "\n",
       "    .dataframe tbody tr th {\n",
       "        vertical-align: top;\n",
       "    }\n",
       "\n",
       "    .dataframe thead th {\n",
       "        text-align: right;\n",
       "    }\n",
       "</style>\n",
       "<table border=\"1\" class=\"dataframe\">\n",
       "  <thead>\n",
       "    <tr style=\"text-align: right;\">\n",
       "      <th></th>\n",
       "      <th>rspm</th>\n",
       "      <th>rpi</th>\n",
       "    </tr>\n",
       "  </thead>\n",
       "  <tbody>\n",
       "    <tr>\n",
       "      <th>434588</th>\n",
       "      <td>148.0</td>\n",
       "      <td>122.666667</td>\n",
       "    </tr>\n",
       "    <tr>\n",
       "      <th>434589</th>\n",
       "      <td>131.0</td>\n",
       "      <td>117.000000</td>\n",
       "    </tr>\n",
       "    <tr>\n",
       "      <th>434590</th>\n",
       "      <td>140.0</td>\n",
       "      <td>120.000000</td>\n",
       "    </tr>\n",
       "    <tr>\n",
       "      <th>434591</th>\n",
       "      <td>143.0</td>\n",
       "      <td>121.000000</td>\n",
       "    </tr>\n",
       "    <tr>\n",
       "      <th>434592</th>\n",
       "      <td>171.0</td>\n",
       "      <td>130.333333</td>\n",
       "    </tr>\n",
       "  </tbody>\n",
       "</table>\n",
       "</div>"
      ],
      "text/plain": [
       "         rspm         rpi\n",
       "434588  148.0  122.666667\n",
       "434589  131.0  117.000000\n",
       "434590  140.0  120.000000\n",
       "434591  143.0  121.000000\n",
       "434592  171.0  130.333333"
      ]
     },
     "execution_count": 788,
     "metadata": {},
     "output_type": "execute_result"
    }
   ],
   "source": [
    "def calculate_(rspm):\n",
    "    rpi=0\n",
    "    if(rspm<=30):\n",
    "     rpi=rspm*50/30\n",
    "    elif(rspm>30 and rspm<=60):\n",
    "     rpi=50+(rspm-30)*50/30\n",
    "    elif(rspm>60 and rspm<=90):\n",
    "     rpi=100+(rspm-60)*100/30\n",
    "    elif(rspm>90 and rspm<=120):\n",
    "     rpi=200+(rspm-90)*100/30\n",
    "    elif(rspm>120 and rspm<=250):\n",
    "     rpi=300+(rspm-120)*(100/130)\n",
    "    else:\n",
    "     rpi=400+(rspm-250)*(100/130)\n",
    "    return rpi\n",
    "data['rpi']=data['rspm'].apply(calculate_si)\n",
    "df= data[['rspm','rpi']]\n",
    "df.tail()"
   ]
  },
  {
   "cell_type": "code",
   "execution_count": 789,
   "metadata": {},
   "outputs": [
    {
     "data": {
      "text/html": [
       "<div>\n",
       "<style scoped>\n",
       "    .dataframe tbody tr th:only-of-type {\n",
       "        vertical-align: middle;\n",
       "    }\n",
       "\n",
       "    .dataframe tbody tr th {\n",
       "        vertical-align: top;\n",
       "    }\n",
       "\n",
       "    .dataframe thead th {\n",
       "        text-align: right;\n",
       "    }\n",
       "</style>\n",
       "<table border=\"1\" class=\"dataframe\">\n",
       "  <thead>\n",
       "    <tr style=\"text-align: right;\">\n",
       "      <th></th>\n",
       "      <th>spm</th>\n",
       "      <th>spi</th>\n",
       "    </tr>\n",
       "  </thead>\n",
       "  <tbody>\n",
       "    <tr>\n",
       "      <th>0</th>\n",
       "      <td>0.0</td>\n",
       "      <td>0.0</td>\n",
       "    </tr>\n",
       "    <tr>\n",
       "      <th>1</th>\n",
       "      <td>0.0</td>\n",
       "      <td>0.0</td>\n",
       "    </tr>\n",
       "    <tr>\n",
       "      <th>2</th>\n",
       "      <td>0.0</td>\n",
       "      <td>0.0</td>\n",
       "    </tr>\n",
       "    <tr>\n",
       "      <th>3</th>\n",
       "      <td>0.0</td>\n",
       "      <td>0.0</td>\n",
       "    </tr>\n",
       "    <tr>\n",
       "      <th>4</th>\n",
       "      <td>0.0</td>\n",
       "      <td>0.0</td>\n",
       "    </tr>\n",
       "  </tbody>\n",
       "</table>\n",
       "</div>"
      ],
      "text/plain": [
       "   spm  spi\n",
       "0  0.0  0.0\n",
       "1  0.0  0.0\n",
       "2  0.0  0.0\n",
       "3  0.0  0.0\n",
       "4  0.0  0.0"
      ]
     },
     "execution_count": 789,
     "metadata": {},
     "output_type": "execute_result"
    }
   ],
   "source": [
    "def calculate_spi(spm):\n",
    "    spi=0\n",
    "    if(spm<=50):\n",
    "     spi=spm\n",
    "    if(spm<50 and spm<=100):\n",
    "     spi=spm\n",
    "    elif(spm>100 and spm<=250):\n",
    "     spi= 100+(spm-100)*(100/150)\n",
    "    elif(spm>250 and spm<=350):\n",
    "     spi=200+(spm-250)\n",
    "    elif(spm>350 and spm<=450):\n",
    "     spi=300+(spm-350)*(100/80)\n",
    "    else:\n",
    "     spi=400+(spm-430)*(100/80)\n",
    "    return spi\n",
    "data['spi']=data['spm'].apply(calculate_spi)\n",
    "df= data[['spm','spi']]\n",
    "df.head()\n",
    "#many data values of rspm values is unawailable since it was not measure before"
   ]
  },
  {
   "cell_type": "code",
   "execution_count": 790,
   "metadata": {},
   "outputs": [
    {
     "data": {
      "text/html": [
       "<div>\n",
       "<style scoped>\n",
       "    .dataframe tbody tr th:only-of-type {\n",
       "        vertical-align: middle;\n",
       "    }\n",
       "\n",
       "    .dataframe tbody tr th {\n",
       "        vertical-align: top;\n",
       "    }\n",
       "\n",
       "    .dataframe thead th {\n",
       "        text-align: right;\n",
       "    }\n",
       "</style>\n",
       "<table border=\"1\" class=\"dataframe\">\n",
       "  <thead>\n",
       "    <tr style=\"text-align: right;\">\n",
       "      <th></th>\n",
       "      <th>date</th>\n",
       "      <th>type</th>\n",
       "      <th>si</th>\n",
       "      <th>ni</th>\n",
       "      <th>rpi</th>\n",
       "      <th>spi</th>\n",
       "      <th>AQI</th>\n",
       "    </tr>\n",
       "  </thead>\n",
       "  <tbody>\n",
       "    <tr>\n",
       "      <th>0</th>\n",
       "      <td>1990-02-01</td>\n",
       "      <td>Residential</td>\n",
       "      <td>6.000</td>\n",
       "      <td>21.750</td>\n",
       "      <td>0.0</td>\n",
       "      <td>0.0</td>\n",
       "      <td>21.750</td>\n",
       "    </tr>\n",
       "    <tr>\n",
       "      <th>1</th>\n",
       "      <td>1990-02-01</td>\n",
       "      <td>Industrial</td>\n",
       "      <td>3.875</td>\n",
       "      <td>8.750</td>\n",
       "      <td>0.0</td>\n",
       "      <td>0.0</td>\n",
       "      <td>8.750</td>\n",
       "    </tr>\n",
       "    <tr>\n",
       "      <th>2</th>\n",
       "      <td>1990-02-01</td>\n",
       "      <td>Residential</td>\n",
       "      <td>7.750</td>\n",
       "      <td>35.625</td>\n",
       "      <td>0.0</td>\n",
       "      <td>0.0</td>\n",
       "      <td>35.625</td>\n",
       "    </tr>\n",
       "    <tr>\n",
       "      <th>3</th>\n",
       "      <td>1990-03-01</td>\n",
       "      <td>Residential</td>\n",
       "      <td>7.875</td>\n",
       "      <td>18.375</td>\n",
       "      <td>0.0</td>\n",
       "      <td>0.0</td>\n",
       "      <td>18.375</td>\n",
       "    </tr>\n",
       "    <tr>\n",
       "      <th>4</th>\n",
       "      <td>1990-03-01</td>\n",
       "      <td>Industrial</td>\n",
       "      <td>5.875</td>\n",
       "      <td>9.375</td>\n",
       "      <td>0.0</td>\n",
       "      <td>0.0</td>\n",
       "      <td>9.375</td>\n",
       "    </tr>\n",
       "  </tbody>\n",
       "</table>\n",
       "</div>"
      ],
      "text/plain": [
       "         date         type     si      ni  rpi  spi     AQI\n",
       "0  1990-02-01  Residential  6.000  21.750  0.0  0.0  21.750\n",
       "1  1990-02-01   Industrial  3.875   8.750  0.0  0.0   8.750\n",
       "2  1990-02-01  Residential  7.750  35.625  0.0  0.0  35.625\n",
       "3  1990-03-01  Residential  7.875  18.375  0.0  0.0  18.375\n",
       "4  1990-03-01   Industrial  5.875   9.375  0.0  0.0   9.375"
      ]
     },
     "execution_count": 790,
     "metadata": {},
     "output_type": "execute_result"
    }
   ],
   "source": [
    "#function to calculate the air quality index (AQI) of every data value\n",
    "#its is calculated as per indian govt standards\n",
    "def calculate_aqi(si,ni,spi,rpi):\n",
    "    aqi=0\n",
    "    if(si>ni and si>spi and si>rpi):\n",
    "     aqi=si\n",
    "    if(spi>si and spi>ni and spi>rpi):\n",
    "     aqi=spi\n",
    "    if(ni>si and ni>spi and ni>rpi):\n",
    "     aqi=ni\n",
    "    if(rpi>si and rpi>ni and rpi>spi):\n",
    "     aqi=rpi\n",
    "    return aqi\n",
    "data['AQI']=data.apply(lambda x:calculate_aqi(x['si'],x['ni'],x['spi'],x['rpi']),axis=1)\n",
    "df= data[['date','type','si','ni','rpi','spi','AQI']]\n",
    "df.head()"
   ]
  },
  {
   "cell_type": "code",
   "execution_count": 791,
   "metadata": {},
   "outputs": [
    {
     "name": "stdout",
     "output_type": "stream",
     "text": [
      "Outlier count :40163\n",
      "0          21.750000\n",
      "1           8.750000\n",
      "2          35.625000\n",
      "3          18.375000\n",
      "4           9.375000\n",
      "             ...    \n",
      "434588    122.666667\n",
      "434589    117.000000\n",
      "434590    120.000000\n",
      "434591    121.000000\n",
      "434592    130.333333\n",
      "Name: AQI, Length: 394430, dtype: float64\n"
     ]
    },
    {
     "data": {
      "text/html": [
       "<div>\n",
       "<style scoped>\n",
       "    .dataframe tbody tr th:only-of-type {\n",
       "        vertical-align: middle;\n",
       "    }\n",
       "\n",
       "    .dataframe tbody tr th {\n",
       "        vertical-align: top;\n",
       "    }\n",
       "\n",
       "    .dataframe thead th {\n",
       "        text-align: right;\n",
       "    }\n",
       "</style>\n",
       "<table border=\"1\" class=\"dataframe\">\n",
       "  <thead>\n",
       "    <tr style=\"text-align: right;\">\n",
       "      <th></th>\n",
       "      <th>date</th>\n",
       "      <th>type</th>\n",
       "      <th>si</th>\n",
       "      <th>ni</th>\n",
       "      <th>rpi</th>\n",
       "      <th>spi</th>\n",
       "      <th>AQI</th>\n",
       "    </tr>\n",
       "  </thead>\n",
       "  <tbody>\n",
       "    <tr>\n",
       "      <th>0</th>\n",
       "      <td>1990-02-01</td>\n",
       "      <td>Residential</td>\n",
       "      <td>6.000</td>\n",
       "      <td>21.750</td>\n",
       "      <td>0.000000</td>\n",
       "      <td>0.0</td>\n",
       "      <td>21.750000</td>\n",
       "    </tr>\n",
       "    <tr>\n",
       "      <th>1</th>\n",
       "      <td>1990-02-01</td>\n",
       "      <td>Industrial</td>\n",
       "      <td>3.875</td>\n",
       "      <td>8.750</td>\n",
       "      <td>0.000000</td>\n",
       "      <td>0.0</td>\n",
       "      <td>8.750000</td>\n",
       "    </tr>\n",
       "    <tr>\n",
       "      <th>2</th>\n",
       "      <td>1990-02-01</td>\n",
       "      <td>Residential</td>\n",
       "      <td>7.750</td>\n",
       "      <td>35.625</td>\n",
       "      <td>0.000000</td>\n",
       "      <td>0.0</td>\n",
       "      <td>35.625000</td>\n",
       "    </tr>\n",
       "    <tr>\n",
       "      <th>3</th>\n",
       "      <td>1990-03-01</td>\n",
       "      <td>Residential</td>\n",
       "      <td>7.875</td>\n",
       "      <td>18.375</td>\n",
       "      <td>0.000000</td>\n",
       "      <td>0.0</td>\n",
       "      <td>18.375000</td>\n",
       "    </tr>\n",
       "    <tr>\n",
       "      <th>4</th>\n",
       "      <td>1990-03-01</td>\n",
       "      <td>Industrial</td>\n",
       "      <td>5.875</td>\n",
       "      <td>9.375</td>\n",
       "      <td>0.000000</td>\n",
       "      <td>0.0</td>\n",
       "      <td>9.375000</td>\n",
       "    </tr>\n",
       "    <tr>\n",
       "      <th>...</th>\n",
       "      <td>...</td>\n",
       "      <td>...</td>\n",
       "      <td>...</td>\n",
       "      <td>...</td>\n",
       "      <td>...</td>\n",
       "      <td>...</td>\n",
       "      <td>...</td>\n",
       "    </tr>\n",
       "    <tr>\n",
       "      <th>434588</th>\n",
       "      <td>2015-12-15</td>\n",
       "      <td>Residential</td>\n",
       "      <td>25.000</td>\n",
       "      <td>87.500</td>\n",
       "      <td>122.666667</td>\n",
       "      <td>0.0</td>\n",
       "      <td>122.666667</td>\n",
       "    </tr>\n",
       "    <tr>\n",
       "      <th>434589</th>\n",
       "      <td>2015-12-18</td>\n",
       "      <td>Residential</td>\n",
       "      <td>21.250</td>\n",
       "      <td>87.500</td>\n",
       "      <td>117.000000</td>\n",
       "      <td>0.0</td>\n",
       "      <td>117.000000</td>\n",
       "    </tr>\n",
       "    <tr>\n",
       "      <th>434590</th>\n",
       "      <td>2015-12-21</td>\n",
       "      <td>Residential</td>\n",
       "      <td>22.500</td>\n",
       "      <td>88.750</td>\n",
       "      <td>120.000000</td>\n",
       "      <td>0.0</td>\n",
       "      <td>120.000000</td>\n",
       "    </tr>\n",
       "    <tr>\n",
       "      <th>434591</th>\n",
       "      <td>2015-12-24</td>\n",
       "      <td>Residential</td>\n",
       "      <td>27.500</td>\n",
       "      <td>95.000</td>\n",
       "      <td>121.000000</td>\n",
       "      <td>0.0</td>\n",
       "      <td>121.000000</td>\n",
       "    </tr>\n",
       "    <tr>\n",
       "      <th>434592</th>\n",
       "      <td>2015-12-29</td>\n",
       "      <td>Residential</td>\n",
       "      <td>25.000</td>\n",
       "      <td>90.000</td>\n",
       "      <td>130.333333</td>\n",
       "      <td>0.0</td>\n",
       "      <td>130.333333</td>\n",
       "    </tr>\n",
       "  </tbody>\n",
       "</table>\n",
       "<p>434593 rows × 7 columns</p>\n",
       "</div>"
      ],
      "text/plain": [
       "              date         type      si      ni         rpi  spi         AQI\n",
       "0       1990-02-01  Residential   6.000  21.750    0.000000  0.0   21.750000\n",
       "1       1990-02-01   Industrial   3.875   8.750    0.000000  0.0    8.750000\n",
       "2       1990-02-01  Residential   7.750  35.625    0.000000  0.0   35.625000\n",
       "3       1990-03-01  Residential   7.875  18.375    0.000000  0.0   18.375000\n",
       "4       1990-03-01   Industrial   5.875   9.375    0.000000  0.0    9.375000\n",
       "...            ...          ...     ...     ...         ...  ...         ...\n",
       "434588  2015-12-15  Residential  25.000  87.500  122.666667  0.0  122.666667\n",
       "434589  2015-12-18  Residential  21.250  87.500  117.000000  0.0  117.000000\n",
       "434590  2015-12-21  Residential  22.500  88.750  120.000000  0.0  120.000000\n",
       "434591  2015-12-24  Residential  27.500  95.000  121.000000  0.0  121.000000\n",
       "434592  2015-12-29  Residential  25.000  90.000  130.333333  0.0  130.333333\n",
       "\n",
       "[434593 rows x 7 columns]"
      ]
     },
     "execution_count": 791,
     "metadata": {},
     "output_type": "execute_result"
    }
   ],
   "source": [
    "def outlier_clean(df):\n",
    "    Q1 = df.quantile(0.25)\n",
    "    Q3 = df.quantile(0.75)\n",
    "    IQR = Q3 - Q1\n",
    "\n",
    "    # กำหนดช่วงที่ไม่มี Outliers\n",
    "    lower_bound = Q1 - 1.5 * IQR\n",
    "    upper_bound = Q3 + 1.5 * IQR\n",
    "    outlier = df[(df <= lower_bound) | (df >= upper_bound)]\n",
    "    print(f\"Outlier count :{outlier.count()}\")\n",
    "    # ลบ Outliers\n",
    "    return df[(df >= lower_bound) & (df <= upper_bound)]\n",
    "\n",
    "aqi_clean_data = outlier_clean(df[\"AQI\"])\n",
    "print(aqi_clean_data)\n",
    "df.iloc[aqi_clean_data.index]\n",
    "df.reset_index(drop=True)\n",
    "df"
   ]
  },
  {
   "cell_type": "code",
   "execution_count": 792,
   "metadata": {},
   "outputs": [],
   "source": [
    "# df_duplicate = df\n",
    "# df_duplicate[\"count\"] = 0\n",
    "# state_len = df[\"state\"].unique()\n",
    "# print(len(state_len))"
   ]
  },
  {
   "cell_type": "code",
   "execution_count": 793,
   "metadata": {},
   "outputs": [],
   "source": [
    "# # Convert date column to datetime\n",
    "# df[\"date\"] = pd.to_datetime(df[\"date\"])\n",
    "# df=df.set_index('date').resample('M')[\"AQI\"].mean()\n",
    "# df\n",
    "# df.to_csv('../data/cal1.csv', index=True)"
   ]
  },
  {
   "cell_type": "code",
   "execution_count": 794,
   "metadata": {},
   "outputs": [
    {
     "name": "stdout",
     "output_type": "stream",
     "text": [
      "    period         si         ni  rpi         spi         AQI\n",
      "0  1987-01  18.500236  29.364184  0.0  238.133570  242.438652\n",
      "1  1987-02  20.948652  36.680515  0.0  227.525123  235.787929\n",
      "2  1987-03  21.848099  38.427632  0.0  286.692982  294.558772\n",
      "3  1987-04  19.945652  27.054348  0.0  195.811594  202.012681\n",
      "4  1987-05  19.043750  37.813750  0.0  302.379167  307.991667\n"
     ]
    },
    {
     "name": "stderr",
     "output_type": "stream",
     "text": [
      "C:\\Users\\onero\\AppData\\Local\\Temp\\ipykernel_28888\\3885041429.py:2: SettingWithCopyWarning:\n",
      "\n",
      "\n",
      "A value is trying to be set on a copy of a slice from a DataFrame.\n",
      "Try using .loc[row_indexer,col_indexer] = value instead\n",
      "\n",
      "See the caveats in the documentation: https://pandas.pydata.org/pandas-docs/stable/user_guide/indexing.html#returning-a-view-versus-a-copy\n",
      "\n"
     ]
    }
   ],
   "source": [
    "# Convert the 'date' column to datetime\n",
    "df[\"date\"] = pd.to_datetime(df[\"date\"])\n",
    "\n",
    "# Select only numeric columns before applying mean\n",
    "numeric_cols = df.select_dtypes(include=['number']).columns\n",
    "\n",
    "# Group by year and month, calculate mean for numeric columns\n",
    "monthly_mean = df.groupby(df[\"date\"].dt.to_period(\"M\"))[numeric_cols].mean()\n",
    "\n",
    "# Drop the original 'date' column (not needed in the resulting DataFrame)\n",
    "monthly_mean = monthly_mean.drop(columns=['date'], errors='ignore')\n",
    "\n",
    "# Reset index to turn 'period' into a regular column\n",
    "monthly_mean.reset_index(inplace=True)\n",
    "\n",
    "# Rename the index column to 'period'\n",
    "monthly_mean.rename(columns={\"date\": \"period\"}, inplace=True)\n",
    "\n",
    "# Convert 'period' to datetime if desired\n",
    "monthly_mean['date'] = monthly_mean['period'].dt.to_timestamp()\n",
    "\n",
    "# Optional: Drop the 'date' column if it's no longer needed\n",
    "monthly_mean = monthly_mean.drop(columns=['date'], errors='ignore')\n",
    "\n",
    "# Show the first few rows to verify the result\n",
    "print(monthly_mean.head())\n",
    "\n",
    "# Save to CSV\n",
    "monthly_mean.to_csv('../data/cal.csv', index=False)"
   ]
  },
  {
   "cell_type": "code",
   "execution_count": 795,
   "metadata": {},
   "outputs": [
    {
     "name": "stdout",
     "output_type": "stream",
     "text": [
      "<class 'pandas.core.frame.DataFrame'>\n",
      "RangeIndex: 346 entries, 0 to 345\n",
      "Data columns (total 6 columns):\n",
      " #   Column  Non-Null Count  Dtype    \n",
      "---  ------  --------------  -----    \n",
      " 0   period  346 non-null    period[M]\n",
      " 1   si      346 non-null    float64  \n",
      " 2   ni      346 non-null    float64  \n",
      " 3   rpi     346 non-null    float64  \n",
      " 4   spi     346 non-null    float64  \n",
      " 5   AQI     346 non-null    float64  \n",
      "dtypes: float64(5), period[M](1)\n",
      "memory usage: 16.3 KB\n"
     ]
    }
   ],
   "source": [
    "monthly_mean.info()\n"
   ]
  },
  {
   "cell_type": "code",
   "execution_count": 796,
   "metadata": {},
   "outputs": [
    {
     "data": {
      "application/vnd.plotly.v1+json": {
       "config": {
        "plotlyServerURL": "https://plot.ly"
       },
       "data": [
        {
         "line": {
          "color": "blue"
         },
         "mode": "lines",
         "name": "Actual AQI",
         "type": "scatter",
         "x": [
          "1987-01",
          "1987-02",
          "1987-03",
          "1987-04",
          "1987-05",
          "1987-06",
          "1987-07",
          "1987-08",
          "1987-09",
          "1987-10",
          "1987-11",
          "1987-12",
          "1988-01",
          "1988-02",
          "1988-03",
          "1988-04",
          "1988-05",
          "1988-06",
          "1988-07",
          "1988-08",
          "1988-09",
          "1988-10",
          "1988-11",
          "1988-12",
          "1989-01",
          "1989-02",
          "1989-03",
          "1989-04",
          "1989-05",
          "1989-06",
          "1989-07",
          "1989-08",
          "1989-09",
          "1989-10",
          "1989-12",
          "1990-01",
          "1990-02",
          "1990-03",
          "1990-04",
          "1990-05",
          "1990-06",
          "1990-07",
          "1990-08",
          "1990-09",
          "1990-10",
          "1990-11",
          "1990-12",
          "1991-01",
          "1991-02",
          "1991-03",
          "1991-04",
          "1991-05",
          "1991-06",
          "1991-07",
          "1991-08",
          "1991-09",
          "1991-10",
          "1991-11",
          "1991-12",
          "1992-01",
          "1992-02",
          "1992-03",
          "1992-04",
          "1992-05",
          "1992-06",
          "1992-07",
          "1992-08",
          "1992-09",
          "1992-10",
          "1992-11",
          "1992-12",
          "1993-01",
          "1993-02",
          "1993-03",
          "1993-04",
          "1993-05",
          "1993-06",
          "1993-07",
          "1993-08",
          "1993-09",
          "1993-10",
          "1993-11",
          "1993-12",
          "1994-01",
          "1994-02",
          "1994-03",
          "1994-04",
          "1994-05",
          "1994-06",
          "1994-07",
          "1994-08",
          "1994-09",
          "1994-11",
          "1994-12",
          "1995-01",
          "1995-02",
          "1995-03",
          "1995-04",
          "1995-05",
          "1995-06",
          "1995-07",
          "1995-08",
          "1995-09",
          "1995-10",
          "1995-11",
          "1995-12",
          "1996-01",
          "1996-02",
          "1996-03",
          "1996-04",
          "1996-05",
          "1996-06",
          "1996-07",
          "1996-08",
          "1996-09",
          "1996-10",
          "1996-11",
          "1996-12",
          "1997-01",
          "1997-02",
          "1997-03",
          "1997-04",
          "1997-05",
          "1997-06",
          "1997-07",
          "1997-08",
          "1997-09",
          "1997-10",
          "1997-11",
          "1997-12",
          "1998-01",
          "1998-02",
          "1998-03",
          "1998-04",
          "1998-05",
          "1998-06",
          "1998-07",
          "1998-08",
          "1998-09",
          "1998-10",
          "1998-11",
          "1998-12",
          "1999-01",
          "1999-02",
          "1999-03",
          "1999-04",
          "1999-05",
          "1999-06",
          "1999-07",
          "1999-08",
          "1999-09",
          "1999-10",
          "1999-11",
          "1999-12",
          "2000-01",
          "2000-02",
          "2000-03",
          "2000-04",
          "2000-05",
          "2000-06",
          "2000-07",
          "2000-08",
          "2000-09",
          "2000-10",
          "2000-11",
          "2000-12",
          "2001-01",
          "2001-02",
          "2001-03",
          "2001-04",
          "2001-05",
          "2001-06",
          "2001-07",
          "2001-08",
          "2001-09",
          "2001-10",
          "2001-11",
          "2001-12",
          "2002-01",
          "2002-02",
          "2002-03",
          "2002-04",
          "2002-05",
          "2002-06",
          "2002-07",
          "2002-08",
          "2002-09",
          "2002-10",
          "2002-11",
          "2002-12",
          "2003-01",
          "2003-02",
          "2003-03",
          "2003-04",
          "2003-05",
          "2003-06",
          "2003-07",
          "2003-08",
          "2003-09",
          "2003-10",
          "2003-11",
          "2003-12",
          "2004-01",
          "2004-02",
          "2004-03",
          "2004-04",
          "2004-05",
          "2004-06",
          "2004-07",
          "2004-08",
          "2004-09",
          "2004-10",
          "2004-11",
          "2004-12",
          "2005-01",
          "2005-02",
          "2005-03",
          "2005-04",
          "2005-05",
          "2005-06",
          "2005-07",
          "2005-08",
          "2005-09",
          "2005-10",
          "2005-11",
          "2005-12",
          "2006-01",
          "2006-02",
          "2006-03",
          "2006-04",
          "2006-05",
          "2006-06",
          "2006-07",
          "2006-08",
          "2006-09",
          "2006-10",
          "2006-11",
          "2006-12",
          "2007-01",
          "2007-02",
          "2007-03",
          "2007-04",
          "2007-05",
          "2007-06",
          "2007-07",
          "2007-08",
          "2007-09",
          "2007-10",
          "2007-11",
          "2007-12",
          "2008-01",
          "2008-02",
          "2008-03",
          "2008-04",
          "2008-05",
          "2008-06",
          "2008-07",
          "2008-08",
          "2008-09",
          "2008-10",
          "2008-11",
          "2008-12",
          "2009-01",
          "2009-02",
          "2009-03",
          "2009-04",
          "2009-05",
          "2009-06",
          "2009-07",
          "2009-08",
          "2009-09",
          "2009-10",
          "2009-11",
          "2009-12",
          "2010-01",
          "2010-02",
          "2010-03",
          "2010-04",
          "2010-05",
          "2010-06",
          "2010-07",
          "2010-08",
          "2010-09",
          "2010-10",
          "2010-11",
          "2010-12",
          "2011-01",
          "2011-02",
          "2011-03",
          "2011-04",
          "2011-05",
          "2011-06",
          "2011-07",
          "2011-08",
          "2011-09",
          "2011-10",
          "2011-11",
          "2011-12",
          "2012-01",
          "2012-02",
          "2012-03",
          "2012-04",
          "2012-05",
          "2012-06",
          "2012-07",
          "2012-08",
          "2012-09",
          "2012-10",
          "2012-11",
          "2012-12",
          "2013-01",
          "2013-02",
          "2013-03",
          "2013-04",
          "2013-05",
          "2013-06",
          "2013-07",
          "2013-08",
          "2013-09",
          "2013-10",
          "2013-11",
          "2013-12",
          "2014-01",
          "2014-02",
          "2014-03",
          "2014-04",
          "2014-05",
          "2014-06",
          "2014-07",
          "2014-08",
          "2014-09",
          "2014-10",
          "2014-11",
          "2014-12",
          "2015-01",
          "2015-02",
          "2015-03",
          "2015-04",
          "2015-05",
          "2015-06",
          "2015-07",
          "2015-08",
          "2015-09",
          "2015-10",
          "2015-11",
          "2015-12"
         ],
         "y": [
          242.4386524822695,
          235.78792892156864,
          294.55877192982456,
          202.0126811594203,
          307.9916666666667,
          265.91666666666663,
          208.525,
          288.4444444444444,
          250.97916666666666,
          156.625,
          255.0340909090909,
          350.375,
          211.0765015015015,
          209.36088187702265,
          245.01030701754385,
          250.5625,
          175.7657142857143,
          104.22222222222223,
          328.125,
          149.46969696969697,
          212.49166666666665,
          85.94166666666666,
          270.5260416666667,
          302.5,
          236.51331018518516,
          252.2164319248826,
          251.7107594936709,
          245.02058823529413,
          251.66666666666666,
          180.879329004329,
          130.7171497584541,
          128.36263020833334,
          148.05079908675796,
          160.20833333333334,
          226.84277777777777,
          239.07103174603174,
          205.78729838709677,
          210.21239837398375,
          239.9001937984496,
          236.10909669211196,
          254.42756410256413,
          152.7042297979798,
          132.38830532212884,
          125.8150826446281,
          188.14420572916666,
          225.29265873015873,
          236.81303418803418,
          238.06005208333332,
          211.28339201877932,
          212.0055751173709,
          255.282634032634,
          231.8254934210526,
          189.70565476190478,
          161.49070247933884,
          116.02083333333333,
          135.8293388429752,
          199.2883950617284,
          216.52941176470588,
          224.76749363867685,
          177.4851063829787,
          146.105035971223,
          160.80915404040405,
          218.62431129476585,
          227.5147492625369,
          216.29611650485438,
          146.70822368421054,
          100.30229166666666,
          97.74926470588235,
          127.07460317460317,
          147.13921568627453,
          175.77450980392157,
          65.7546130952381,
          69.10677083333333,
          71.53046218487395,
          57.108402777777776,
          48.444607843137256,
          77.10065789473684,
          57.14531746031746,
          63.73757183908046,
          59.50038226299694,
          63.91953125,
          84.99638480392157,
          87.34908854166666,
          205.63634259259257,
          195.73689567430026,
          225.92276995305164,
          193.50754257907542,
          228.47228395061728,
          194.25432098765432,
          136.47733333333335,
          150.80353333333332,
          176.9740990990991,
          230.04403892944038,
          282.91829096045194,
          231.64427777777775,
          234.55105555555556,
          199.28360042735042,
          199.3421633554084,
          212.47441239316237,
          202.4434946236559,
          163.24570063694267,
          144.5897435897436,
          154.6827922077922,
          183.6082207207207,
          223.63442822384428,
          251.99485930735932,
          216.8501893939394,
          227.26704545454547,
          230.2787356321839,
          242.92965686274508,
          244.93798449612405,
          238.81969696969696,
          152.90637550200802,
          149.7356425702811,
          180.1620654396728,
          219.89212398373985,
          244.85640625000002,
          265.813125,
          220.90357142857144,
          228.39416666666665,
          212.58434489402697,
          171.10759493670886,
          185.2120253164557,
          159.4435817805383,
          138.48241308793456,
          123.96270576131687,
          138.69989648033126,
          160.52253668763103,
          172.2560606060606,
          171.92622080679405,
          234.7406565656566,
          227.11179718875502,
          208.3422619047619,
          218.641006097561,
          232.84513052208834,
          188.3827160493827,
          151.28629032258064,
          145.17477924944814,
          159.62138888888887,
          212.1175925925926,
          241.69577205882354,
          281.56404958677683,
          225.43921845574388,
          213.3749521072797,
          229.63181818181818,
          233.21049019607844,
          214.34545454545454,
          195.19977168949774,
          150.83890845070422,
          139.20805180180182,
          146.99773242630386,
          167.00442176870746,
          207.61836854460094,
          234.19738442822384,
          195.77237654320987,
          176.06944444444446,
          181.84832285115303,
          192.32505020080322,
          181.84984662576687,
          151.20299145299145,
          117.52004219409284,
          112.12573839662446,
          123.06826131687244,
          172.57359375,
          191.679375,
          220.1709595959596,
          205.13824662813101,
          207.7809454191033,
          181.42433712121212,
          205.5014367816092,
          185.90549348230914,
          149.00635162601625,
          111.9466765873016,
          119.02119883040936,
          128.72504708097927,
          155.6051029962547,
          189.67217432950193,
          198.49857142857144,
          149.70687134502924,
          141.26583820662768,
          143.21490196078432,
          158.65882352941176,
          155.45397286821705,
          124.34331337325348,
          136.64874301675977,
          106.51119791666666,
          113.00846354166667,
          146.19720767888305,
          160.8813596491228,
          174.8793402777778,
          166.5954356846473,
          123.01759708737865,
          163.48768115942028,
          181.93870192307693,
          269.9472104519774,
          151.80698804185351,
          121.40333333333332,
          125.03907496012759,
          113.86910774410774,
          247.7561274509804,
          237.0077345309381,
          231.92965367965365,
          164.66149553001276,
          166.79201574693423,
          176.30447302958888,
          181.926179007431,
          175.25989247311827,
          150.0716908662199,
          144.17729123173277,
          137.71996138515195,
          138.56565995525727,
          162.8929719020173,
          177.10727398779812,
          191.14591806020067,
          207.54604938271606,
          198.64138783269962,
          196.1247717696629,
          211.0669482386772,
          207.25826348592304,
          190.09788502109703,
          169.01568882466282,
          164.96232334652345,
          158.79644146712275,
          189.35317064152338,
          209.69560646900268,
          219.73845191773205,
          219.82268217054263,
          216.74978132951654,
          198.30501523967857,
          207.7817753473655,
          196.4207779207779,
          179.9836683580536,
          162.13175097015923,
          158.0289913818288,
          160.11282520325202,
          188.7023470052083,
          189.89521448937273,
          207.06396216360244,
          211.2311396967437,
          185.38175194094438,
          191.2287935323383,
          196.26597753491194,
          193.454721776351,
          158.79438883034774,
          151.74596253229976,
          152.0452136752137,
          157.07167915328816,
          185.6433158584535,
          204.38129979783565,
          215.99673120089784,
          214.37425811531008,
          221.06223977467548,
          212.61406160540477,
          204.64669456781687,
          209.09033356618932,
          172.46017081802094,
          166.54133764058386,
          162.69936974789917,
          162.33632966723067,
          204.30622520684574,
          211.54154252017378,
          222.8741285824942,
          221.5075033875339,
          234.3835951495108,
          226.9684667673716,
          212.01865109996137,
          205.0359206724455,
          202.7507519824993,
          162.4571111111111,
          158.14090125053903,
          184.77414951700965,
          202.8761459589867,
          204.27523671962769,
          225.58880494505493,
          188.27164668351992,
          175.79442617128862,
          182.28409450902976,
          177.5436380457794,
          186.7826688591725,
          155.86171411278346,
          129.08778508793034,
          131.11177369338745,
          137.40741516972463,
          153.8060560678479,
          164.78806754921106,
          185.45065869631992,
          117.90074835318266,
          113.97007532108991,
          113.31723648506315,
          110.19436864662043,
          113.41564975184544,
          99.09143881079095,
          96.61572506904675,
          92.54903516988291,
          97.77430772083997,
          110.66054723461865,
          114.13556905864162,
          116.92068637445591,
          99.82545046296296,
          101.88390676993689,
          105.40095111528038,
          98.59253359976316,
          100.57586923688395,
          95.86655168109186,
          89.81062624312624,
          87.12049197742263,
          90.9310938054668,
          98.8465961822101,
          106.3536474072802,
          107.13061008370093,
          106.73296600217385,
          102.91615854836668,
          100.95927311435786,
          101.46820877012593,
          101.43752335060395,
          91.37314373674734,
          87.55959141399345,
          87.05338245966301,
          90.90376391883485,
          93.60479541637059,
          101.6224108740046,
          101.89578681503261,
          102.84965786637392,
          98.58142997226491,
          100.35775714048457,
          97.9909563194885,
          97.28300469691764,
          94.94208114493412,
          87.74510350800317,
          87.80057019731456,
          90.23664066128912,
          96.42985682570625,
          100.6245256820251,
          101.81273448986964,
          101.25205343629068,
          102.45265745387489,
          98.99880762475445,
          98.58963196915876,
          97.99406517526322,
          88.81559513319905,
          82.35363720314515,
          80.74597489910118,
          87.66808324104906,
          96.306726353068,
          102.91394358952682,
          106.08132156058734
         ]
        }
       ],
       "layout": {
        "legend": {
         "x": 0.01,
         "y": 0.99
        },
        "template": {
         "data": {
          "bar": [
           {
            "error_x": {
             "color": "#2a3f5f"
            },
            "error_y": {
             "color": "#2a3f5f"
            },
            "marker": {
             "line": {
              "color": "white",
              "width": 0.5
             },
             "pattern": {
              "fillmode": "overlay",
              "size": 10,
              "solidity": 0.2
             }
            },
            "type": "bar"
           }
          ],
          "barpolar": [
           {
            "marker": {
             "line": {
              "color": "white",
              "width": 0.5
             },
             "pattern": {
              "fillmode": "overlay",
              "size": 10,
              "solidity": 0.2
             }
            },
            "type": "barpolar"
           }
          ],
          "carpet": [
           {
            "aaxis": {
             "endlinecolor": "#2a3f5f",
             "gridcolor": "#C8D4E3",
             "linecolor": "#C8D4E3",
             "minorgridcolor": "#C8D4E3",
             "startlinecolor": "#2a3f5f"
            },
            "baxis": {
             "endlinecolor": "#2a3f5f",
             "gridcolor": "#C8D4E3",
             "linecolor": "#C8D4E3",
             "minorgridcolor": "#C8D4E3",
             "startlinecolor": "#2a3f5f"
            },
            "type": "carpet"
           }
          ],
          "choropleth": [
           {
            "colorbar": {
             "outlinewidth": 0,
             "ticks": ""
            },
            "type": "choropleth"
           }
          ],
          "contour": [
           {
            "colorbar": {
             "outlinewidth": 0,
             "ticks": ""
            },
            "colorscale": [
             [
              0,
              "#0d0887"
             ],
             [
              0.1111111111111111,
              "#46039f"
             ],
             [
              0.2222222222222222,
              "#7201a8"
             ],
             [
              0.3333333333333333,
              "#9c179e"
             ],
             [
              0.4444444444444444,
              "#bd3786"
             ],
             [
              0.5555555555555556,
              "#d8576b"
             ],
             [
              0.6666666666666666,
              "#ed7953"
             ],
             [
              0.7777777777777778,
              "#fb9f3a"
             ],
             [
              0.8888888888888888,
              "#fdca26"
             ],
             [
              1,
              "#f0f921"
             ]
            ],
            "type": "contour"
           }
          ],
          "contourcarpet": [
           {
            "colorbar": {
             "outlinewidth": 0,
             "ticks": ""
            },
            "type": "contourcarpet"
           }
          ],
          "heatmap": [
           {
            "colorbar": {
             "outlinewidth": 0,
             "ticks": ""
            },
            "colorscale": [
             [
              0,
              "#0d0887"
             ],
             [
              0.1111111111111111,
              "#46039f"
             ],
             [
              0.2222222222222222,
              "#7201a8"
             ],
             [
              0.3333333333333333,
              "#9c179e"
             ],
             [
              0.4444444444444444,
              "#bd3786"
             ],
             [
              0.5555555555555556,
              "#d8576b"
             ],
             [
              0.6666666666666666,
              "#ed7953"
             ],
             [
              0.7777777777777778,
              "#fb9f3a"
             ],
             [
              0.8888888888888888,
              "#fdca26"
             ],
             [
              1,
              "#f0f921"
             ]
            ],
            "type": "heatmap"
           }
          ],
          "heatmapgl": [
           {
            "colorbar": {
             "outlinewidth": 0,
             "ticks": ""
            },
            "colorscale": [
             [
              0,
              "#0d0887"
             ],
             [
              0.1111111111111111,
              "#46039f"
             ],
             [
              0.2222222222222222,
              "#7201a8"
             ],
             [
              0.3333333333333333,
              "#9c179e"
             ],
             [
              0.4444444444444444,
              "#bd3786"
             ],
             [
              0.5555555555555556,
              "#d8576b"
             ],
             [
              0.6666666666666666,
              "#ed7953"
             ],
             [
              0.7777777777777778,
              "#fb9f3a"
             ],
             [
              0.8888888888888888,
              "#fdca26"
             ],
             [
              1,
              "#f0f921"
             ]
            ],
            "type": "heatmapgl"
           }
          ],
          "histogram": [
           {
            "marker": {
             "pattern": {
              "fillmode": "overlay",
              "size": 10,
              "solidity": 0.2
             }
            },
            "type": "histogram"
           }
          ],
          "histogram2d": [
           {
            "colorbar": {
             "outlinewidth": 0,
             "ticks": ""
            },
            "colorscale": [
             [
              0,
              "#0d0887"
             ],
             [
              0.1111111111111111,
              "#46039f"
             ],
             [
              0.2222222222222222,
              "#7201a8"
             ],
             [
              0.3333333333333333,
              "#9c179e"
             ],
             [
              0.4444444444444444,
              "#bd3786"
             ],
             [
              0.5555555555555556,
              "#d8576b"
             ],
             [
              0.6666666666666666,
              "#ed7953"
             ],
             [
              0.7777777777777778,
              "#fb9f3a"
             ],
             [
              0.8888888888888888,
              "#fdca26"
             ],
             [
              1,
              "#f0f921"
             ]
            ],
            "type": "histogram2d"
           }
          ],
          "histogram2dcontour": [
           {
            "colorbar": {
             "outlinewidth": 0,
             "ticks": ""
            },
            "colorscale": [
             [
              0,
              "#0d0887"
             ],
             [
              0.1111111111111111,
              "#46039f"
             ],
             [
              0.2222222222222222,
              "#7201a8"
             ],
             [
              0.3333333333333333,
              "#9c179e"
             ],
             [
              0.4444444444444444,
              "#bd3786"
             ],
             [
              0.5555555555555556,
              "#d8576b"
             ],
             [
              0.6666666666666666,
              "#ed7953"
             ],
             [
              0.7777777777777778,
              "#fb9f3a"
             ],
             [
              0.8888888888888888,
              "#fdca26"
             ],
             [
              1,
              "#f0f921"
             ]
            ],
            "type": "histogram2dcontour"
           }
          ],
          "mesh3d": [
           {
            "colorbar": {
             "outlinewidth": 0,
             "ticks": ""
            },
            "type": "mesh3d"
           }
          ],
          "parcoords": [
           {
            "line": {
             "colorbar": {
              "outlinewidth": 0,
              "ticks": ""
             }
            },
            "type": "parcoords"
           }
          ],
          "pie": [
           {
            "automargin": true,
            "type": "pie"
           }
          ],
          "scatter": [
           {
            "fillpattern": {
             "fillmode": "overlay",
             "size": 10,
             "solidity": 0.2
            },
            "type": "scatter"
           }
          ],
          "scatter3d": [
           {
            "line": {
             "colorbar": {
              "outlinewidth": 0,
              "ticks": ""
             }
            },
            "marker": {
             "colorbar": {
              "outlinewidth": 0,
              "ticks": ""
             }
            },
            "type": "scatter3d"
           }
          ],
          "scattercarpet": [
           {
            "marker": {
             "colorbar": {
              "outlinewidth": 0,
              "ticks": ""
             }
            },
            "type": "scattercarpet"
           }
          ],
          "scattergeo": [
           {
            "marker": {
             "colorbar": {
              "outlinewidth": 0,
              "ticks": ""
             }
            },
            "type": "scattergeo"
           }
          ],
          "scattergl": [
           {
            "marker": {
             "colorbar": {
              "outlinewidth": 0,
              "ticks": ""
             }
            },
            "type": "scattergl"
           }
          ],
          "scattermapbox": [
           {
            "marker": {
             "colorbar": {
              "outlinewidth": 0,
              "ticks": ""
             }
            },
            "type": "scattermapbox"
           }
          ],
          "scatterpolar": [
           {
            "marker": {
             "colorbar": {
              "outlinewidth": 0,
              "ticks": ""
             }
            },
            "type": "scatterpolar"
           }
          ],
          "scatterpolargl": [
           {
            "marker": {
             "colorbar": {
              "outlinewidth": 0,
              "ticks": ""
             }
            },
            "type": "scatterpolargl"
           }
          ],
          "scatterternary": [
           {
            "marker": {
             "colorbar": {
              "outlinewidth": 0,
              "ticks": ""
             }
            },
            "type": "scatterternary"
           }
          ],
          "surface": [
           {
            "colorbar": {
             "outlinewidth": 0,
             "ticks": ""
            },
            "colorscale": [
             [
              0,
              "#0d0887"
             ],
             [
              0.1111111111111111,
              "#46039f"
             ],
             [
              0.2222222222222222,
              "#7201a8"
             ],
             [
              0.3333333333333333,
              "#9c179e"
             ],
             [
              0.4444444444444444,
              "#bd3786"
             ],
             [
              0.5555555555555556,
              "#d8576b"
             ],
             [
              0.6666666666666666,
              "#ed7953"
             ],
             [
              0.7777777777777778,
              "#fb9f3a"
             ],
             [
              0.8888888888888888,
              "#fdca26"
             ],
             [
              1,
              "#f0f921"
             ]
            ],
            "type": "surface"
           }
          ],
          "table": [
           {
            "cells": {
             "fill": {
              "color": "#EBF0F8"
             },
             "line": {
              "color": "white"
             }
            },
            "header": {
             "fill": {
              "color": "#C8D4E3"
             },
             "line": {
              "color": "white"
             }
            },
            "type": "table"
           }
          ]
         },
         "layout": {
          "annotationdefaults": {
           "arrowcolor": "#2a3f5f",
           "arrowhead": 0,
           "arrowwidth": 1
          },
          "autotypenumbers": "strict",
          "coloraxis": {
           "colorbar": {
            "outlinewidth": 0,
            "ticks": ""
           }
          },
          "colorscale": {
           "diverging": [
            [
             0,
             "#8e0152"
            ],
            [
             0.1,
             "#c51b7d"
            ],
            [
             0.2,
             "#de77ae"
            ],
            [
             0.3,
             "#f1b6da"
            ],
            [
             0.4,
             "#fde0ef"
            ],
            [
             0.5,
             "#f7f7f7"
            ],
            [
             0.6,
             "#e6f5d0"
            ],
            [
             0.7,
             "#b8e186"
            ],
            [
             0.8,
             "#7fbc41"
            ],
            [
             0.9,
             "#4d9221"
            ],
            [
             1,
             "#276419"
            ]
           ],
           "sequential": [
            [
             0,
             "#0d0887"
            ],
            [
             0.1111111111111111,
             "#46039f"
            ],
            [
             0.2222222222222222,
             "#7201a8"
            ],
            [
             0.3333333333333333,
             "#9c179e"
            ],
            [
             0.4444444444444444,
             "#bd3786"
            ],
            [
             0.5555555555555556,
             "#d8576b"
            ],
            [
             0.6666666666666666,
             "#ed7953"
            ],
            [
             0.7777777777777778,
             "#fb9f3a"
            ],
            [
             0.8888888888888888,
             "#fdca26"
            ],
            [
             1,
             "#f0f921"
            ]
           ],
           "sequentialminus": [
            [
             0,
             "#0d0887"
            ],
            [
             0.1111111111111111,
             "#46039f"
            ],
            [
             0.2222222222222222,
             "#7201a8"
            ],
            [
             0.3333333333333333,
             "#9c179e"
            ],
            [
             0.4444444444444444,
             "#bd3786"
            ],
            [
             0.5555555555555556,
             "#d8576b"
            ],
            [
             0.6666666666666666,
             "#ed7953"
            ],
            [
             0.7777777777777778,
             "#fb9f3a"
            ],
            [
             0.8888888888888888,
             "#fdca26"
            ],
            [
             1,
             "#f0f921"
            ]
           ]
          },
          "colorway": [
           "#636efa",
           "#EF553B",
           "#00cc96",
           "#ab63fa",
           "#FFA15A",
           "#19d3f3",
           "#FF6692",
           "#B6E880",
           "#FF97FF",
           "#FECB52"
          ],
          "font": {
           "color": "#2a3f5f"
          },
          "geo": {
           "bgcolor": "white",
           "lakecolor": "white",
           "landcolor": "white",
           "showlakes": true,
           "showland": true,
           "subunitcolor": "#C8D4E3"
          },
          "hoverlabel": {
           "align": "left"
          },
          "hovermode": "closest",
          "mapbox": {
           "style": "light"
          },
          "paper_bgcolor": "white",
          "plot_bgcolor": "white",
          "polar": {
           "angularaxis": {
            "gridcolor": "#EBF0F8",
            "linecolor": "#EBF0F8",
            "ticks": ""
           },
           "bgcolor": "white",
           "radialaxis": {
            "gridcolor": "#EBF0F8",
            "linecolor": "#EBF0F8",
            "ticks": ""
           }
          },
          "scene": {
           "xaxis": {
            "backgroundcolor": "white",
            "gridcolor": "#DFE8F3",
            "gridwidth": 2,
            "linecolor": "#EBF0F8",
            "showbackground": true,
            "ticks": "",
            "zerolinecolor": "#EBF0F8"
           },
           "yaxis": {
            "backgroundcolor": "white",
            "gridcolor": "#DFE8F3",
            "gridwidth": 2,
            "linecolor": "#EBF0F8",
            "showbackground": true,
            "ticks": "",
            "zerolinecolor": "#EBF0F8"
           },
           "zaxis": {
            "backgroundcolor": "white",
            "gridcolor": "#DFE8F3",
            "gridwidth": 2,
            "linecolor": "#EBF0F8",
            "showbackground": true,
            "ticks": "",
            "zerolinecolor": "#EBF0F8"
           }
          },
          "shapedefaults": {
           "line": {
            "color": "#2a3f5f"
           }
          },
          "ternary": {
           "aaxis": {
            "gridcolor": "#DFE8F3",
            "linecolor": "#A2B1C6",
            "ticks": ""
           },
           "baxis": {
            "gridcolor": "#DFE8F3",
            "linecolor": "#A2B1C6",
            "ticks": ""
           },
           "bgcolor": "white",
           "caxis": {
            "gridcolor": "#DFE8F3",
            "linecolor": "#A2B1C6",
            "ticks": ""
           }
          },
          "title": {
           "x": 0.05
          },
          "xaxis": {
           "automargin": true,
           "gridcolor": "#EBF0F8",
           "linecolor": "#EBF0F8",
           "ticks": "",
           "title": {
            "standoff": 15
           },
           "zerolinecolor": "#EBF0F8",
           "zerolinewidth": 2
          },
          "yaxis": {
           "automargin": true,
           "gridcolor": "#EBF0F8",
           "linecolor": "#EBF0F8",
           "ticks": "",
           "title": {
            "standoff": 15
           },
           "zerolinecolor": "#EBF0F8",
           "zerolinewidth": 2
          }
         }
        },
        "title": {
         "text": "Mean AQI in each month (1987 - 2015)"
        },
        "xaxis": {
         "title": {
          "text": "period"
         }
        },
        "yaxis": {
         "title": {
          "text": "AQI"
         }
        }
       }
      }
     },
     "metadata": {},
     "output_type": "display_data"
    }
   ],
   "source": [
    "plot_monthly = monthly_mean\n",
    "plot_monthly[\"period\"] = monthly_mean[\"period\"].astype(str)\n",
    "\n",
    "fig_new = go.Figure()\n",
    "\n",
    "# Add new data actual AQI (if available)\n",
    "fig_new.add_trace(go.Scatter(x=plot_monthly['period'], y=plot_monthly['AQI'],\n",
    "                                mode='lines', name='Actual AQI',\n",
    "                                line=dict(color='blue')))\n",
    "\n",
    "\n",
    "\n",
    "# Upperiod layout\n",
    "fig_new.update_layout(\n",
    "    title='Mean AQI in each month (1987 - 2015)',\n",
    "    xaxis_title='period',\n",
    "    yaxis_title='AQI',\n",
    "    legend=dict(x=0.01, y=0.99),\n",
    "    template='plotly_white'\n",
    ")\n",
    "\n",
    "# Show the plot\n",
    "fig_new.show()\n"
   ]
  },
  {
   "cell_type": "markdown",
   "metadata": {},
   "source": [
    "# ARiMA Model\n",
    "\n"
   ]
  },
  {
   "cell_type": "code",
   "execution_count": 797,
   "metadata": {},
   "outputs": [
    {
     "name": "stderr",
     "output_type": "stream",
     "text": [
      "C:\\Users\\onero\\AppData\\Local\\Temp\\ipykernel_28888\\3976715143.py:1: SettingWithCopyWarning:\n",
      "\n",
      "\n",
      "A value is trying to be set on a copy of a slice from a DataFrame\n",
      "\n",
      "See the caveats in the documentation: https://pandas.pydata.org/pandas-docs/stable/user_guide/indexing.html#returning-a-view-versus-a-copy\n",
      "\n"
     ]
    },
    {
     "data": {
      "text/html": [
       "<div>\n",
       "<style scoped>\n",
       "    .dataframe tbody tr th:only-of-type {\n",
       "        vertical-align: middle;\n",
       "    }\n",
       "\n",
       "    .dataframe tbody tr th {\n",
       "        vertical-align: top;\n",
       "    }\n",
       "\n",
       "    .dataframe thead th {\n",
       "        text-align: right;\n",
       "    }\n",
       "</style>\n",
       "<table border=\"1\" class=\"dataframe\">\n",
       "  <thead>\n",
       "    <tr style=\"text-align: right;\">\n",
       "      <th></th>\n",
       "      <th>period</th>\n",
       "      <th>type</th>\n",
       "      <th>si</th>\n",
       "      <th>ni</th>\n",
       "      <th>rpi</th>\n",
       "      <th>spi</th>\n",
       "      <th>AQI</th>\n",
       "    </tr>\n",
       "  </thead>\n",
       "  <tbody>\n",
       "    <tr>\n",
       "      <th>0</th>\n",
       "      <td>1990-02-01</td>\n",
       "      <td>Residential</td>\n",
       "      <td>6.000</td>\n",
       "      <td>21.750</td>\n",
       "      <td>0.000000</td>\n",
       "      <td>0.0</td>\n",
       "      <td>21.750000</td>\n",
       "    </tr>\n",
       "    <tr>\n",
       "      <th>1</th>\n",
       "      <td>1990-02-01</td>\n",
       "      <td>Industrial</td>\n",
       "      <td>3.875</td>\n",
       "      <td>8.750</td>\n",
       "      <td>0.000000</td>\n",
       "      <td>0.0</td>\n",
       "      <td>8.750000</td>\n",
       "    </tr>\n",
       "    <tr>\n",
       "      <th>2</th>\n",
       "      <td>1990-02-01</td>\n",
       "      <td>Residential</td>\n",
       "      <td>7.750</td>\n",
       "      <td>35.625</td>\n",
       "      <td>0.000000</td>\n",
       "      <td>0.0</td>\n",
       "      <td>35.625000</td>\n",
       "    </tr>\n",
       "    <tr>\n",
       "      <th>3</th>\n",
       "      <td>1990-03-01</td>\n",
       "      <td>Residential</td>\n",
       "      <td>7.875</td>\n",
       "      <td>18.375</td>\n",
       "      <td>0.000000</td>\n",
       "      <td>0.0</td>\n",
       "      <td>18.375000</td>\n",
       "    </tr>\n",
       "    <tr>\n",
       "      <th>4</th>\n",
       "      <td>1990-03-01</td>\n",
       "      <td>Industrial</td>\n",
       "      <td>5.875</td>\n",
       "      <td>9.375</td>\n",
       "      <td>0.000000</td>\n",
       "      <td>0.0</td>\n",
       "      <td>9.375000</td>\n",
       "    </tr>\n",
       "    <tr>\n",
       "      <th>...</th>\n",
       "      <td>...</td>\n",
       "      <td>...</td>\n",
       "      <td>...</td>\n",
       "      <td>...</td>\n",
       "      <td>...</td>\n",
       "      <td>...</td>\n",
       "      <td>...</td>\n",
       "    </tr>\n",
       "    <tr>\n",
       "      <th>434588</th>\n",
       "      <td>2015-12-15</td>\n",
       "      <td>Residential</td>\n",
       "      <td>25.000</td>\n",
       "      <td>87.500</td>\n",
       "      <td>122.666667</td>\n",
       "      <td>0.0</td>\n",
       "      <td>122.666667</td>\n",
       "    </tr>\n",
       "    <tr>\n",
       "      <th>434589</th>\n",
       "      <td>2015-12-18</td>\n",
       "      <td>Residential</td>\n",
       "      <td>21.250</td>\n",
       "      <td>87.500</td>\n",
       "      <td>117.000000</td>\n",
       "      <td>0.0</td>\n",
       "      <td>117.000000</td>\n",
       "    </tr>\n",
       "    <tr>\n",
       "      <th>434590</th>\n",
       "      <td>2015-12-21</td>\n",
       "      <td>Residential</td>\n",
       "      <td>22.500</td>\n",
       "      <td>88.750</td>\n",
       "      <td>120.000000</td>\n",
       "      <td>0.0</td>\n",
       "      <td>120.000000</td>\n",
       "    </tr>\n",
       "    <tr>\n",
       "      <th>434591</th>\n",
       "      <td>2015-12-24</td>\n",
       "      <td>Residential</td>\n",
       "      <td>27.500</td>\n",
       "      <td>95.000</td>\n",
       "      <td>121.000000</td>\n",
       "      <td>0.0</td>\n",
       "      <td>121.000000</td>\n",
       "    </tr>\n",
       "    <tr>\n",
       "      <th>434592</th>\n",
       "      <td>2015-12-29</td>\n",
       "      <td>Residential</td>\n",
       "      <td>25.000</td>\n",
       "      <td>90.000</td>\n",
       "      <td>130.333333</td>\n",
       "      <td>0.0</td>\n",
       "      <td>130.333333</td>\n",
       "    </tr>\n",
       "  </tbody>\n",
       "</table>\n",
       "<p>434593 rows × 7 columns</p>\n",
       "</div>"
      ],
      "text/plain": [
       "           period         type      si      ni         rpi  spi         AQI\n",
       "0      1990-02-01  Residential   6.000  21.750    0.000000  0.0   21.750000\n",
       "1      1990-02-01   Industrial   3.875   8.750    0.000000  0.0    8.750000\n",
       "2      1990-02-01  Residential   7.750  35.625    0.000000  0.0   35.625000\n",
       "3      1990-03-01  Residential   7.875  18.375    0.000000  0.0   18.375000\n",
       "4      1990-03-01   Industrial   5.875   9.375    0.000000  0.0    9.375000\n",
       "...           ...          ...     ...     ...         ...  ...         ...\n",
       "434588 2015-12-15  Residential  25.000  87.500  122.666667  0.0  122.666667\n",
       "434589 2015-12-18  Residential  21.250  87.500  117.000000  0.0  117.000000\n",
       "434590 2015-12-21  Residential  22.500  88.750  120.000000  0.0  120.000000\n",
       "434591 2015-12-24  Residential  27.500  95.000  121.000000  0.0  121.000000\n",
       "434592 2015-12-29  Residential  25.000  90.000  130.333333  0.0  130.333333\n",
       "\n",
       "[434593 rows x 7 columns]"
      ]
     },
     "execution_count": 797,
     "metadata": {},
     "output_type": "execute_result"
    }
   ],
   "source": [
    "df.rename(columns={\"date\": \"period\"}, inplace=True)\n",
    "df"
   ]
  },
  {
   "cell_type": "code",
   "execution_count": 798,
   "metadata": {},
   "outputs": [
    {
     "data": {
      "text/html": [
       "<div>\n",
       "<style scoped>\n",
       "    .dataframe tbody tr th:only-of-type {\n",
       "        vertical-align: middle;\n",
       "    }\n",
       "\n",
       "    .dataframe tbody tr th {\n",
       "        vertical-align: top;\n",
       "    }\n",
       "\n",
       "    .dataframe thead th {\n",
       "        text-align: right;\n",
       "    }\n",
       "</style>\n",
       "<table border=\"1\" class=\"dataframe\">\n",
       "  <thead>\n",
       "    <tr style=\"text-align: right;\">\n",
       "      <th></th>\n",
       "      <th>period</th>\n",
       "      <th>si</th>\n",
       "      <th>ni</th>\n",
       "      <th>rpi</th>\n",
       "      <th>spi</th>\n",
       "      <th>AQI</th>\n",
       "    </tr>\n",
       "  </thead>\n",
       "  <tbody>\n",
       "    <tr>\n",
       "      <th>0</th>\n",
       "      <td>1987-01</td>\n",
       "      <td>18.500236</td>\n",
       "      <td>29.364184</td>\n",
       "      <td>0.000000</td>\n",
       "      <td>238.133570</td>\n",
       "      <td>242.438652</td>\n",
       "    </tr>\n",
       "    <tr>\n",
       "      <th>1</th>\n",
       "      <td>1987-02</td>\n",
       "      <td>20.948652</td>\n",
       "      <td>36.680515</td>\n",
       "      <td>0.000000</td>\n",
       "      <td>227.525123</td>\n",
       "      <td>235.787929</td>\n",
       "    </tr>\n",
       "    <tr>\n",
       "      <th>2</th>\n",
       "      <td>1987-03</td>\n",
       "      <td>21.848099</td>\n",
       "      <td>38.427632</td>\n",
       "      <td>0.000000</td>\n",
       "      <td>286.692982</td>\n",
       "      <td>294.558772</td>\n",
       "    </tr>\n",
       "    <tr>\n",
       "      <th>3</th>\n",
       "      <td>1987-04</td>\n",
       "      <td>19.945652</td>\n",
       "      <td>27.054348</td>\n",
       "      <td>0.000000</td>\n",
       "      <td>195.811594</td>\n",
       "      <td>202.012681</td>\n",
       "    </tr>\n",
       "    <tr>\n",
       "      <th>4</th>\n",
       "      <td>1987-05</td>\n",
       "      <td>19.043750</td>\n",
       "      <td>37.813750</td>\n",
       "      <td>0.000000</td>\n",
       "      <td>302.379167</td>\n",
       "      <td>307.991667</td>\n",
       "    </tr>\n",
       "    <tr>\n",
       "      <th>...</th>\n",
       "      <td>...</td>\n",
       "      <td>...</td>\n",
       "      <td>...</td>\n",
       "      <td>...</td>\n",
       "      <td>...</td>\n",
       "      <td>...</td>\n",
       "    </tr>\n",
       "    <tr>\n",
       "      <th>341</th>\n",
       "      <td>2015-08</td>\n",
       "      <td>9.173266</td>\n",
       "      <td>26.788795</td>\n",
       "      <td>79.739118</td>\n",
       "      <td>0.000000</td>\n",
       "      <td>80.745975</td>\n",
       "    </tr>\n",
       "    <tr>\n",
       "      <th>342</th>\n",
       "      <td>2015-09</td>\n",
       "      <td>9.110393</td>\n",
       "      <td>28.942988</td>\n",
       "      <td>87.162823</td>\n",
       "      <td>0.000000</td>\n",
       "      <td>87.668083</td>\n",
       "    </tr>\n",
       "    <tr>\n",
       "      <th>343</th>\n",
       "      <td>2015-10</td>\n",
       "      <td>10.090212</td>\n",
       "      <td>33.098520</td>\n",
       "      <td>95.827394</td>\n",
       "      <td>0.000000</td>\n",
       "      <td>96.306726</td>\n",
       "    </tr>\n",
       "    <tr>\n",
       "      <th>344</th>\n",
       "      <td>2015-11</td>\n",
       "      <td>10.655378</td>\n",
       "      <td>36.704568</td>\n",
       "      <td>102.478454</td>\n",
       "      <td>0.000000</td>\n",
       "      <td>102.913944</td>\n",
       "    </tr>\n",
       "    <tr>\n",
       "      <th>345</th>\n",
       "      <td>2015-12</td>\n",
       "      <td>10.912257</td>\n",
       "      <td>38.084521</td>\n",
       "      <td>105.643177</td>\n",
       "      <td>0.000000</td>\n",
       "      <td>106.081322</td>\n",
       "    </tr>\n",
       "  </tbody>\n",
       "</table>\n",
       "<p>346 rows × 6 columns</p>\n",
       "</div>"
      ],
      "text/plain": [
       "      period         si         ni         rpi         spi         AQI\n",
       "0    1987-01  18.500236  29.364184    0.000000  238.133570  242.438652\n",
       "1    1987-02  20.948652  36.680515    0.000000  227.525123  235.787929\n",
       "2    1987-03  21.848099  38.427632    0.000000  286.692982  294.558772\n",
       "3    1987-04  19.945652  27.054348    0.000000  195.811594  202.012681\n",
       "4    1987-05  19.043750  37.813750    0.000000  302.379167  307.991667\n",
       "..       ...        ...        ...         ...         ...         ...\n",
       "341  2015-08   9.173266  26.788795   79.739118    0.000000   80.745975\n",
       "342  2015-09   9.110393  28.942988   87.162823    0.000000   87.668083\n",
       "343  2015-10  10.090212  33.098520   95.827394    0.000000   96.306726\n",
       "344  2015-11  10.655378  36.704568  102.478454    0.000000  102.913944\n",
       "345  2015-12  10.912257  38.084521  105.643177    0.000000  106.081322\n",
       "\n",
       "[346 rows x 6 columns]"
      ]
     },
     "execution_count": 798,
     "metadata": {},
     "output_type": "execute_result"
    }
   ],
   "source": [
    "new_data_A = monthly_mean\n",
    "new_data_A"
   ]
  },
  {
   "cell_type": "code",
   "execution_count": 799,
   "metadata": {},
   "outputs": [
    {
     "data": {
      "text/html": [
       "<div>\n",
       "<style scoped>\n",
       "    .dataframe tbody tr th:only-of-type {\n",
       "        vertical-align: middle;\n",
       "    }\n",
       "\n",
       "    .dataframe tbody tr th {\n",
       "        vertical-align: top;\n",
       "    }\n",
       "\n",
       "    .dataframe thead th {\n",
       "        text-align: right;\n",
       "    }\n",
       "</style>\n",
       "<table border=\"1\" class=\"dataframe\">\n",
       "  <thead>\n",
       "    <tr style=\"text-align: right;\">\n",
       "      <th></th>\n",
       "      <th>si</th>\n",
       "      <th>ni</th>\n",
       "      <th>rpi</th>\n",
       "      <th>spi</th>\n",
       "      <th>AQI</th>\n",
       "    </tr>\n",
       "    <tr>\n",
       "      <th>period</th>\n",
       "      <th></th>\n",
       "      <th></th>\n",
       "      <th></th>\n",
       "      <th></th>\n",
       "      <th></th>\n",
       "    </tr>\n",
       "  </thead>\n",
       "  <tbody>\n",
       "    <tr>\n",
       "      <th>1987-01-01</th>\n",
       "      <td>18.500236</td>\n",
       "      <td>29.364184</td>\n",
       "      <td>0.000000</td>\n",
       "      <td>238.133570</td>\n",
       "      <td>242.438652</td>\n",
       "    </tr>\n",
       "    <tr>\n",
       "      <th>1987-02-01</th>\n",
       "      <td>20.948652</td>\n",
       "      <td>36.680515</td>\n",
       "      <td>0.000000</td>\n",
       "      <td>227.525123</td>\n",
       "      <td>235.787929</td>\n",
       "    </tr>\n",
       "    <tr>\n",
       "      <th>1987-03-01</th>\n",
       "      <td>21.848099</td>\n",
       "      <td>38.427632</td>\n",
       "      <td>0.000000</td>\n",
       "      <td>286.692982</td>\n",
       "      <td>294.558772</td>\n",
       "    </tr>\n",
       "    <tr>\n",
       "      <th>1987-04-01</th>\n",
       "      <td>19.945652</td>\n",
       "      <td>27.054348</td>\n",
       "      <td>0.000000</td>\n",
       "      <td>195.811594</td>\n",
       "      <td>202.012681</td>\n",
       "    </tr>\n",
       "    <tr>\n",
       "      <th>1987-05-01</th>\n",
       "      <td>19.043750</td>\n",
       "      <td>37.813750</td>\n",
       "      <td>0.000000</td>\n",
       "      <td>302.379167</td>\n",
       "      <td>307.991667</td>\n",
       "    </tr>\n",
       "    <tr>\n",
       "      <th>...</th>\n",
       "      <td>...</td>\n",
       "      <td>...</td>\n",
       "      <td>...</td>\n",
       "      <td>...</td>\n",
       "      <td>...</td>\n",
       "    </tr>\n",
       "    <tr>\n",
       "      <th>2015-08-01</th>\n",
       "      <td>9.173266</td>\n",
       "      <td>26.788795</td>\n",
       "      <td>79.739118</td>\n",
       "      <td>0.000000</td>\n",
       "      <td>80.745975</td>\n",
       "    </tr>\n",
       "    <tr>\n",
       "      <th>2015-09-01</th>\n",
       "      <td>9.110393</td>\n",
       "      <td>28.942988</td>\n",
       "      <td>87.162823</td>\n",
       "      <td>0.000000</td>\n",
       "      <td>87.668083</td>\n",
       "    </tr>\n",
       "    <tr>\n",
       "      <th>2015-10-01</th>\n",
       "      <td>10.090212</td>\n",
       "      <td>33.098520</td>\n",
       "      <td>95.827394</td>\n",
       "      <td>0.000000</td>\n",
       "      <td>96.306726</td>\n",
       "    </tr>\n",
       "    <tr>\n",
       "      <th>2015-11-01</th>\n",
       "      <td>10.655378</td>\n",
       "      <td>36.704568</td>\n",
       "      <td>102.478454</td>\n",
       "      <td>0.000000</td>\n",
       "      <td>102.913944</td>\n",
       "    </tr>\n",
       "    <tr>\n",
       "      <th>2015-12-01</th>\n",
       "      <td>10.912257</td>\n",
       "      <td>38.084521</td>\n",
       "      <td>105.643177</td>\n",
       "      <td>0.000000</td>\n",
       "      <td>106.081322</td>\n",
       "    </tr>\n",
       "  </tbody>\n",
       "</table>\n",
       "<p>346 rows × 5 columns</p>\n",
       "</div>"
      ],
      "text/plain": [
       "                   si         ni         rpi         spi         AQI\n",
       "period                                                              \n",
       "1987-01-01  18.500236  29.364184    0.000000  238.133570  242.438652\n",
       "1987-02-01  20.948652  36.680515    0.000000  227.525123  235.787929\n",
       "1987-03-01  21.848099  38.427632    0.000000  286.692982  294.558772\n",
       "1987-04-01  19.945652  27.054348    0.000000  195.811594  202.012681\n",
       "1987-05-01  19.043750  37.813750    0.000000  302.379167  307.991667\n",
       "...               ...        ...         ...         ...         ...\n",
       "2015-08-01   9.173266  26.788795   79.739118    0.000000   80.745975\n",
       "2015-09-01   9.110393  28.942988   87.162823    0.000000   87.668083\n",
       "2015-10-01  10.090212  33.098520   95.827394    0.000000   96.306726\n",
       "2015-11-01  10.655378  36.704568  102.478454    0.000000  102.913944\n",
       "2015-12-01  10.912257  38.084521  105.643177    0.000000  106.081322\n",
       "\n",
       "[346 rows x 5 columns]"
      ]
     },
     "execution_count": 799,
     "metadata": {},
     "output_type": "execute_result"
    }
   ],
   "source": [
    "# new_data_A = monthly_mean.iloc[:,[0,5]]\n",
    "new_data_A['period'] = pd.to_datetime(new_data_A['period'])\n",
    "new_data_A.set_index('period', inplace=True)\n",
    "new_data_A\n"
   ]
  },
  {
   "cell_type": "code",
   "execution_count": 800,
   "metadata": {},
   "outputs": [
    {
     "data": {
      "text/html": [
       "<div>\n",
       "<style scoped>\n",
       "    .dataframe tbody tr th:only-of-type {\n",
       "        vertical-align: middle;\n",
       "    }\n",
       "\n",
       "    .dataframe tbody tr th {\n",
       "        vertical-align: top;\n",
       "    }\n",
       "\n",
       "    .dataframe thead th {\n",
       "        text-align: right;\n",
       "    }\n",
       "</style>\n",
       "<table border=\"1\" class=\"dataframe\">\n",
       "  <thead>\n",
       "    <tr style=\"text-align: right;\">\n",
       "      <th></th>\n",
       "      <th>si</th>\n",
       "      <th>ni</th>\n",
       "      <th>rpi</th>\n",
       "      <th>spi</th>\n",
       "      <th>AQI</th>\n",
       "    </tr>\n",
       "    <tr>\n",
       "      <th>period</th>\n",
       "      <th></th>\n",
       "      <th></th>\n",
       "      <th></th>\n",
       "      <th></th>\n",
       "      <th></th>\n",
       "    </tr>\n",
       "  </thead>\n",
       "  <tbody>\n",
       "    <tr>\n",
       "      <th>1987-01-01</th>\n",
       "      <td>18.500236</td>\n",
       "      <td>29.364184</td>\n",
       "      <td>0.000000</td>\n",
       "      <td>238.133570</td>\n",
       "      <td>242.438652</td>\n",
       "    </tr>\n",
       "    <tr>\n",
       "      <th>1987-02-01</th>\n",
       "      <td>20.948652</td>\n",
       "      <td>36.680515</td>\n",
       "      <td>0.000000</td>\n",
       "      <td>227.525123</td>\n",
       "      <td>235.787929</td>\n",
       "    </tr>\n",
       "    <tr>\n",
       "      <th>1987-03-01</th>\n",
       "      <td>21.848099</td>\n",
       "      <td>38.427632</td>\n",
       "      <td>0.000000</td>\n",
       "      <td>286.692982</td>\n",
       "      <td>294.558772</td>\n",
       "    </tr>\n",
       "    <tr>\n",
       "      <th>1987-04-01</th>\n",
       "      <td>19.945652</td>\n",
       "      <td>27.054348</td>\n",
       "      <td>0.000000</td>\n",
       "      <td>195.811594</td>\n",
       "      <td>202.012681</td>\n",
       "    </tr>\n",
       "    <tr>\n",
       "      <th>1987-05-01</th>\n",
       "      <td>19.043750</td>\n",
       "      <td>37.813750</td>\n",
       "      <td>0.000000</td>\n",
       "      <td>302.379167</td>\n",
       "      <td>307.991667</td>\n",
       "    </tr>\n",
       "    <tr>\n",
       "      <th>...</th>\n",
       "      <td>...</td>\n",
       "      <td>...</td>\n",
       "      <td>...</td>\n",
       "      <td>...</td>\n",
       "      <td>...</td>\n",
       "    </tr>\n",
       "    <tr>\n",
       "      <th>2015-08-01</th>\n",
       "      <td>9.173266</td>\n",
       "      <td>26.788795</td>\n",
       "      <td>79.739118</td>\n",
       "      <td>0.000000</td>\n",
       "      <td>80.745975</td>\n",
       "    </tr>\n",
       "    <tr>\n",
       "      <th>2015-09-01</th>\n",
       "      <td>9.110393</td>\n",
       "      <td>28.942988</td>\n",
       "      <td>87.162823</td>\n",
       "      <td>0.000000</td>\n",
       "      <td>87.668083</td>\n",
       "    </tr>\n",
       "    <tr>\n",
       "      <th>2015-10-01</th>\n",
       "      <td>10.090212</td>\n",
       "      <td>33.098520</td>\n",
       "      <td>95.827394</td>\n",
       "      <td>0.000000</td>\n",
       "      <td>96.306726</td>\n",
       "    </tr>\n",
       "    <tr>\n",
       "      <th>2015-11-01</th>\n",
       "      <td>10.655378</td>\n",
       "      <td>36.704568</td>\n",
       "      <td>102.478454</td>\n",
       "      <td>0.000000</td>\n",
       "      <td>102.913944</td>\n",
       "    </tr>\n",
       "    <tr>\n",
       "      <th>2015-12-01</th>\n",
       "      <td>10.912257</td>\n",
       "      <td>38.084521</td>\n",
       "      <td>105.643177</td>\n",
       "      <td>0.000000</td>\n",
       "      <td>106.081322</td>\n",
       "    </tr>\n",
       "  </tbody>\n",
       "</table>\n",
       "<p>346 rows × 5 columns</p>\n",
       "</div>"
      ],
      "text/plain": [
       "                   si         ni         rpi         spi         AQI\n",
       "period                                                              \n",
       "1987-01-01  18.500236  29.364184    0.000000  238.133570  242.438652\n",
       "1987-02-01  20.948652  36.680515    0.000000  227.525123  235.787929\n",
       "1987-03-01  21.848099  38.427632    0.000000  286.692982  294.558772\n",
       "1987-04-01  19.945652  27.054348    0.000000  195.811594  202.012681\n",
       "1987-05-01  19.043750  37.813750    0.000000  302.379167  307.991667\n",
       "...               ...        ...         ...         ...         ...\n",
       "2015-08-01   9.173266  26.788795   79.739118    0.000000   80.745975\n",
       "2015-09-01   9.110393  28.942988   87.162823    0.000000   87.668083\n",
       "2015-10-01  10.090212  33.098520   95.827394    0.000000   96.306726\n",
       "2015-11-01  10.655378  36.704568  102.478454    0.000000  102.913944\n",
       "2015-12-01  10.912257  38.084521  105.643177    0.000000  106.081322\n",
       "\n",
       "[346 rows x 5 columns]"
      ]
     },
     "execution_count": 800,
     "metadata": {},
     "output_type": "execute_result"
    }
   ],
   "source": [
    "new_data_A['AQI'] = new_data_A['AQI'].interpolate(method='linear')\n",
    "new_data_A"
   ]
  },
  {
   "cell_type": "code",
   "execution_count": 801,
   "metadata": {},
   "outputs": [
    {
     "data": {
      "image/png": "[encoded data removed]",
      "text/plain": [
       "<Figure size 640x480 with 4 Axes>"
      ]
     },
     "execution_count": 801,
     "metadata": {},
     "output_type": "execute_result"
    },
    {
     "data": {
      "image/png": "[encoded data removed]",
      "text/plain": [
       "<Figure size 640x480 with 4 Axes>"
      ]
     },
     "metadata": {},
     "output_type": "display_data"
    }
   ],
   "source": [
    "from statsmodels.tsa.seasonal import seasonal_decompose\n",
    "result = seasonal_decompose(new_data_A['AQI'], model='additive', period=12)\n",
    "result.plot()"
   ]
  },
  {
   "cell_type": "code",
   "execution_count": 802,
   "metadata": {},
   "outputs": [
    {
     "data": {
      "image/png": "[encoded data removed]",
      "text/plain": [
       "<Figure size 1000x500 with 1 Axes>"
      ]
     },
     "metadata": {},
     "output_type": "display_data"
    }
   ],
   "source": [
    "import matplotlib.pyplot as plt\n",
    "plt.figure(figsize=(10, 5))\n",
    "plt.plot(new_data_A.index, new_data_A['AQI'], label='AQI')\n",
    "plt.title('AQI Over Time')\n",
    "plt.xlabel('Time')\n",
    "plt.ylabel('AQI')\n",
    "plt.legend()\n",
    "plt.show()"
   ]
  },
  {
   "cell_type": "code",
   "execution_count": 803,
   "metadata": {},
   "outputs": [
    {
     "name": "stdout",
     "output_type": "stream",
     "text": [
      "ADF Statistic: -2.8099020513809725\n",
      "p-value: 0.056873192395829934\n"
     ]
    }
   ],
   "source": [
    "from statsmodels.tsa.stattools import adfuller\n",
    "adf_result = adfuller(new_data_A['AQI'])\n",
    "print(f'ADF Statistic: {adf_result[0]}')\n",
    "print(f'p-value: {adf_result[1]}')"
   ]
  },
  {
   "cell_type": "code",
   "execution_count": 804,
   "metadata": {},
   "outputs": [
    {
     "name": "stdout",
     "output_type": "stream",
     "text": [
      "ADF Statistic (Log): -3.0495887793008887\n",
      "p-value (Log): 0.03051583359674713\n"
     ]
    }
   ],
   "source": [
    "new_data_A['log_AQI'] = np.log(new_data_A['AQI'])\n",
    "\n",
    "# ADF test on log-transformed data\n",
    "adf_result = adfuller(new_data_A['log_AQI'].dropna())  # Drop NaNs if any are introduced\n",
    "print(f'ADF Statistic (Log): {adf_result[0]}')\n",
    "print(f'p-value (Log): {adf_result[1]}')\n",
    "\n",
    "# Check stationarity and apply differencing if necessary\n",
    "if adf_result[1] >= 0.05:\n",
    "    # First differencing\n",
    "    new_data_A['log_diff_AQI'] = new_data_A['log_AQI'].diff()\n",
    "    adf_result_diff = adfuller(new_data_A['log_diff_AQI'].dropna())\n",
    "    print(f'ADF Statistic (Log + Diff): {adf_result_diff[0]}')\n",
    "    print(f'p-value (Log + Diff): {adf_result_diff[1]}')"
   ]
  },
  {
   "cell_type": "code",
   "execution_count": 805,
   "metadata": {},
   "outputs": [
    {
     "data": {
      "application/vnd.plotly.v1+json": {
       "config": {
        "plotlyServerURL": "https://plot.ly"
       },
       "data": [
        {
         "line": {
          "color": "blue"
         },
         "mode": "lines",
         "name": "Actual AQI",
         "type": "scatter",
         "x": [
          "1987-01-01",
          "1987-02-01",
          "1987-03-01",
          "1987-04-01",
          "1987-05-01",
          "1987-06-01",
          "1987-07-01",
          "1987-08-01",
          "1987-09-01",
          "1987-10-01",
          "1987-11-01",
          "1987-12-01",
          "1988-01-01",
          "1988-02-01",
          "1988-03-01",
          "1988-04-01",
          "1988-05-01",
          "1988-06-01",
          "1988-07-01",
          "1988-08-01",
          "1988-09-01",
          "1988-10-01",
          "1988-11-01",
          "1988-12-01",
          "1989-01-01",
          "1989-02-01",
          "1989-03-01",
          "1989-04-01",
          "1989-05-01",
          "1989-06-01",
          "1989-07-01",
          "1989-08-01",
          "1989-09-01",
          "1989-10-01",
          "1989-12-01",
          "1990-01-01",
          "1990-02-01",
          "1990-03-01",
          "1990-04-01",
          "1990-05-01",
          "1990-06-01",
          "1990-07-01",
          "1990-08-01",
          "1990-09-01",
          "1990-10-01",
          "1990-11-01",
          "1990-12-01",
          "1991-01-01",
          "1991-02-01",
          "1991-03-01",
          "1991-04-01",
          "1991-05-01",
          "1991-06-01",
          "1991-07-01",
          "1991-08-01",
          "1991-09-01",
          "1991-10-01",
          "1991-11-01",
          "1991-12-01",
          "1992-01-01",
          "1992-02-01",
          "1992-03-01",
          "1992-04-01",
          "1992-05-01",
          "1992-06-01",
          "1992-07-01",
          "1992-08-01",
          "1992-09-01",
          "1992-10-01",
          "1992-11-01",
          "1992-12-01",
          "1993-01-01",
          "1993-02-01",
          "1993-03-01",
          "1993-04-01",
          "1993-05-01",
          "1993-06-01",
          "1993-07-01",
          "1993-08-01",
          "1993-09-01",
          "1993-10-01",
          "1993-11-01",
          "1993-12-01",
          "1994-01-01",
          "1994-02-01",
          "1994-03-01",
          "1994-04-01",
          "1994-05-01",
          "1994-06-01",
          "1994-07-01",
          "1994-08-01",
          "1994-09-01",
          "1994-11-01",
          "1994-12-01",
          "1995-01-01",
          "1995-02-01",
          "1995-03-01",
          "1995-04-01",
          "1995-05-01",
          "1995-06-01",
          "1995-07-01",
          "1995-08-01",
          "1995-09-01",
          "1995-10-01",
          "1995-11-01",
          "1995-12-01",
          "1996-01-01",
          "1996-02-01",
          "1996-03-01",
          "1996-04-01",
          "1996-05-01",
          "1996-06-01",
          "1996-07-01",
          "1996-08-01",
          "1996-09-01",
          "1996-10-01",
          "1996-11-01",
          "1996-12-01",
          "1997-01-01",
          "1997-02-01",
          "1997-03-01",
          "1997-04-01",
          "1997-05-01",
          "1997-06-01",
          "1997-07-01",
          "1997-08-01",
          "1997-09-01",
          "1997-10-01",
          "1997-11-01",
          "1997-12-01",
          "1998-01-01",
          "1998-02-01",
          "1998-03-01",
          "1998-04-01",
          "1998-05-01",
          "1998-06-01",
          "1998-07-01",
          "1998-08-01",
          "1998-09-01",
          "1998-10-01",
          "1998-11-01",
          "1998-12-01",
          "1999-01-01",
          "1999-02-01",
          "1999-03-01",
          "1999-04-01",
          "1999-05-01",
          "1999-06-01",
          "1999-07-01",
          "1999-08-01",
          "1999-09-01",
          "1999-10-01",
          "1999-11-01",
          "1999-12-01",
          "2000-01-01",
          "2000-02-01",
          "2000-03-01",
          "2000-04-01",
          "2000-05-01",
          "2000-06-01",
          "2000-07-01",
          "2000-08-01",
          "2000-09-01",
          "2000-10-01",
          "2000-11-01",
          "2000-12-01",
          "2001-01-01",
          "2001-02-01",
          "2001-03-01",
          "2001-04-01",
          "2001-05-01",
          "2001-06-01",
          "2001-07-01",
          "2001-08-01",
          "2001-09-01",
          "2001-10-01",
          "2001-11-01",
          "2001-12-01",
          "2002-01-01",
          "2002-02-01",
          "2002-03-01",
          "2002-04-01",
          "2002-05-01",
          "2002-06-01",
          "2002-07-01",
          "2002-08-01",
          "2002-09-01",
          "2002-10-01",
          "2002-11-01",
          "2002-12-01",
          "2003-01-01",
          "2003-02-01",
          "2003-03-01",
          "2003-04-01",
          "2003-05-01",
          "2003-06-01",
          "2003-07-01",
          "2003-08-01",
          "2003-09-01",
          "2003-10-01",
          "2003-11-01",
          "2003-12-01",
          "2004-01-01",
          "2004-02-01",
          "2004-03-01",
          "2004-04-01",
          "2004-05-01",
          "2004-06-01",
          "2004-07-01",
          "2004-08-01",
          "2004-09-01",
          "2004-10-01",
          "2004-11-01",
          "2004-12-01",
          "2005-01-01",
          "2005-02-01",
          "2005-03-01",
          "2005-04-01",
          "2005-05-01",
          "2005-06-01",
          "2005-07-01",
          "2005-08-01",
          "2005-09-01",
          "2005-10-01",
          "2005-11-01",
          "2005-12-01",
          "2006-01-01",
          "2006-02-01",
          "2006-03-01",
          "2006-04-01",
          "2006-05-01",
          "2006-06-01",
          "2006-07-01",
          "2006-08-01",
          "2006-09-01",
          "2006-10-01",
          "2006-11-01",
          "2006-12-01",
          "2007-01-01",
          "2007-02-01",
          "2007-03-01",
          "2007-04-01",
          "2007-05-01",
          "2007-06-01",
          "2007-07-01",
          "2007-08-01",
          "2007-09-01",
          "2007-10-01",
          "2007-11-01",
          "2007-12-01",
          "2008-01-01",
          "2008-02-01",
          "2008-03-01",
          "2008-04-01",
          "2008-05-01",
          "2008-06-01",
          "2008-07-01",
          "2008-08-01",
          "2008-09-01",
          "2008-10-01",
          "2008-11-01",
          "2008-12-01",
          "2009-01-01",
          "2009-02-01",
          "2009-03-01",
          "2009-04-01",
          "2009-05-01",
          "2009-06-01",
          "2009-07-01",
          "2009-08-01",
          "2009-09-01",
          "2009-10-01",
          "2009-11-01",
          "2009-12-01",
          "2010-01-01",
          "2010-02-01",
          "2010-03-01",
          "2010-04-01",
          "2010-05-01",
          "2010-06-01",
          "2010-07-01",
          "2010-08-01",
          "2010-09-01",
          "2010-10-01",
          "2010-11-01",
          "2010-12-01",
          "2011-01-01",
          "2011-02-01",
          "2011-03-01",
          "2011-04-01",
          "2011-05-01",
          "2011-06-01",
          "2011-07-01",
          "2011-08-01",
          "2011-09-01",
          "2011-10-01",
          "2011-11-01",
          "2011-12-01",
          "2012-01-01",
          "2012-02-01",
          "2012-03-01",
          "2012-04-01",
          "2012-05-01",
          "2012-06-01",
          "2012-07-01",
          "2012-08-01",
          "2012-09-01",
          "2012-10-01",
          "2012-11-01",
          "2012-12-01",
          "2013-01-01",
          "2013-02-01",
          "2013-03-01",
          "2013-04-01",
          "2013-05-01",
          "2013-06-01",
          "2013-07-01",
          "2013-08-01",
          "2013-09-01",
          "2013-10-01",
          "2013-11-01",
          "2013-12-01",
          "2014-01-01",
          "2014-02-01",
          "2014-03-01",
          "2014-04-01",
          "2014-05-01",
          "2014-06-01",
          "2014-07-01",
          "2014-08-01",
          "2014-09-01",
          "2014-10-01",
          "2014-11-01",
          "2014-12-01",
          "2015-01-01",
          "2015-02-01",
          "2015-03-01",
          "2015-04-01",
          "2015-05-01",
          "2015-06-01",
          "2015-07-01",
          "2015-08-01",
          "2015-09-01",
          "2015-10-01",
          "2015-11-01",
          "2015-12-01"
         ],
         "y": [
          5.490748698918279,
          5.462932794772425,
          5.685478548307909,
          5.30833047344768,
          5.730072726330491,
          5.583182976490243,
          5.340058938127676,
          5.664502500487761,
          5.525369934358962,
          5.053854413216232,
          5.541397226062308,
          5.859004009484952,
          5.352220634122594,
          5.344059470464751,
          5.501300279119195,
          5.523708390402725,
          5.169151939414687,
          4.6465253716700055,
          5.793394633345888,
          5.00709367643029,
          5.358902771909242,
          4.453668771534023,
          5.600368365987834,
          5.7120812774708964,
          5.466004486201127,
          5.530287575749694,
          5.528280648520721,
          5.5013422406275465,
          5.528105460580915,
          5.197830118345015,
          4.873035826700586,
          4.854859306903748,
          4.997555451944436,
          5.076475051591799,
          5.424257168608578,
          5.476760711733455,
          5.326843103259619,
          5.34811844040454,
          5.480222977675458,
          5.464293972328965,
          5.539016175056353,
          5.028502911893205,
          4.885739311219014,
          4.83481323091612,
          5.237208720546991,
          5.417400262487247,
          5.467270944518832,
          5.472522961522089,
          5.353200322473688,
          5.356612572049681,
          5.542371300126698,
          5.445984905104396,
          5.245473685468249,
          5.084447571218131,
          4.753769772681777,
          4.911399236289425,
          5.294752997032328,
          5.377726389322805,
          5.415066506312329,
          5.1788866976934935,
          4.984325787507042,
          5.080218283236488,
          5.387354783166924,
          5.427215068212746,
          5.376648378590041,
          4.988445741411501,
          4.608188542829176,
          4.582405676646721,
          4.844774340562819,
          4.991379184098954,
          5.169201979311156,
          4.185929829741002,
          4.235652711983922,
          4.2701234035124465,
          4.044951264815491,
          3.880421038915923,
          4.345111813538544,
          4.045597452681361,
          4.154774213489177,
          4.085982737119131,
          4.157624968045648,
          4.442608723867248,
          4.469912601971151,
          5.326109281542817,
          5.276771388437458,
          5.420193214999242,
          5.265316491446971,
          5.4314149073564195,
          5.269168233467041,
          4.916158544670107,
          5.015977885891759,
          5.176003389092693,
          5.438270764200727,
          5.645158131432917,
          5.445202909540626,
          5.457673285107788,
          5.29472893796931,
          5.295022762071012,
          5.358821568846861,
          5.310460808712471,
          5.0952564317420075,
          4.973900377677536,
          5.041376518087627,
          5.2128042523513365,
          5.410012701806966,
          5.529408687729378,
          5.379206743667848,
          5.426125737745417,
          5.43929046922533,
          5.492771923502635,
          5.501005053997696,
          5.4757088612395854,
          5.0298258092665495,
          5.008871356407717,
          5.193856809359814,
          5.393137080565224,
          5.5006719417840015,
          5.582793524292536,
          5.397726277921323,
          5.43107293746738,
          5.35933882676206,
          5.142292568789139,
          5.221501251618459,
          5.071690140407218,
          4.930743336250032,
          4.819980760378301,
          4.932312580963847,
          5.078434348211996,
          5.148982094215638,
          5.147065435990892,
          5.458481315659021,
          5.4254423948726345,
          5.339182217292808,
          5.387431143226317,
          5.450373556699897,
          5.238475617219297,
          5.01917400414797,
          4.977938390674544,
          5.072804691630963,
          5.357140802933324,
          5.487679795040196,
          5.640359951314356,
          5.418050581393757,
          5.363050956661292,
          5.436477235775225,
          5.45194143715276,
          5.367588987059657,
          5.274023504354833,
          5.016212435892906,
          4.935969589631203,
          4.990417160988357,
          5.118020289723159,
          5.335701627842891,
          5.4561642829894845,
          5.276952640180519,
          5.170878487922671,
          5.203172948685784,
          5.259186910365649,
          5.203181328021957,
          5.018623248291724,
          4.7666088909031075,
          4.719620905834417,
          4.812739171489361,
          5.150823775925309,
          5.255824054279031,
          5.39440433364752,
          5.32368412564634,
          5.3364843777287865,
          5.200838691422992,
          5.325453025549849,
          5.225238445029402,
          5.003988933399421,
          4.718022656023506,
          4.77930161867824,
          4.857678711680666,
          5.047321406812277,
          5.245297183680731,
          5.290781903267955,
          5.0086791911405735,
          4.950643492637055,
          4.964346313084223,
          5.066756132804211,
          5.046349693387684,
          4.823046396171957,
          4.917413713771651,
          4.668250124379591,
          4.727462714506401,
          4.984956447809639,
          5.080667196753416,
          5.164096251993035,
          5.1155683325065855,
          4.812327410890535,
          5.09673764290806,
          5.203669827725598,
          5.598226423037937,
          5.022609898433287,
          4.799118335689416,
          4.828626288134221,
          4.735049611050247,
          5.512444905299738,
          5.468092775754254,
          5.446434108788727,
          5.103891824362817,
          5.116747621554359,
          5.17221246077561,
          5.20360099494559,
          5.16626997209972,
          5.011113119027871,
          4.97104373139346,
          4.925222358083643,
          4.931344292386731,
          5.093093371043261,
          5.17675561671663,
          5.253037105272507,
          5.335353239785083,
          5.291501127848378,
          5.278751047354179,
          5.352175373380864,
          5.333965665287715,
          5.247539123820168,
          5.1299915438963595,
          5.105717104471864,
          5.06762313966474,
          5.243613899079664,
          5.345656986181487,
          5.392437984184353,
          5.392821231233782,
          5.37874360679978,
          5.2898063263793,
          5.336488371967061,
          5.2802591842185675,
          5.192866115429727,
          5.0884092822949345,
          5.06277850595319,
          5.0758787242474055,
          5.240170890056607,
          5.2464724173394295,
          5.333027741495382,
          5.352952982709586,
          5.2224172229421635,
          5.253470583067575,
          5.2794707675391965,
          5.265043489100654,
          5.067610213367258,
          5.022207823538213,
          5.0241779350038644,
          5.056702256275217,
          5.223827175980604,
          5.3199873658753365,
          5.375263274240479,
          5.367723357227616,
          5.398444289807757,
          5.359478604856108,
          5.32128505117258,
          5.342766376605553,
          5.150166316002761,
          5.115243552723201,
          5.091904140510662,
          5.089670292153153,
          5.3196199722690185,
          5.354421397733838,
          5.406607166282197,
          5.400456464250188,
          5.456959068690163,
          5.424811094913042,
          5.356674247688884,
          5.323185186581105,
          5.311977401903561,
          5.09041403530978,
          5.06348641569407,
          5.219134265857,
          5.312595674415163,
          5.319468284098286,
          5.418713894922117,
          5.237885849091954,
          5.169315279238143,
          5.205566428887692,
          5.179216426845003,
          5.229945742364007,
          5.048969166127193,
          4.8604926774810355,
          4.876050193704355,
          4.922950346088408,
          5.035692432550206,
          5.1046602092059645,
          5.222788855810229,
          4.76984315487842,
          4.735935916752657,
          4.730191287840589,
          4.702245794202762,
          4.7310593866382185,
          4.596043048207503,
          4.570741513364227,
          4.52773861400442,
          4.582661840287593,
          4.706467382646772,
          4.737386944122354,
          4.761495810688147,
          4.603423165465655,
          4.623833996155944,
          4.657771659930687,
          4.590995534601039,
          4.610912360471971,
          4.56295713774578,
          4.497703300636236,
          4.467292125732528,
          4.510102008758916,
          4.593569114852892,
          4.666769837318418,
          4.67404874505617,
          4.670330070309949,
          4.633914662080027,
          4.614717199028057,
          4.619745535332636,
          4.619443075471742,
          4.514951603081076,
          4.4723196062892,
          4.4665215219746734,
          4.509801407574085,
          4.539081615252059,
          4.621264090288856,
          4.623950593103364,
          4.633268289563282,
          4.590882906875666,
          4.608741373106654,
          4.584875191958085,
          4.577624304839109,
          4.553267033516309,
          4.474436060310474,
          4.475067994894636,
          4.50243556034238,
          4.568815871772733,
          4.611396022008613,
          4.623135189513642,
          4.617612986633248,
          4.629400813380951,
          4.595107805867658,
          4.590966103637075,
          4.584906917400685,
          4.486562255447944,
          4.411022623263895,
          4.391308114409631,
          4.47355790202225,
          4.567538164267924,
          4.633893139874898,
          4.664205984510283
         ]
        }
       ],
       "layout": {
        "legend": {
         "x": 0.01,
         "y": 0.99
        },
        "template": {
         "data": {
          "bar": [
           {
            "error_x": {
             "color": "#2a3f5f"
            },
            "error_y": {
             "color": "#2a3f5f"
            },
            "marker": {
             "line": {
              "color": "white",
              "width": 0.5
             },
             "pattern": {
              "fillmode": "overlay",
              "size": 10,
              "solidity": 0.2
             }
            },
            "type": "bar"
           }
          ],
          "barpolar": [
           {
            "marker": {
             "line": {
              "color": "white",
              "width": 0.5
             },
             "pattern": {
              "fillmode": "overlay",
              "size": 10,
              "solidity": 0.2
             }
            },
            "type": "barpolar"
           }
          ],
          "carpet": [
           {
            "aaxis": {
             "endlinecolor": "#2a3f5f",
             "gridcolor": "#C8D4E3",
             "linecolor": "#C8D4E3",
             "minorgridcolor": "#C8D4E3",
             "startlinecolor": "#2a3f5f"
            },
            "baxis": {
             "endlinecolor": "#2a3f5f",
             "gridcolor": "#C8D4E3",
             "linecolor": "#C8D4E3",
             "minorgridcolor": "#C8D4E3",
             "startlinecolor": "#2a3f5f"
            },
            "type": "carpet"
           }
          ],
          "choropleth": [
           {
            "colorbar": {
             "outlinewidth": 0,
             "ticks": ""
            },
            "type": "choropleth"
           }
          ],
          "contour": [
           {
            "colorbar": {
             "outlinewidth": 0,
             "ticks": ""
            },
            "colorscale": [
             [
              0,
              "#0d0887"
             ],
             [
              0.1111111111111111,
              "#46039f"
             ],
             [
              0.2222222222222222,
              "#7201a8"
             ],
             [
              0.3333333333333333,
              "#9c179e"
             ],
             [
              0.4444444444444444,
              "#bd3786"
             ],
             [
              0.5555555555555556,
              "#d8576b"
             ],
             [
              0.6666666666666666,
              "#ed7953"
             ],
             [
              0.7777777777777778,
              "#fb9f3a"
             ],
             [
              0.8888888888888888,
              "#fdca26"
             ],
             [
              1,
              "#f0f921"
             ]
            ],
            "type": "contour"
           }
          ],
          "contourcarpet": [
           {
            "colorbar": {
             "outlinewidth": 0,
             "ticks": ""
            },
            "type": "contourcarpet"
           }
          ],
          "heatmap": [
           {
            "colorbar": {
             "outlinewidth": 0,
             "ticks": ""
            },
            "colorscale": [
             [
              0,
              "#0d0887"
             ],
             [
              0.1111111111111111,
              "#46039f"
             ],
             [
              0.2222222222222222,
              "#7201a8"
             ],
             [
              0.3333333333333333,
              "#9c179e"
             ],
             [
              0.4444444444444444,
              "#bd3786"
             ],
             [
              0.5555555555555556,
              "#d8576b"
             ],
             [
              0.6666666666666666,
              "#ed7953"
             ],
             [
              0.7777777777777778,
              "#fb9f3a"
             ],
             [
              0.8888888888888888,
              "#fdca26"
             ],
             [
              1,
              "#f0f921"
             ]
            ],
            "type": "heatmap"
           }
          ],
          "heatmapgl": [
           {
            "colorbar": {
             "outlinewidth": 0,
             "ticks": ""
            },
            "colorscale": [
             [
              0,
              "#0d0887"
             ],
             [
              0.1111111111111111,
              "#46039f"
             ],
             [
              0.2222222222222222,
              "#7201a8"
             ],
             [
              0.3333333333333333,
              "#9c179e"
             ],
             [
              0.4444444444444444,
              "#bd3786"
             ],
             [
              0.5555555555555556,
              "#d8576b"
             ],
             [
              0.6666666666666666,
              "#ed7953"
             ],
             [
              0.7777777777777778,
              "#fb9f3a"
             ],
             [
              0.8888888888888888,
              "#fdca26"
             ],
             [
              1,
              "#f0f921"
             ]
            ],
            "type": "heatmapgl"
           }
          ],
          "histogram": [
           {
            "marker": {
             "pattern": {
              "fillmode": "overlay",
              "size": 10,
              "solidity": 0.2
             }
            },
            "type": "histogram"
           }
          ],
          "histogram2d": [
           {
            "colorbar": {
             "outlinewidth": 0,
             "ticks": ""
            },
            "colorscale": [
             [
              0,
              "#0d0887"
             ],
             [
              0.1111111111111111,
              "#46039f"
             ],
             [
              0.2222222222222222,
              "#7201a8"
             ],
             [
              0.3333333333333333,
              "#9c179e"
             ],
             [
              0.4444444444444444,
              "#bd3786"
             ],
             [
              0.5555555555555556,
              "#d8576b"
             ],
             [
              0.6666666666666666,
              "#ed7953"
             ],
             [
              0.7777777777777778,
              "#fb9f3a"
             ],
             [
              0.8888888888888888,
              "#fdca26"
             ],
             [
              1,
              "#f0f921"
             ]
            ],
            "type": "histogram2d"
           }
          ],
          "histogram2dcontour": [
           {
            "colorbar": {
             "outlinewidth": 0,
             "ticks": ""
            },
            "colorscale": [
             [
              0,
              "#0d0887"
             ],
             [
              0.1111111111111111,
              "#46039f"
             ],
             [
              0.2222222222222222,
              "#7201a8"
             ],
             [
              0.3333333333333333,
              "#9c179e"
             ],
             [
              0.4444444444444444,
              "#bd3786"
             ],
             [
              0.5555555555555556,
              "#d8576b"
             ],
             [
              0.6666666666666666,
              "#ed7953"
             ],
             [
              0.7777777777777778,
              "#fb9f3a"
             ],
             [
              0.8888888888888888,
              "#fdca26"
             ],
             [
              1,
              "#f0f921"
             ]
            ],
            "type": "histogram2dcontour"
           }
          ],
          "mesh3d": [
           {
            "colorbar": {
             "outlinewidth": 0,
             "ticks": ""
            },
            "type": "mesh3d"
           }
          ],
          "parcoords": [
           {
            "line": {
             "colorbar": {
              "outlinewidth": 0,
              "ticks": ""
             }
            },
            "type": "parcoords"
           }
          ],
          "pie": [
           {
            "automargin": true,
            "type": "pie"
           }
          ],
          "scatter": [
           {
            "fillpattern": {
             "fillmode": "overlay",
             "size": 10,
             "solidity": 0.2
            },
            "type": "scatter"
           }
          ],
          "scatter3d": [
           {
            "line": {
             "colorbar": {
              "outlinewidth": 0,
              "ticks": ""
             }
            },
            "marker": {
             "colorbar": {
              "outlinewidth": 0,
              "ticks": ""
             }
            },
            "type": "scatter3d"
           }
          ],
          "scattercarpet": [
           {
            "marker": {
             "colorbar": {
              "outlinewidth": 0,
              "ticks": ""
             }
            },
            "type": "scattercarpet"
           }
          ],
          "scattergeo": [
           {
            "marker": {
             "colorbar": {
              "outlinewidth": 0,
              "ticks": ""
             }
            },
            "type": "scattergeo"
           }
          ],
          "scattergl": [
           {
            "marker": {
             "colorbar": {
              "outlinewidth": 0,
              "ticks": ""
             }
            },
            "type": "scattergl"
           }
          ],
          "scattermapbox": [
           {
            "marker": {
             "colorbar": {
              "outlinewidth": 0,
              "ticks": ""
             }
            },
            "type": "scattermapbox"
           }
          ],
          "scatterpolar": [
           {
            "marker": {
             "colorbar": {
              "outlinewidth": 0,
              "ticks": ""
             }
            },
            "type": "scatterpolar"
           }
          ],
          "scatterpolargl": [
           {
            "marker": {
             "colorbar": {
              "outlinewidth": 0,
              "ticks": ""
             }
            },
            "type": "scatterpolargl"
           }
          ],
          "scatterternary": [
           {
            "marker": {
             "colorbar": {
              "outlinewidth": 0,
              "ticks": ""
             }
            },
            "type": "scatterternary"
           }
          ],
          "surface": [
           {
            "colorbar": {
             "outlinewidth": 0,
             "ticks": ""
            },
            "colorscale": [
             [
              0,
              "#0d0887"
             ],
             [
              0.1111111111111111,
              "#46039f"
             ],
             [
              0.2222222222222222,
              "#7201a8"
             ],
             [
              0.3333333333333333,
              "#9c179e"
             ],
             [
              0.4444444444444444,
              "#bd3786"
             ],
             [
              0.5555555555555556,
              "#d8576b"
             ],
             [
              0.6666666666666666,
              "#ed7953"
             ],
             [
              0.7777777777777778,
              "#fb9f3a"
             ],
             [
              0.8888888888888888,
              "#fdca26"
             ],
             [
              1,
              "#f0f921"
             ]
            ],
            "type": "surface"
           }
          ],
          "table": [
           {
            "cells": {
             "fill": {
              "color": "#EBF0F8"
             },
             "line": {
              "color": "white"
             }
            },
            "header": {
             "fill": {
              "color": "#C8D4E3"
             },
             "line": {
              "color": "white"
             }
            },
            "type": "table"
           }
          ]
         },
         "layout": {
          "annotationdefaults": {
           "arrowcolor": "#2a3f5f",
           "arrowhead": 0,
           "arrowwidth": 1
          },
          "autotypenumbers": "strict",
          "coloraxis": {
           "colorbar": {
            "outlinewidth": 0,
            "ticks": ""
           }
          },
          "colorscale": {
           "diverging": [
            [
             0,
             "#8e0152"
            ],
            [
             0.1,
             "#c51b7d"
            ],
            [
             0.2,
             "#de77ae"
            ],
            [
             0.3,
             "#f1b6da"
            ],
            [
             0.4,
             "#fde0ef"
            ],
            [
             0.5,
             "#f7f7f7"
            ],
            [
             0.6,
             "#e6f5d0"
            ],
            [
             0.7,
             "#b8e186"
            ],
            [
             0.8,
             "#7fbc41"
            ],
            [
             0.9,
             "#4d9221"
            ],
            [
             1,
             "#276419"
            ]
           ],
           "sequential": [
            [
             0,
             "#0d0887"
            ],
            [
             0.1111111111111111,
             "#46039f"
            ],
            [
             0.2222222222222222,
             "#7201a8"
            ],
            [
             0.3333333333333333,
             "#9c179e"
            ],
            [
             0.4444444444444444,
             "#bd3786"
            ],
            [
             0.5555555555555556,
             "#d8576b"
            ],
            [
             0.6666666666666666,
             "#ed7953"
            ],
            [
             0.7777777777777778,
             "#fb9f3a"
            ],
            [
             0.8888888888888888,
             "#fdca26"
            ],
            [
             1,
             "#f0f921"
            ]
           ],
           "sequentialminus": [
            [
             0,
             "#0d0887"
            ],
            [
             0.1111111111111111,
             "#46039f"
            ],
            [
             0.2222222222222222,
             "#7201a8"
            ],
            [
             0.3333333333333333,
             "#9c179e"
            ],
            [
             0.4444444444444444,
             "#bd3786"
            ],
            [
             0.5555555555555556,
             "#d8576b"
            ],
            [
             0.6666666666666666,
             "#ed7953"
            ],
            [
             0.7777777777777778,
             "#fb9f3a"
            ],
            [
             0.8888888888888888,
             "#fdca26"
            ],
            [
             1,
             "#f0f921"
            ]
           ]
          },
          "colorway": [
           "#636efa",
           "#EF553B",
           "#00cc96",
           "#ab63fa",
           "#FFA15A",
           "#19d3f3",
           "#FF6692",
           "#B6E880",
           "#FF97FF",
           "#FECB52"
          ],
          "font": {
           "color": "#2a3f5f"
          },
          "geo": {
           "bgcolor": "white",
           "lakecolor": "white",
           "landcolor": "white",
           "showlakes": true,
           "showland": true,
           "subunitcolor": "#C8D4E3"
          },
          "hoverlabel": {
           "align": "left"
          },
          "hovermode": "closest",
          "mapbox": {
           "style": "light"
          },
          "paper_bgcolor": "white",
          "plot_bgcolor": "white",
          "polar": {
           "angularaxis": {
            "gridcolor": "#EBF0F8",
            "linecolor": "#EBF0F8",
            "ticks": ""
           },
           "bgcolor": "white",
           "radialaxis": {
            "gridcolor": "#EBF0F8",
            "linecolor": "#EBF0F8",
            "ticks": ""
           }
          },
          "scene": {
           "xaxis": {
            "backgroundcolor": "white",
            "gridcolor": "#DFE8F3",
            "gridwidth": 2,
            "linecolor": "#EBF0F8",
            "showbackground": true,
            "ticks": "",
            "zerolinecolor": "#EBF0F8"
           },
           "yaxis": {
            "backgroundcolor": "white",
            "gridcolor": "#DFE8F3",
            "gridwidth": 2,
            "linecolor": "#EBF0F8",
            "showbackground": true,
            "ticks": "",
            "zerolinecolor": "#EBF0F8"
           },
           "zaxis": {
            "backgroundcolor": "white",
            "gridcolor": "#DFE8F3",
            "gridwidth": 2,
            "linecolor": "#EBF0F8",
            "showbackground": true,
            "ticks": "",
            "zerolinecolor": "#EBF0F8"
           }
          },
          "shapedefaults": {
           "line": {
            "color": "#2a3f5f"
           }
          },
          "ternary": {
           "aaxis": {
            "gridcolor": "#DFE8F3",
            "linecolor": "#A2B1C6",
            "ticks": ""
           },
           "baxis": {
            "gridcolor": "#DFE8F3",
            "linecolor": "#A2B1C6",
            "ticks": ""
           },
           "bgcolor": "white",
           "caxis": {
            "gridcolor": "#DFE8F3",
            "linecolor": "#A2B1C6",
            "ticks": ""
           }
          },
          "title": {
           "x": 0.05
          },
          "xaxis": {
           "automargin": true,
           "gridcolor": "#EBF0F8",
           "linecolor": "#EBF0F8",
           "ticks": "",
           "title": {
            "standoff": 15
           },
           "zerolinecolor": "#EBF0F8",
           "zerolinewidth": 2
          },
          "yaxis": {
           "automargin": true,
           "gridcolor": "#EBF0F8",
           "linecolor": "#EBF0F8",
           "ticks": "",
           "title": {
            "standoff": 15
           },
           "zerolinecolor": "#EBF0F8",
           "zerolinewidth": 2
          }
         }
        },
        "title": {
         "text": "Log AQI in each month (1987 - 2015)"
        },
        "xaxis": {
         "title": {
          "text": "period"
         }
        },
        "yaxis": {
         "title": {
          "text": "AQI"
         }
        }
       }
      }
     },
     "metadata": {},
     "output_type": "display_data"
    }
   ],
   "source": [
    "plot_data_A = new_data_A.reset_index()\n",
    "plot_data_A[\"period\"] = plot_data_A[\"period\"].astype(str)\n",
    "fig_new = go.Figure()\n",
    "\n",
    "# Add new data actual AQI (if available)\n",
    "fig_new.add_trace(go.Scatter(x=plot_data_A['period'], y=plot_data_A['log_AQI'],\n",
    "                                mode='lines', name='Actual AQI',\n",
    "                                line=dict(color='blue')))\n",
    "\n",
    "\n",
    "\n",
    "# Upperiod layout\n",
    "fig_new.update_layout(\n",
    "    title='Log AQI in each month (1987 - 2015)',\n",
    "    xaxis_title='period',\n",
    "    yaxis_title='AQI',\n",
    "    legend=dict(x=0.01, y=0.99),\n",
    "    template='plotly_white'\n",
    ")\n",
    "\n",
    "# Show the plot\n",
    "fig_new.show()"
   ]
  },
  {
   "cell_type": "code",
   "execution_count": 806,
   "metadata": {},
   "outputs": [
    {
     "data": {
      "text/plain": [
       "period\n",
       "1987-01-01    5.490749\n",
       "1987-02-01    5.462933\n",
       "1987-03-01    5.685479\n",
       "1987-04-01    5.308330\n",
       "1987-05-01    5.730073\n",
       "                ...   \n",
       "2015-02-01    4.629401\n",
       "2015-03-01    4.595108\n",
       "2015-04-01    4.590966\n",
       "2015-05-01    4.584907\n",
       "2015-06-01    4.486562\n",
       "Name: log_AQI, Length: 340, dtype: float64"
      ]
     },
     "execution_count": 806,
     "metadata": {},
     "output_type": "execute_result"
    }
   ],
   "source": [
    "new_data_B = new_data_A.iloc[:340,5]\n",
    "new_data_B"
   ]
  },
  {
   "cell_type": "code",
   "execution_count": 807,
   "metadata": {},
   "outputs": [
    {
     "data": {
      "text/html": [
       "<div>\n",
       "<style scoped>\n",
       "    .dataframe tbody tr th:only-of-type {\n",
       "        vertical-align: middle;\n",
       "    }\n",
       "\n",
       "    .dataframe tbody tr th {\n",
       "        vertical-align: top;\n",
       "    }\n",
       "\n",
       "    .dataframe thead th {\n",
       "        text-align: right;\n",
       "    }\n",
       "</style>\n",
       "<table border=\"1\" class=\"dataframe\">\n",
       "  <thead>\n",
       "    <tr style=\"text-align: right;\">\n",
       "      <th></th>\n",
       "      <th>si</th>\n",
       "      <th>ni</th>\n",
       "      <th>rpi</th>\n",
       "      <th>spi</th>\n",
       "      <th>AQI</th>\n",
       "      <th>log_AQI</th>\n",
       "    </tr>\n",
       "    <tr>\n",
       "      <th>period</th>\n",
       "      <th></th>\n",
       "      <th></th>\n",
       "      <th></th>\n",
       "      <th></th>\n",
       "      <th></th>\n",
       "      <th></th>\n",
       "    </tr>\n",
       "  </thead>\n",
       "  <tbody>\n",
       "    <tr>\n",
       "      <th>1987-01-01</th>\n",
       "      <td>18.500236</td>\n",
       "      <td>29.364184</td>\n",
       "      <td>0.000000</td>\n",
       "      <td>238.133570</td>\n",
       "      <td>242.438652</td>\n",
       "      <td>5.490749</td>\n",
       "    </tr>\n",
       "    <tr>\n",
       "      <th>1987-02-01</th>\n",
       "      <td>20.948652</td>\n",
       "      <td>36.680515</td>\n",
       "      <td>0.000000</td>\n",
       "      <td>227.525123</td>\n",
       "      <td>235.787929</td>\n",
       "      <td>5.462933</td>\n",
       "    </tr>\n",
       "    <tr>\n",
       "      <th>1987-03-01</th>\n",
       "      <td>21.848099</td>\n",
       "      <td>38.427632</td>\n",
       "      <td>0.000000</td>\n",
       "      <td>286.692982</td>\n",
       "      <td>294.558772</td>\n",
       "      <td>5.685479</td>\n",
       "    </tr>\n",
       "    <tr>\n",
       "      <th>1987-04-01</th>\n",
       "      <td>19.945652</td>\n",
       "      <td>27.054348</td>\n",
       "      <td>0.000000</td>\n",
       "      <td>195.811594</td>\n",
       "      <td>202.012681</td>\n",
       "      <td>5.308330</td>\n",
       "    </tr>\n",
       "    <tr>\n",
       "      <th>1987-05-01</th>\n",
       "      <td>19.043750</td>\n",
       "      <td>37.813750</td>\n",
       "      <td>0.000000</td>\n",
       "      <td>302.379167</td>\n",
       "      <td>307.991667</td>\n",
       "      <td>5.730073</td>\n",
       "    </tr>\n",
       "    <tr>\n",
       "      <th>...</th>\n",
       "      <td>...</td>\n",
       "      <td>...</td>\n",
       "      <td>...</td>\n",
       "      <td>...</td>\n",
       "      <td>...</td>\n",
       "      <td>...</td>\n",
       "    </tr>\n",
       "    <tr>\n",
       "      <th>2015-08-01</th>\n",
       "      <td>9.173266</td>\n",
       "      <td>26.788795</td>\n",
       "      <td>79.739118</td>\n",
       "      <td>0.000000</td>\n",
       "      <td>80.745975</td>\n",
       "      <td>4.391308</td>\n",
       "    </tr>\n",
       "    <tr>\n",
       "      <th>2015-09-01</th>\n",
       "      <td>9.110393</td>\n",
       "      <td>28.942988</td>\n",
       "      <td>87.162823</td>\n",
       "      <td>0.000000</td>\n",
       "      <td>87.668083</td>\n",
       "      <td>4.473558</td>\n",
       "    </tr>\n",
       "    <tr>\n",
       "      <th>2015-10-01</th>\n",
       "      <td>10.090212</td>\n",
       "      <td>33.098520</td>\n",
       "      <td>95.827394</td>\n",
       "      <td>0.000000</td>\n",
       "      <td>96.306726</td>\n",
       "      <td>4.567538</td>\n",
       "    </tr>\n",
       "    <tr>\n",
       "      <th>2015-11-01</th>\n",
       "      <td>10.655378</td>\n",
       "      <td>36.704568</td>\n",
       "      <td>102.478454</td>\n",
       "      <td>0.000000</td>\n",
       "      <td>102.913944</td>\n",
       "      <td>4.633893</td>\n",
       "    </tr>\n",
       "    <tr>\n",
       "      <th>2015-12-01</th>\n",
       "      <td>10.912257</td>\n",
       "      <td>38.084521</td>\n",
       "      <td>105.643177</td>\n",
       "      <td>0.000000</td>\n",
       "      <td>106.081322</td>\n",
       "      <td>4.664206</td>\n",
       "    </tr>\n",
       "  </tbody>\n",
       "</table>\n",
       "<p>346 rows × 6 columns</p>\n",
       "</div>"
      ],
      "text/plain": [
       "                   si         ni         rpi         spi         AQI   log_AQI\n",
       "period                                                                        \n",
       "1987-01-01  18.500236  29.364184    0.000000  238.133570  242.438652  5.490749\n",
       "1987-02-01  20.948652  36.680515    0.000000  227.525123  235.787929  5.462933\n",
       "1987-03-01  21.848099  38.427632    0.000000  286.692982  294.558772  5.685479\n",
       "1987-04-01  19.945652  27.054348    0.000000  195.811594  202.012681  5.308330\n",
       "1987-05-01  19.043750  37.813750    0.000000  302.379167  307.991667  5.730073\n",
       "...               ...        ...         ...         ...         ...       ...\n",
       "2015-08-01   9.173266  26.788795   79.739118    0.000000   80.745975  4.391308\n",
       "2015-09-01   9.110393  28.942988   87.162823    0.000000   87.668083  4.473558\n",
       "2015-10-01  10.090212  33.098520   95.827394    0.000000   96.306726  4.567538\n",
       "2015-11-01  10.655378  36.704568  102.478454    0.000000  102.913944  4.633893\n",
       "2015-12-01  10.912257  38.084521  105.643177    0.000000  106.081322  4.664206\n",
       "\n",
       "[346 rows x 6 columns]"
      ]
     },
     "execution_count": 807,
     "metadata": {},
     "output_type": "execute_result"
    }
   ],
   "source": [
    "new_data_A"
   ]
  },
  {
   "cell_type": "code",
   "execution_count": 808,
   "metadata": {},
   "outputs": [
    {
     "name": "stdout",
     "output_type": "stream",
     "text": [
      "Performing stepwise search to minimize aic\n",
      " ARIMA(2,1,2)(0,0,0)[0] intercept   : AIC=-119.410, Time=0.85 sec\n",
      " ARIMA(0,1,0)(0,0,0)[0] intercept   : AIC=-86.039, Time=0.03 sec\n",
      " ARIMA(1,1,0)(0,0,0)[0] intercept   : AIC=-94.477, Time=0.03 sec\n",
      " ARIMA(0,1,1)(0,0,0)[0] intercept   : AIC=-96.384, Time=0.12 sec\n",
      " ARIMA(0,1,0)(0,0,0)[0]             : AIC=-87.973, Time=0.04 sec\n",
      " ARIMA(1,1,2)(0,0,0)[0] intercept   : AIC=-118.246, Time=0.41 sec\n",
      " ARIMA(2,1,1)(0,0,0)[0] intercept   : AIC=-118.271, Time=0.90 sec\n",
      " ARIMA(3,1,2)(0,0,0)[0] intercept   : AIC=-122.408, Time=0.67 sec\n",
      " ARIMA(3,1,1)(0,0,0)[0] intercept   : AIC=-122.750, Time=0.39 sec\n",
      " ARIMA(3,1,0)(0,0,0)[0] intercept   : AIC=-113.112, Time=0.12 sec\n",
      " ARIMA(4,1,1)(0,0,0)[0] intercept   : AIC=-124.177, Time=0.60 sec\n",
      " ARIMA(4,1,0)(0,0,0)[0] intercept   : AIC=-115.633, Time=0.12 sec\n",
      " ARIMA(5,1,1)(0,0,0)[0] intercept   : AIC=-122.864, Time=0.78 sec\n",
      " ARIMA(4,1,2)(0,0,0)[0] intercept   : AIC=-120.449, Time=0.44 sec\n",
      " ARIMA(5,1,0)(0,0,0)[0] intercept   : AIC=-114.658, Time=0.14 sec\n",
      " ARIMA(5,1,2)(0,0,0)[0] intercept   : AIC=-120.676, Time=0.82 sec\n",
      " ARIMA(4,1,1)(0,0,0)[0]             : AIC=-125.188, Time=0.17 sec\n",
      " ARIMA(3,1,1)(0,0,0)[0]             : AIC=-124.202, Time=0.08 sec\n",
      " ARIMA(4,1,0)(0,0,0)[0]             : AIC=-117.439, Time=0.04 sec\n",
      " ARIMA(5,1,1)(0,0,0)[0]             : AIC=-123.564, Time=0.44 sec\n",
      " ARIMA(4,1,2)(0,0,0)[0]             : AIC=-123.474, Time=0.38 sec\n",
      " ARIMA(3,1,0)(0,0,0)[0]             : AIC=-114.960, Time=0.09 sec\n",
      " ARIMA(3,1,2)(0,0,0)[0]             : AIC=-123.782, Time=0.16 sec\n",
      " ARIMA(5,1,0)(0,0,0)[0]             : AIC=-116.441, Time=0.06 sec\n",
      " ARIMA(5,1,2)(0,0,0)[0]             : AIC=-121.940, Time=0.36 sec\n",
      "\n",
      "Best model:  ARIMA(4,1,1)(0,0,0)[0]          \n",
      "Total fit time: 8.266 seconds\n"
     ]
    },
    {
     "name": "stderr",
     "output_type": "stream",
     "text": [
      "c:\\Users\\onero\\Desktop\\Dumb\\swu\\indian-air\\myenv\\Lib\\site-packages\\statsmodels\\tsa\\base\\tsa_model.py:837: ValueWarning:\n",
      "\n",
      "No supported index is available. Prediction results will be given with an integer index beginning at `start`.\n",
      "\n",
      "c:\\Users\\onero\\Desktop\\Dumb\\swu\\indian-air\\myenv\\Lib\\site-packages\\statsmodels\\tsa\\base\\tsa_model.py:837: FutureWarning:\n",
      "\n",
      "No supported index is available. In the next version, calling this method in a model without a supported index will result in an exception.\n",
      "\n"
     ]
    }
   ],
   "source": [
    "from pmdarima import auto_arima\n",
    "model = auto_arima(new_data_B, seasonal=False, trace=True)\n",
    "arima_forecast = model.predict(n_periods=6)\n"
   ]
  },
  {
   "cell_type": "code",
   "execution_count": 809,
   "metadata": {},
   "outputs": [
    {
     "data": {
      "text/plain": [
       "340    4.512040\n",
       "341    4.522112\n",
       "342    4.549118\n",
       "343    4.550015\n",
       "344    4.554003\n",
       "345    4.552753\n",
       "dtype: float64"
      ]
     },
     "execution_count": 809,
     "metadata": {},
     "output_type": "execute_result"
    }
   ],
   "source": [
    "arima_forecast"
   ]
  },
  {
   "cell_type": "code",
   "execution_count": 810,
   "metadata": {},
   "outputs": [
    {
     "data": {
      "text/html": [
       "<div>\n",
       "<style scoped>\n",
       "    .dataframe tbody tr th:only-of-type {\n",
       "        vertical-align: middle;\n",
       "    }\n",
       "\n",
       "    .dataframe tbody tr th {\n",
       "        vertical-align: top;\n",
       "    }\n",
       "\n",
       "    .dataframe thead th {\n",
       "        text-align: right;\n",
       "    }\n",
       "</style>\n",
       "<table border=\"1\" class=\"dataframe\">\n",
       "  <thead>\n",
       "    <tr style=\"text-align: right;\">\n",
       "      <th></th>\n",
       "      <th>si</th>\n",
       "      <th>ni</th>\n",
       "      <th>rpi</th>\n",
       "      <th>spi</th>\n",
       "      <th>AQI</th>\n",
       "      <th>log_AQI</th>\n",
       "    </tr>\n",
       "    <tr>\n",
       "      <th>period</th>\n",
       "      <th></th>\n",
       "      <th></th>\n",
       "      <th></th>\n",
       "      <th></th>\n",
       "      <th></th>\n",
       "      <th></th>\n",
       "    </tr>\n",
       "  </thead>\n",
       "  <tbody>\n",
       "    <tr>\n",
       "      <th>1987-01-01</th>\n",
       "      <td>18.500236</td>\n",
       "      <td>29.364184</td>\n",
       "      <td>0.000000</td>\n",
       "      <td>238.133570</td>\n",
       "      <td>242.438652</td>\n",
       "      <td>5.490749</td>\n",
       "    </tr>\n",
       "    <tr>\n",
       "      <th>1987-02-01</th>\n",
       "      <td>20.948652</td>\n",
       "      <td>36.680515</td>\n",
       "      <td>0.000000</td>\n",
       "      <td>227.525123</td>\n",
       "      <td>235.787929</td>\n",
       "      <td>5.462933</td>\n",
       "    </tr>\n",
       "    <tr>\n",
       "      <th>1987-03-01</th>\n",
       "      <td>21.848099</td>\n",
       "      <td>38.427632</td>\n",
       "      <td>0.000000</td>\n",
       "      <td>286.692982</td>\n",
       "      <td>294.558772</td>\n",
       "      <td>5.685479</td>\n",
       "    </tr>\n",
       "    <tr>\n",
       "      <th>1987-04-01</th>\n",
       "      <td>19.945652</td>\n",
       "      <td>27.054348</td>\n",
       "      <td>0.000000</td>\n",
       "      <td>195.811594</td>\n",
       "      <td>202.012681</td>\n",
       "      <td>5.308330</td>\n",
       "    </tr>\n",
       "    <tr>\n",
       "      <th>1987-05-01</th>\n",
       "      <td>19.043750</td>\n",
       "      <td>37.813750</td>\n",
       "      <td>0.000000</td>\n",
       "      <td>302.379167</td>\n",
       "      <td>307.991667</td>\n",
       "      <td>5.730073</td>\n",
       "    </tr>\n",
       "    <tr>\n",
       "      <th>...</th>\n",
       "      <td>...</td>\n",
       "      <td>...</td>\n",
       "      <td>...</td>\n",
       "      <td>...</td>\n",
       "      <td>...</td>\n",
       "      <td>...</td>\n",
       "    </tr>\n",
       "    <tr>\n",
       "      <th>2015-08-01</th>\n",
       "      <td>9.173266</td>\n",
       "      <td>26.788795</td>\n",
       "      <td>79.739118</td>\n",
       "      <td>0.000000</td>\n",
       "      <td>80.745975</td>\n",
       "      <td>4.391308</td>\n",
       "    </tr>\n",
       "    <tr>\n",
       "      <th>2015-09-01</th>\n",
       "      <td>9.110393</td>\n",
       "      <td>28.942988</td>\n",
       "      <td>87.162823</td>\n",
       "      <td>0.000000</td>\n",
       "      <td>87.668083</td>\n",
       "      <td>4.473558</td>\n",
       "    </tr>\n",
       "    <tr>\n",
       "      <th>2015-10-01</th>\n",
       "      <td>10.090212</td>\n",
       "      <td>33.098520</td>\n",
       "      <td>95.827394</td>\n",
       "      <td>0.000000</td>\n",
       "      <td>96.306726</td>\n",
       "      <td>4.567538</td>\n",
       "    </tr>\n",
       "    <tr>\n",
       "      <th>2015-11-01</th>\n",
       "      <td>10.655378</td>\n",
       "      <td>36.704568</td>\n",
       "      <td>102.478454</td>\n",
       "      <td>0.000000</td>\n",
       "      <td>102.913944</td>\n",
       "      <td>4.633893</td>\n",
       "    </tr>\n",
       "    <tr>\n",
       "      <th>2015-12-01</th>\n",
       "      <td>10.912257</td>\n",
       "      <td>38.084521</td>\n",
       "      <td>105.643177</td>\n",
       "      <td>0.000000</td>\n",
       "      <td>106.081322</td>\n",
       "      <td>4.664206</td>\n",
       "    </tr>\n",
       "  </tbody>\n",
       "</table>\n",
       "<p>346 rows × 6 columns</p>\n",
       "</div>"
      ],
      "text/plain": [
       "                   si         ni         rpi         spi         AQI   log_AQI\n",
       "period                                                                        \n",
       "1987-01-01  18.500236  29.364184    0.000000  238.133570  242.438652  5.490749\n",
       "1987-02-01  20.948652  36.680515    0.000000  227.525123  235.787929  5.462933\n",
       "1987-03-01  21.848099  38.427632    0.000000  286.692982  294.558772  5.685479\n",
       "1987-04-01  19.945652  27.054348    0.000000  195.811594  202.012681  5.308330\n",
       "1987-05-01  19.043750  37.813750    0.000000  302.379167  307.991667  5.730073\n",
       "...               ...        ...         ...         ...         ...       ...\n",
       "2015-08-01   9.173266  26.788795   79.739118    0.000000   80.745975  4.391308\n",
       "2015-09-01   9.110393  28.942988   87.162823    0.000000   87.668083  4.473558\n",
       "2015-10-01  10.090212  33.098520   95.827394    0.000000   96.306726  4.567538\n",
       "2015-11-01  10.655378  36.704568  102.478454    0.000000  102.913944  4.633893\n",
       "2015-12-01  10.912257  38.084521  105.643177    0.000000  106.081322  4.664206\n",
       "\n",
       "[346 rows x 6 columns]"
      ]
     },
     "execution_count": 810,
     "metadata": {},
     "output_type": "execute_result"
    }
   ],
   "source": [
    "monthly_mean"
   ]
  },
  {
   "cell_type": "code",
   "execution_count": 811,
   "metadata": {},
   "outputs": [
    {
     "data": {
      "text/plain": [
       "340    91.107479\n",
       "341    92.029744\n",
       "342    94.548980\n",
       "343    94.633834\n",
       "344    95.011999\n",
       "345    94.893317\n",
       "dtype: float64"
      ]
     },
     "execution_count": 811,
     "metadata": {},
     "output_type": "execute_result"
    }
   ],
   "source": [
    "new_data_p = np.exp(arima_forecast)\n",
    "new_data_p"
   ]
  },
  {
   "cell_type": "code",
   "execution_count": 812,
   "metadata": {},
   "outputs": [
    {
     "name": "stdout",
     "output_type": "stream",
     "text": [
      "actual_values: \n",
      "period\n",
      "2015-07-01     82.353637\n",
      "2015-08-01     80.745975\n",
      "2015-09-01     87.668083\n",
      "2015-10-01     96.306726\n",
      "2015-11-01    102.913944\n",
      "2015-12-01    106.081322\n",
      "Name: AQI, dtype: float64\n",
      "forecasted_values: \n",
      "340    91.107479\n",
      "341    92.029744\n",
      "342    94.548980\n",
      "343    94.633834\n",
      "344    95.011999\n",
      "345    94.893317\n",
      "dtype: float64\n",
      "Mean Squared Error (MSE): 73.61844717231855\n",
      "R-squared (R²): 0.22731407789080293\n"
     ]
    },
    {
     "data": {
      "text/plain": [
       "['../results/output/arima_model.pkl']"
      ]
     },
     "execution_count": 812,
     "metadata": {},
     "output_type": "execute_result"
    }
   ],
   "source": [
    "actual_values = monthly_mean.iloc[340:,4]\n",
    "forecasted_values = new_data_p\n",
    "mse = mean_squared_error(actual_values, forecasted_values)\n",
    "print(f'actual_values: \\n{actual_values}')\n",
    "print(f'forecasted_values: \\n{forecasted_values}')\n",
    "\n",
    "print(f'Mean Squared Error (MSE): {mse}')\n",
    "\n",
    "r2 = r2_score(actual_values, forecasted_values)\n",
    "print(f'R-squared (R²): {r2}')\n",
    "\n",
    "joblib.dump(arima_forecast, '../results/output/arima_model.pkl')"
   ]
  },
  {
   "cell_type": "code",
   "execution_count": 813,
   "metadata": {},
   "outputs": [
    {
     "name": "stderr",
     "output_type": "stream",
     "text": [
      "C:\\Users\\onero\\AppData\\Local\\Temp\\ipykernel_28888\\128642802.py:5: FutureWarning:\n",
      "\n",
      "'M' is deprecated and will be removed in a future version, please use 'ME' instead.\n",
      "\n"
     ]
    },
    {
     "data": {
      "application/vnd.plotly.v1+json": {
       "config": {
        "plotlyServerURL": "https://plot.ly"
       },
       "data": [
        {
         "hovertemplate": "Date: %{x}<br>AQI: %{y:.2f}<extra></extra>",
         "line": {
          "color": "blue"
         },
         "mode": "lines",
         "name": "Actual AQI",
         "type": "scatter",
         "x": [
          "1987-01-01",
          "1987-02-01",
          "1987-03-01",
          "1987-04-01",
          "1987-05-01",
          "1987-06-01",
          "1987-07-01",
          "1987-08-01",
          "1987-09-01",
          "1987-10-01",
          "1987-11-01",
          "1987-12-01",
          "1988-01-01",
          "1988-02-01",
          "1988-03-01",
          "1988-04-01",
          "1988-05-01",
          "1988-06-01",
          "1988-07-01",
          "1988-08-01",
          "1988-09-01",
          "1988-10-01",
          "1988-11-01",
          "1988-12-01",
          "1989-01-01",
          "1989-02-01",
          "1989-03-01",
          "1989-04-01",
          "1989-05-01",
          "1989-06-01",
          "1989-07-01",
          "1989-08-01",
          "1989-09-01",
          "1989-10-01",
          "1989-12-01",
          "1990-01-01",
          "1990-02-01",
          "1990-03-01",
          "1990-04-01",
          "1990-05-01",
          "1990-06-01",
          "1990-07-01",
          "1990-08-01",
          "1990-09-01",
          "1990-10-01",
          "1990-11-01",
          "1990-12-01",
          "1991-01-01",
          "1991-02-01",
          "1991-03-01",
          "1991-04-01",
          "1991-05-01",
          "1991-06-01",
          "1991-07-01",
          "1991-08-01",
          "1991-09-01",
          "1991-10-01",
          "1991-11-01",
          "1991-12-01",
          "1992-01-01",
          "1992-02-01",
          "1992-03-01",
          "1992-04-01",
          "1992-05-01",
          "1992-06-01",
          "1992-07-01",
          "1992-08-01",
          "1992-09-01",
          "1992-10-01",
          "1992-11-01",
          "1992-12-01",
          "1993-01-01",
          "1993-02-01",
          "1993-03-01",
          "1993-04-01",
          "1993-05-01",
          "1993-06-01",
          "1993-07-01",
          "1993-08-01",
          "1993-09-01",
          "1993-10-01",
          "1993-11-01",
          "1993-12-01",
          "1994-01-01",
          "1994-02-01",
          "1994-03-01",
          "1994-04-01",
          "1994-05-01",
          "1994-06-01",
          "1994-07-01",
          "1994-08-01",
          "1994-09-01",
          "1994-11-01",
          "1994-12-01",
          "1995-01-01",
          "1995-02-01",
          "1995-03-01",
          "1995-04-01",
          "1995-05-01",
          "1995-06-01",
          "1995-07-01",
          "1995-08-01",
          "1995-09-01",
          "1995-10-01",
          "1995-11-01",
          "1995-12-01",
          "1996-01-01",
          "1996-02-01",
          "1996-03-01",
          "1996-04-01",
          "1996-05-01",
          "1996-06-01",
          "1996-07-01",
          "1996-08-01",
          "1996-09-01",
          "1996-10-01",
          "1996-11-01",
          "1996-12-01",
          "1997-01-01",
          "1997-02-01",
          "1997-03-01",
          "1997-04-01",
          "1997-05-01",
          "1997-06-01",
          "1997-07-01",
          "1997-08-01",
          "1997-09-01",
          "1997-10-01",
          "1997-11-01",
          "1997-12-01",
          "1998-01-01",
          "1998-02-01",
          "1998-03-01",
          "1998-04-01",
          "1998-05-01",
          "1998-06-01",
          "1998-07-01",
          "1998-08-01",
          "1998-09-01",
          "1998-10-01",
          "1998-11-01",
          "1998-12-01",
          "1999-01-01",
          "1999-02-01",
          "1999-03-01",
          "1999-04-01",
          "1999-05-01",
          "1999-06-01",
          "1999-07-01",
          "1999-08-01",
          "1999-09-01",
          "1999-10-01",
          "1999-11-01",
          "1999-12-01",
          "2000-01-01",
          "2000-02-01",
          "2000-03-01",
          "2000-04-01",
          "2000-05-01",
          "2000-06-01",
          "2000-07-01",
          "2000-08-01",
          "2000-09-01",
          "2000-10-01",
          "2000-11-01",
          "2000-12-01",
          "2001-01-01",
          "2001-02-01",
          "2001-03-01",
          "2001-04-01",
          "2001-05-01",
          "2001-06-01",
          "2001-07-01",
          "2001-08-01",
          "2001-09-01",
          "2001-10-01",
          "2001-11-01",
          "2001-12-01",
          "2002-01-01",
          "2002-02-01",
          "2002-03-01",
          "2002-04-01",
          "2002-05-01",
          "2002-06-01",
          "2002-07-01",
          "2002-08-01",
          "2002-09-01",
          "2002-10-01",
          "2002-11-01",
          "2002-12-01",
          "2003-01-01",
          "2003-02-01",
          "2003-03-01",
          "2003-04-01",
          "2003-05-01",
          "2003-06-01",
          "2003-07-01",
          "2003-08-01",
          "2003-09-01",
          "2003-10-01",
          "2003-11-01",
          "2003-12-01",
          "2004-01-01",
          "2004-02-01",
          "2004-03-01",
          "2004-04-01",
          "2004-05-01",
          "2004-06-01",
          "2004-07-01",
          "2004-08-01",
          "2004-09-01",
          "2004-10-01",
          "2004-11-01",
          "2004-12-01",
          "2005-01-01",
          "2005-02-01",
          "2005-03-01",
          "2005-04-01",
          "2005-05-01",
          "2005-06-01",
          "2005-07-01",
          "2005-08-01",
          "2005-09-01",
          "2005-10-01",
          "2005-11-01",
          "2005-12-01",
          "2006-01-01",
          "2006-02-01",
          "2006-03-01",
          "2006-04-01",
          "2006-05-01",
          "2006-06-01",
          "2006-07-01",
          "2006-08-01",
          "2006-09-01",
          "2006-10-01",
          "2006-11-01",
          "2006-12-01",
          "2007-01-01",
          "2007-02-01",
          "2007-03-01",
          "2007-04-01",
          "2007-05-01",
          "2007-06-01",
          "2007-07-01",
          "2007-08-01",
          "2007-09-01",
          "2007-10-01",
          "2007-11-01",
          "2007-12-01",
          "2008-01-01",
          "2008-02-01",
          "2008-03-01",
          "2008-04-01",
          "2008-05-01",
          "2008-06-01",
          "2008-07-01",
          "2008-08-01",
          "2008-09-01",
          "2008-10-01",
          "2008-11-01",
          "2008-12-01",
          "2009-01-01",
          "2009-02-01",
          "2009-03-01",
          "2009-04-01",
          "2009-05-01",
          "2009-06-01",
          "2009-07-01",
          "2009-08-01",
          "2009-09-01",
          "2009-10-01",
          "2009-11-01",
          "2009-12-01",
          "2010-01-01",
          "2010-02-01",
          "2010-03-01",
          "2010-04-01",
          "2010-05-01",
          "2010-06-01",
          "2010-07-01",
          "2010-08-01",
          "2010-09-01",
          "2010-10-01",
          "2010-11-01",
          "2010-12-01",
          "2011-01-01",
          "2011-02-01",
          "2011-03-01",
          "2011-04-01",
          "2011-05-01",
          "2011-06-01",
          "2011-07-01",
          "2011-08-01",
          "2011-09-01",
          "2011-10-01",
          "2011-11-01",
          "2011-12-01",
          "2012-01-01",
          "2012-02-01",
          "2012-03-01",
          "2012-04-01",
          "2012-05-01",
          "2012-06-01",
          "2012-07-01",
          "2012-08-01",
          "2012-09-01",
          "2012-10-01",
          "2012-11-01",
          "2012-12-01",
          "2013-01-01",
          "2013-02-01",
          "2013-03-01",
          "2013-04-01",
          "2013-05-01",
          "2013-06-01",
          "2013-07-01",
          "2013-08-01",
          "2013-09-01",
          "2013-10-01",
          "2013-11-01",
          "2013-12-01",
          "2014-01-01",
          "2014-02-01",
          "2014-03-01",
          "2014-04-01",
          "2014-05-01",
          "2014-06-01",
          "2014-07-01",
          "2014-08-01",
          "2014-09-01",
          "2014-10-01",
          "2014-11-01",
          "2014-12-01",
          "2015-01-01",
          "2015-02-01",
          "2015-03-01",
          "2015-04-01",
          "2015-05-01",
          "2015-06-01",
          "2015-07-01",
          "2015-08-01",
          "2015-09-01",
          "2015-10-01",
          "2015-11-01",
          "2015-12-01"
         ],
         "y": [
          242.4386524822695,
          235.78792892156864,
          294.55877192982456,
          202.0126811594203,
          307.9916666666667,
          265.91666666666663,
          208.525,
          288.4444444444444,
          250.97916666666666,
          156.625,
          255.0340909090909,
          350.375,
          211.0765015015015,
          209.36088187702265,
          245.01030701754385,
          250.5625,
          175.7657142857143,
          104.22222222222223,
          328.125,
          149.46969696969697,
          212.49166666666665,
          85.94166666666666,
          270.5260416666667,
          302.5,
          236.51331018518516,
          252.2164319248826,
          251.7107594936709,
          245.02058823529413,
          251.66666666666666,
          180.879329004329,
          130.7171497584541,
          128.36263020833334,
          148.05079908675796,
          160.20833333333334,
          226.84277777777777,
          239.07103174603174,
          205.78729838709677,
          210.21239837398375,
          239.9001937984496,
          236.10909669211196,
          254.42756410256413,
          152.7042297979798,
          132.38830532212884,
          125.8150826446281,
          188.14420572916666,
          225.29265873015873,
          236.81303418803418,
          238.06005208333332,
          211.28339201877932,
          212.0055751173709,
          255.282634032634,
          231.8254934210526,
          189.70565476190478,
          161.49070247933884,
          116.02083333333333,
          135.8293388429752,
          199.2883950617284,
          216.52941176470588,
          224.76749363867685,
          177.4851063829787,
          146.105035971223,
          160.80915404040405,
          218.62431129476585,
          227.5147492625369,
          216.29611650485438,
          146.70822368421054,
          100.30229166666666,
          97.74926470588235,
          127.07460317460317,
          147.13921568627453,
          175.77450980392157,
          65.7546130952381,
          69.10677083333333,
          71.53046218487395,
          57.108402777777776,
          48.444607843137256,
          77.10065789473684,
          57.14531746031746,
          63.73757183908046,
          59.50038226299694,
          63.91953125,
          84.99638480392157,
          87.34908854166666,
          205.63634259259257,
          195.73689567430026,
          225.92276995305164,
          193.50754257907542,
          228.47228395061728,
          194.25432098765432,
          136.47733333333335,
          150.80353333333332,
          176.9740990990991,
          230.04403892944038,
          282.91829096045194,
          231.64427777777775,
          234.55105555555556,
          199.28360042735042,
          199.3421633554084,
          212.47441239316237,
          202.4434946236559,
          163.24570063694267,
          144.5897435897436,
          154.6827922077922,
          183.6082207207207,
          223.63442822384428,
          251.99485930735932,
          216.8501893939394,
          227.26704545454547,
          230.2787356321839,
          242.92965686274508,
          244.93798449612405,
          238.81969696969696,
          152.90637550200802,
          149.7356425702811,
          180.1620654396728,
          219.89212398373985,
          244.85640625000002,
          265.813125,
          220.90357142857144,
          228.39416666666665,
          212.58434489402697,
          171.10759493670886,
          185.2120253164557,
          159.4435817805383,
          138.48241308793456,
          123.96270576131687,
          138.69989648033126,
          160.52253668763103,
          172.2560606060606,
          171.92622080679405,
          234.7406565656566,
          227.11179718875502,
          208.3422619047619,
          218.641006097561,
          232.84513052208834,
          188.3827160493827,
          151.28629032258064,
          145.17477924944814,
          159.62138888888887,
          212.1175925925926,
          241.69577205882354,
          281.56404958677683,
          225.43921845574388,
          213.3749521072797,
          229.63181818181818,
          233.21049019607844,
          214.34545454545454,
          195.19977168949774,
          150.83890845070422,
          139.20805180180182,
          146.99773242630386,
          167.00442176870746,
          207.61836854460094,
          234.19738442822384,
          195.77237654320987,
          176.06944444444446,
          181.84832285115303,
          192.32505020080322,
          181.84984662576687,
          151.20299145299145,
          117.52004219409284,
          112.12573839662446,
          123.06826131687244,
          172.57359375,
          191.679375,
          220.1709595959596,
          205.13824662813101,
          207.7809454191033,
          181.42433712121212,
          205.5014367816092,
          185.90549348230914,
          149.00635162601625,
          111.9466765873016,
          119.02119883040936,
          128.72504708097927,
          155.6051029962547,
          189.67217432950193,
          198.49857142857144,
          149.70687134502924,
          141.26583820662768,
          143.21490196078432,
          158.65882352941176,
          155.45397286821705,
          124.34331337325348,
          136.64874301675977,
          106.51119791666666,
          113.00846354166667,
          146.19720767888305,
          160.8813596491228,
          174.8793402777778,
          166.5954356846473,
          123.01759708737865,
          163.48768115942028,
          181.93870192307693,
          269.9472104519774,
          151.80698804185351,
          121.40333333333332,
          125.03907496012759,
          113.86910774410774,
          247.7561274509804,
          237.0077345309381,
          231.92965367965365,
          164.66149553001276,
          166.79201574693423,
          176.30447302958888,
          181.926179007431,
          175.25989247311827,
          150.0716908662199,
          144.17729123173277,
          137.71996138515195,
          138.56565995525727,
          162.8929719020173,
          177.10727398779812,
          191.14591806020067,
          207.54604938271606,
          198.64138783269962,
          196.1247717696629,
          211.0669482386772,
          207.25826348592304,
          190.09788502109703,
          169.01568882466282,
          164.96232334652345,
          158.79644146712275,
          189.35317064152338,
          209.69560646900268,
          219.73845191773205,
          219.82268217054263,
          216.74978132951654,
          198.30501523967857,
          207.7817753473655,
          196.4207779207779,
          179.9836683580536,
          162.13175097015923,
          158.0289913818288,
          160.11282520325202,
          188.7023470052083,
          189.89521448937273,
          207.06396216360244,
          211.2311396967437,
          185.38175194094438,
          191.2287935323383,
          196.26597753491194,
          193.454721776351,
          158.79438883034774,
          151.74596253229976,
          152.0452136752137,
          157.07167915328816,
          185.6433158584535,
          204.38129979783565,
          215.99673120089784,
          214.37425811531008,
          221.06223977467548,
          212.61406160540477,
          204.64669456781687,
          209.09033356618932,
          172.46017081802094,
          166.54133764058386,
          162.69936974789917,
          162.33632966723067,
          204.30622520684574,
          211.54154252017378,
          222.8741285824942,
          221.5075033875339,
          234.3835951495108,
          226.9684667673716,
          212.01865109996137,
          205.0359206724455,
          202.7507519824993,
          162.4571111111111,
          158.14090125053903,
          184.77414951700965,
          202.8761459589867,
          204.27523671962769,
          225.58880494505493,
          188.27164668351992,
          175.79442617128862,
          182.28409450902976,
          177.5436380457794,
          186.7826688591725,
          155.86171411278346,
          129.08778508793034,
          131.11177369338745,
          137.40741516972463,
          153.8060560678479,
          164.78806754921106,
          185.45065869631992,
          117.90074835318266,
          113.97007532108991,
          113.31723648506315,
          110.19436864662043,
          113.41564975184544,
          99.09143881079095,
          96.61572506904675,
          92.54903516988291,
          97.77430772083997,
          110.66054723461865,
          114.13556905864162,
          116.92068637445591,
          99.82545046296296,
          101.88390676993689,
          105.40095111528038,
          98.59253359976316,
          100.57586923688395,
          95.86655168109186,
          89.81062624312624,
          87.12049197742263,
          90.9310938054668,
          98.8465961822101,
          106.3536474072802,
          107.13061008370093,
          106.73296600217385,
          102.91615854836668,
          100.95927311435786,
          101.46820877012593,
          101.43752335060395,
          91.37314373674734,
          87.55959141399345,
          87.05338245966301,
          90.90376391883485,
          93.60479541637059,
          101.6224108740046,
          101.89578681503261,
          102.84965786637392,
          98.58142997226491,
          100.35775714048457,
          97.9909563194885,
          97.28300469691764,
          94.94208114493412,
          87.74510350800317,
          87.80057019731456,
          90.23664066128912,
          96.42985682570625,
          100.6245256820251,
          101.81273448986964,
          101.25205343629068,
          102.45265745387489,
          98.99880762475445,
          98.58963196915876,
          97.99406517526322,
          88.81559513319905,
          82.35363720314515,
          80.74597489910118,
          87.66808324104906,
          96.306726353068,
          102.91394358952682,
          106.08132156058734
         ]
        },
        {
         "hovertemplate": "Date: %{x}<br>Predicted AQI: %{y:.2f}<extra></extra>",
         "line": {
          "color": "red",
          "dash": "dot"
         },
         "mode": "lines",
         "name": "Prediction",
         "type": "scatter",
         "x": [
          "2015-07-31T00:00:00",
          "2015-08-31T00:00:00",
          "2015-09-30T00:00:00",
          "2015-10-31T00:00:00",
          "2015-11-30T00:00:00",
          "2015-12-31T00:00:00"
         ],
         "y": [
          91.10747939709708,
          92.02974379078039,
          94.54897990998734,
          94.63383408864028,
          95.01199894871277,
          94.89331669497376
         ]
        }
       ],
       "layout": {
        "dragmode": "zoom",
        "hoverdistance": 100,
        "hovermode": "x unified",
        "legend": {
         "x": 0.01,
         "y": 0.99
        },
        "spikedistance": 1000,
        "template": {
         "data": {
          "bar": [
           {
            "error_x": {
             "color": "#2a3f5f"
            },
            "error_y": {
             "color": "#2a3f5f"
            },
            "marker": {
             "line": {
              "color": "white",
              "width": 0.5
             },
             "pattern": {
              "fillmode": "overlay",
              "size": 10,
              "solidity": 0.2
             }
            },
            "type": "bar"
           }
          ],
          "barpolar": [
           {
            "marker": {
             "line": {
              "color": "white",
              "width": 0.5
             },
             "pattern": {
              "fillmode": "overlay",
              "size": 10,
              "solidity": 0.2
             }
            },
            "type": "barpolar"
           }
          ],
          "carpet": [
           {
            "aaxis": {
             "endlinecolor": "#2a3f5f",
             "gridcolor": "#C8D4E3",
             "linecolor": "#C8D4E3",
             "minorgridcolor": "#C8D4E3",
             "startlinecolor": "#2a3f5f"
            },
            "baxis": {
             "endlinecolor": "#2a3f5f",
             "gridcolor": "#C8D4E3",
             "linecolor": "#C8D4E3",
             "minorgridcolor": "#C8D4E3",
             "startlinecolor": "#2a3f5f"
            },
            "type": "carpet"
           }
          ],
          "choropleth": [
           {
            "colorbar": {
             "outlinewidth": 0,
             "ticks": ""
            },
            "type": "choropleth"
           }
          ],
          "contour": [
           {
            "colorbar": {
             "outlinewidth": 0,
             "ticks": ""
            },
            "colorscale": [
             [
              0,
              "#0d0887"
             ],
             [
              0.1111111111111111,
              "#46039f"
             ],
             [
              0.2222222222222222,
              "#7201a8"
             ],
             [
              0.3333333333333333,
              "#9c179e"
             ],
             [
              0.4444444444444444,
              "#bd3786"
             ],
             [
              0.5555555555555556,
              "#d8576b"
             ],
             [
              0.6666666666666666,
              "#ed7953"
             ],
             [
              0.7777777777777778,
              "#fb9f3a"
             ],
             [
              0.8888888888888888,
              "#fdca26"
             ],
             [
              1,
              "#f0f921"
             ]
            ],
            "type": "contour"
           }
          ],
          "contourcarpet": [
           {
            "colorbar": {
             "outlinewidth": 0,
             "ticks": ""
            },
            "type": "contourcarpet"
           }
          ],
          "heatmap": [
           {
            "colorbar": {
             "outlinewidth": 0,
             "ticks": ""
            },
            "colorscale": [
             [
              0,
              "#0d0887"
             ],
             [
              0.1111111111111111,
              "#46039f"
             ],
             [
              0.2222222222222222,
              "#7201a8"
             ],
             [
              0.3333333333333333,
              "#9c179e"
             ],
             [
              0.4444444444444444,
              "#bd3786"
             ],
             [
              0.5555555555555556,
              "#d8576b"
             ],
             [
              0.6666666666666666,
              "#ed7953"
             ],
             [
              0.7777777777777778,
              "#fb9f3a"
             ],
             [
              0.8888888888888888,
              "#fdca26"
             ],
             [
              1,
              "#f0f921"
             ]
            ],
            "type": "heatmap"
           }
          ],
          "heatmapgl": [
           {
            "colorbar": {
             "outlinewidth": 0,
             "ticks": ""
            },
            "colorscale": [
             [
              0,
              "#0d0887"
             ],
             [
              0.1111111111111111,
              "#46039f"
             ],
             [
              0.2222222222222222,
              "#7201a8"
             ],
             [
              0.3333333333333333,
              "#9c179e"
             ],
             [
              0.4444444444444444,
              "#bd3786"
             ],
             [
              0.5555555555555556,
              "#d8576b"
             ],
             [
              0.6666666666666666,
              "#ed7953"
             ],
             [
              0.7777777777777778,
              "#fb9f3a"
             ],
             [
              0.8888888888888888,
              "#fdca26"
             ],
             [
              1,
              "#f0f921"
             ]
            ],
            "type": "heatmapgl"
           }
          ],
          "histogram": [
           {
            "marker": {
             "pattern": {
              "fillmode": "overlay",
              "size": 10,
              "solidity": 0.2
             }
            },
            "type": "histogram"
           }
          ],
          "histogram2d": [
           {
            "colorbar": {
             "outlinewidth": 0,
             "ticks": ""
            },
            "colorscale": [
             [
              0,
              "#0d0887"
             ],
             [
              0.1111111111111111,
              "#46039f"
             ],
             [
              0.2222222222222222,
              "#7201a8"
             ],
             [
              0.3333333333333333,
              "#9c179e"
             ],
             [
              0.4444444444444444,
              "#bd3786"
             ],
             [
              0.5555555555555556,
              "#d8576b"
             ],
             [
              0.6666666666666666,
              "#ed7953"
             ],
             [
              0.7777777777777778,
              "#fb9f3a"
             ],
             [
              0.8888888888888888,
              "#fdca26"
             ],
             [
              1,
              "#f0f921"
             ]
            ],
            "type": "histogram2d"
           }
          ],
          "histogram2dcontour": [
           {
            "colorbar": {
             "outlinewidth": 0,
             "ticks": ""
            },
            "colorscale": [
             [
              0,
              "#0d0887"
             ],
             [
              0.1111111111111111,
              "#46039f"
             ],
             [
              0.2222222222222222,
              "#7201a8"
             ],
             [
              0.3333333333333333,
              "#9c179e"
             ],
             [
              0.4444444444444444,
              "#bd3786"
             ],
             [
              0.5555555555555556,
              "#d8576b"
             ],
             [
              0.6666666666666666,
              "#ed7953"
             ],
             [
              0.7777777777777778,
              "#fb9f3a"
             ],
             [
              0.8888888888888888,
              "#fdca26"
             ],
             [
              1,
              "#f0f921"
             ]
            ],
            "type": "histogram2dcontour"
           }
          ],
          "mesh3d": [
           {
            "colorbar": {
             "outlinewidth": 0,
             "ticks": ""
            },
            "type": "mesh3d"
           }
          ],
          "parcoords": [
           {
            "line": {
             "colorbar": {
              "outlinewidth": 0,
              "ticks": ""
             }
            },
            "type": "parcoords"
           }
          ],
          "pie": [
           {
            "automargin": true,
            "type": "pie"
           }
          ],
          "scatter": [
           {
            "fillpattern": {
             "fillmode": "overlay",
             "size": 10,
             "solidity": 0.2
            },
            "type": "scatter"
           }
          ],
          "scatter3d": [
           {
            "line": {
             "colorbar": {
              "outlinewidth": 0,
              "ticks": ""
             }
            },
            "marker": {
             "colorbar": {
              "outlinewidth": 0,
              "ticks": ""
             }
            },
            "type": "scatter3d"
           }
          ],
          "scattercarpet": [
           {
            "marker": {
             "colorbar": {
              "outlinewidth": 0,
              "ticks": ""
             }
            },
            "type": "scattercarpet"
           }
          ],
          "scattergeo": [
           {
            "marker": {
             "colorbar": {
              "outlinewidth": 0,
              "ticks": ""
             }
            },
            "type": "scattergeo"
           }
          ],
          "scattergl": [
           {
            "marker": {
             "colorbar": {
              "outlinewidth": 0,
              "ticks": ""
             }
            },
            "type": "scattergl"
           }
          ],
          "scattermapbox": [
           {
            "marker": {
             "colorbar": {
              "outlinewidth": 0,
              "ticks": ""
             }
            },
            "type": "scattermapbox"
           }
          ],
          "scatterpolar": [
           {
            "marker": {
             "colorbar": {
              "outlinewidth": 0,
              "ticks": ""
             }
            },
            "type": "scatterpolar"
           }
          ],
          "scatterpolargl": [
           {
            "marker": {
             "colorbar": {
              "outlinewidth": 0,
              "ticks": ""
             }
            },
            "type": "scatterpolargl"
           }
          ],
          "scatterternary": [
           {
            "marker": {
             "colorbar": {
              "outlinewidth": 0,
              "ticks": ""
             }
            },
            "type": "scatterternary"
           }
          ],
          "surface": [
           {
            "colorbar": {
             "outlinewidth": 0,
             "ticks": ""
            },
            "colorscale": [
             [
              0,
              "#0d0887"
             ],
             [
              0.1111111111111111,
              "#46039f"
             ],
             [
              0.2222222222222222,
              "#7201a8"
             ],
             [
              0.3333333333333333,
              "#9c179e"
             ],
             [
              0.4444444444444444,
              "#bd3786"
             ],
             [
              0.5555555555555556,
              "#d8576b"
             ],
             [
              0.6666666666666666,
              "#ed7953"
             ],
             [
              0.7777777777777778,
              "#fb9f3a"
             ],
             [
              0.8888888888888888,
              "#fdca26"
             ],
             [
              1,
              "#f0f921"
             ]
            ],
            "type": "surface"
           }
          ],
          "table": [
           {
            "cells": {
             "fill": {
              "color": "#EBF0F8"
             },
             "line": {
              "color": "white"
             }
            },
            "header": {
             "fill": {
              "color": "#C8D4E3"
             },
             "line": {
              "color": "white"
             }
            },
            "type": "table"
           }
          ]
         },
         "layout": {
          "annotationdefaults": {
           "arrowcolor": "#2a3f5f",
           "arrowhead": 0,
           "arrowwidth": 1
          },
          "autotypenumbers": "strict",
          "coloraxis": {
           "colorbar": {
            "outlinewidth": 0,
            "ticks": ""
           }
          },
          "colorscale": {
           "diverging": [
            [
             0,
             "#8e0152"
            ],
            [
             0.1,
             "#c51b7d"
            ],
            [
             0.2,
             "#de77ae"
            ],
            [
             0.3,
             "#f1b6da"
            ],
            [
             0.4,
             "#fde0ef"
            ],
            [
             0.5,
             "#f7f7f7"
            ],
            [
             0.6,
             "#e6f5d0"
            ],
            [
             0.7,
             "#b8e186"
            ],
            [
             0.8,
             "#7fbc41"
            ],
            [
             0.9,
             "#4d9221"
            ],
            [
             1,
             "#276419"
            ]
           ],
           "sequential": [
            [
             0,
             "#0d0887"
            ],
            [
             0.1111111111111111,
             "#46039f"
            ],
            [
             0.2222222222222222,
             "#7201a8"
            ],
            [
             0.3333333333333333,
             "#9c179e"
            ],
            [
             0.4444444444444444,
             "#bd3786"
            ],
            [
             0.5555555555555556,
             "#d8576b"
            ],
            [
             0.6666666666666666,
             "#ed7953"
            ],
            [
             0.7777777777777778,
             "#fb9f3a"
            ],
            [
             0.8888888888888888,
             "#fdca26"
            ],
            [
             1,
             "#f0f921"
            ]
           ],
           "sequentialminus": [
            [
             0,
             "#0d0887"
            ],
            [
             0.1111111111111111,
             "#46039f"
            ],
            [
             0.2222222222222222,
             "#7201a8"
            ],
            [
             0.3333333333333333,
             "#9c179e"
            ],
            [
             0.4444444444444444,
             "#bd3786"
            ],
            [
             0.5555555555555556,
             "#d8576b"
            ],
            [
             0.6666666666666666,
             "#ed7953"
            ],
            [
             0.7777777777777778,
             "#fb9f3a"
            ],
            [
             0.8888888888888888,
             "#fdca26"
            ],
            [
             1,
             "#f0f921"
            ]
           ]
          },
          "colorway": [
           "#636efa",
           "#EF553B",
           "#00cc96",
           "#ab63fa",
           "#FFA15A",
           "#19d3f3",
           "#FF6692",
           "#B6E880",
           "#FF97FF",
           "#FECB52"
          ],
          "font": {
           "color": "#2a3f5f"
          },
          "geo": {
           "bgcolor": "white",
           "lakecolor": "white",
           "landcolor": "white",
           "showlakes": true,
           "showland": true,
           "subunitcolor": "#C8D4E3"
          },
          "hoverlabel": {
           "align": "left"
          },
          "hovermode": "closest",
          "mapbox": {
           "style": "light"
          },
          "paper_bgcolor": "white",
          "plot_bgcolor": "white",
          "polar": {
           "angularaxis": {
            "gridcolor": "#EBF0F8",
            "linecolor": "#EBF0F8",
            "ticks": ""
           },
           "bgcolor": "white",
           "radialaxis": {
            "gridcolor": "#EBF0F8",
            "linecolor": "#EBF0F8",
            "ticks": ""
           }
          },
          "scene": {
           "xaxis": {
            "backgroundcolor": "white",
            "gridcolor": "#DFE8F3",
            "gridwidth": 2,
            "linecolor": "#EBF0F8",
            "showbackground": true,
            "ticks": "",
            "zerolinecolor": "#EBF0F8"
           },
           "yaxis": {
            "backgroundcolor": "white",
            "gridcolor": "#DFE8F3",
            "gridwidth": 2,
            "linecolor": "#EBF0F8",
            "showbackground": true,
            "ticks": "",
            "zerolinecolor": "#EBF0F8"
           },
           "zaxis": {
            "backgroundcolor": "white",
            "gridcolor": "#DFE8F3",
            "gridwidth": 2,
            "linecolor": "#EBF0F8",
            "showbackground": true,
            "ticks": "",
            "zerolinecolor": "#EBF0F8"
           }
          },
          "shapedefaults": {
           "line": {
            "color": "#2a3f5f"
           }
          },
          "ternary": {
           "aaxis": {
            "gridcolor": "#DFE8F3",
            "linecolor": "#A2B1C6",
            "ticks": ""
           },
           "baxis": {
            "gridcolor": "#DFE8F3",
            "linecolor": "#A2B1C6",
            "ticks": ""
           },
           "bgcolor": "white",
           "caxis": {
            "gridcolor": "#DFE8F3",
            "linecolor": "#A2B1C6",
            "ticks": ""
           }
          },
          "title": {
           "x": 0.05
          },
          "xaxis": {
           "automargin": true,
           "gridcolor": "#EBF0F8",
           "linecolor": "#EBF0F8",
           "ticks": "",
           "title": {
            "standoff": 15
           },
           "zerolinecolor": "#EBF0F8",
           "zerolinewidth": 2
          },
          "yaxis": {
           "automargin": true,
           "gridcolor": "#EBF0F8",
           "linecolor": "#EBF0F8",
           "ticks": "",
           "title": {
            "standoff": 15
           },
           "zerolinecolor": "#EBF0F8",
           "zerolinewidth": 2
          }
         }
        },
        "title": {
         "text": "AQI in each month (1987 - 2015)"
        },
        "xaxis": {
         "rangeslider": {
          "visible": true
         },
         "showspikes": true,
         "spikecolor": "#999999",
         "spikedash": "dot",
         "spikemode": "across",
         "spikethickness": 2,
         "title": {
          "text": "Period"
         },
         "type": "date"
        },
        "yaxis": {
         "showspikes": true,
         "spikecolor": "#999999",
         "spikedash": "dot",
         "spikemode": "across",
         "spikethickness": 2,
         "title": {
          "text": "AQI"
         }
        }
       }
      }
     },
     "metadata": {},
     "output_type": "display_data"
    }
   ],
   "source": [
    "plot_result = new_data_A.reset_index()\n",
    "plot_result[\"period\"] = plot_result[\"period\"].astype(str)\n",
    "# new_data_p\n",
    "forecasted_values = pd.DataFrame(new_data_p)\n",
    "time_index = pd.date_range(start='2015-07-01', periods=len(forecasted_values), freq='M')\n",
    "forecasted_values[\"period\"] = time_index\n",
    "forecasted_values = forecasted_values.rename(columns={0: 'AQI'})\n",
    "\n",
    "\n",
    "fig_new = go.Figure()\n",
    "\n",
    "# Original data trace\n",
    "fig_new.add_trace(go.Scatter(\n",
    "    x=plot_result['period'], \n",
    "    y=plot_result['AQI'],\n",
    "    mode='lines', \n",
    "    name='Actual AQI',\n",
    "    line=dict(color='blue'),\n",
    "    hovertemplate='Date: %{x}<br>AQI: %{y:.2f}<extra></extra>'  # Custom hover text\n",
    "))\n",
    "\n",
    "# Forecasted data trace\n",
    "fig_new.add_trace(go.Scatter(\n",
    "    x=forecasted_values['period'], \n",
    "    y=forecasted_values['AQI'],\n",
    "    mode='lines', \n",
    "    name='Prediction',\n",
    "    line=dict(color='red', dash='dot'),\n",
    "    hovertemplate='Date: %{x}<br>Predicted AQI: %{y:.2f}<extra></extra>'  # Custom hover text\n",
    "))\n",
    "\n",
    "# Enhanced interactive layout\n",
    "fig_new.update_layout(\n",
    "    title='AQI in each month (1987 - 2015)',\n",
    "    xaxis_title='Period',\n",
    "    yaxis_title='AQI',\n",
    "    legend=dict(x=0.01, y=0.99),\n",
    "    template='plotly_white',\n",
    "    \n",
    "    # Interactive features\n",
    "    hovermode='x unified',  # Show all traces for a given x-position\n",
    "    hoverdistance=100,      # Distance to show hover label\n",
    "    spikedistance=1000,     # Distance to show spike\n",
    "    \n",
    "    # Add hover and spike lines\n",
    "    xaxis=dict(\n",
    "        showspikes=True,    # Show vertical spike line\n",
    "        spikethickness=2,\n",
    "        spikedash='dot',\n",
    "        spikecolor=\"#999999\",\n",
    "        spikemode='across'\n",
    "    ),\n",
    "    yaxis=dict(\n",
    "        showspikes=True,    # Show horizontal spike line\n",
    "        spikethickness=2,\n",
    "        spikedash='dot',\n",
    "        spikecolor=\"#999999\",\n",
    "        spikemode='across'\n",
    "    )\n",
    ")\n",
    "\n",
    "\n",
    "# Add range slider and selector\n",
    "fig_new.update_layout(\n",
    "    xaxis=dict(\n",
    "        rangeslider=dict(visible=True),  # Add range slider\n",
    "        type=\"date\"  # Ensure x-axis is treated as dates\n",
    "    )\n",
    ")\n",
    "\n",
    "# Zoom and pan options\n",
    "fig_new.update_layout(\n",
    "    dragmode='zoom',  # Allow zooming by dragging\n",
    ")\n",
    "\n",
    "fig_new.show()"
   ]
  },
  {
   "cell_type": "code",
   "execution_count": 814,
   "metadata": {},
   "outputs": [
    {
     "data": {
      "text/html": [
       "<div>\n",
       "<style scoped>\n",
       "    .dataframe tbody tr th:only-of-type {\n",
       "        vertical-align: middle;\n",
       "    }\n",
       "\n",
       "    .dataframe tbody tr th {\n",
       "        vertical-align: top;\n",
       "    }\n",
       "\n",
       "    .dataframe thead th {\n",
       "        text-align: right;\n",
       "    }\n",
       "</style>\n",
       "<table border=\"1\" class=\"dataframe\">\n",
       "  <thead>\n",
       "    <tr style=\"text-align: right;\">\n",
       "      <th></th>\n",
       "      <th>AQI</th>\n",
       "      <th>period</th>\n",
       "    </tr>\n",
       "  </thead>\n",
       "  <tbody>\n",
       "    <tr>\n",
       "      <th>340</th>\n",
       "      <td>91.107479</td>\n",
       "      <td>2015-07-31</td>\n",
       "    </tr>\n",
       "    <tr>\n",
       "      <th>341</th>\n",
       "      <td>92.029744</td>\n",
       "      <td>2015-08-31</td>\n",
       "    </tr>\n",
       "    <tr>\n",
       "      <th>342</th>\n",
       "      <td>94.548980</td>\n",
       "      <td>2015-09-30</td>\n",
       "    </tr>\n",
       "    <tr>\n",
       "      <th>343</th>\n",
       "      <td>94.633834</td>\n",
       "      <td>2015-10-31</td>\n",
       "    </tr>\n",
       "    <tr>\n",
       "      <th>344</th>\n",
       "      <td>95.011999</td>\n",
       "      <td>2015-11-30</td>\n",
       "    </tr>\n",
       "    <tr>\n",
       "      <th>345</th>\n",
       "      <td>94.893317</td>\n",
       "      <td>2015-12-31</td>\n",
       "    </tr>\n",
       "  </tbody>\n",
       "</table>\n",
       "</div>"
      ],
      "text/plain": [
       "           AQI     period\n",
       "340  91.107479 2015-07-31\n",
       "341  92.029744 2015-08-31\n",
       "342  94.548980 2015-09-30\n",
       "343  94.633834 2015-10-31\n",
       "344  95.011999 2015-11-30\n",
       "345  94.893317 2015-12-31"
      ]
     },
     "execution_count": 814,
     "metadata": {},
     "output_type": "execute_result"
    }
   ],
   "source": [
    "forecasted_values"
   ]
  },
  {
   "cell_type": "markdown",
   "metadata": {},
   "source": [
    "# Prophet Model"
   ]
  },
  {
   "cell_type": "code",
   "execution_count": 815,
   "metadata": {},
   "outputs": [
    {
     "data": {
      "text/html": [
       "<div>\n",
       "<style scoped>\n",
       "    .dataframe tbody tr th:only-of-type {\n",
       "        vertical-align: middle;\n",
       "    }\n",
       "\n",
       "    .dataframe tbody tr th {\n",
       "        vertical-align: top;\n",
       "    }\n",
       "\n",
       "    .dataframe thead th {\n",
       "        text-align: right;\n",
       "    }\n",
       "</style>\n",
       "<table border=\"1\" class=\"dataframe\">\n",
       "  <thead>\n",
       "    <tr style=\"text-align: right;\">\n",
       "      <th></th>\n",
       "      <th>period</th>\n",
       "      <th>log_AQI</th>\n",
       "    </tr>\n",
       "  </thead>\n",
       "  <tbody>\n",
       "    <tr>\n",
       "      <th>0</th>\n",
       "      <td>1987-01-01</td>\n",
       "      <td>5.490749</td>\n",
       "    </tr>\n",
       "    <tr>\n",
       "      <th>1</th>\n",
       "      <td>1987-02-01</td>\n",
       "      <td>5.462933</td>\n",
       "    </tr>\n",
       "    <tr>\n",
       "      <th>2</th>\n",
       "      <td>1987-03-01</td>\n",
       "      <td>5.685479</td>\n",
       "    </tr>\n",
       "    <tr>\n",
       "      <th>3</th>\n",
       "      <td>1987-04-01</td>\n",
       "      <td>5.308330</td>\n",
       "    </tr>\n",
       "    <tr>\n",
       "      <th>4</th>\n",
       "      <td>1987-05-01</td>\n",
       "      <td>5.730073</td>\n",
       "    </tr>\n",
       "    <tr>\n",
       "      <th>...</th>\n",
       "      <td>...</td>\n",
       "      <td>...</td>\n",
       "    </tr>\n",
       "    <tr>\n",
       "      <th>341</th>\n",
       "      <td>2015-08-01</td>\n",
       "      <td>4.391308</td>\n",
       "    </tr>\n",
       "    <tr>\n",
       "      <th>342</th>\n",
       "      <td>2015-09-01</td>\n",
       "      <td>4.473558</td>\n",
       "    </tr>\n",
       "    <tr>\n",
       "      <th>343</th>\n",
       "      <td>2015-10-01</td>\n",
       "      <td>4.567538</td>\n",
       "    </tr>\n",
       "    <tr>\n",
       "      <th>344</th>\n",
       "      <td>2015-11-01</td>\n",
       "      <td>4.633893</td>\n",
       "    </tr>\n",
       "    <tr>\n",
       "      <th>345</th>\n",
       "      <td>2015-12-01</td>\n",
       "      <td>4.664206</td>\n",
       "    </tr>\n",
       "  </tbody>\n",
       "</table>\n",
       "<p>346 rows × 2 columns</p>\n",
       "</div>"
      ],
      "text/plain": [
       "        period   log_AQI\n",
       "0   1987-01-01  5.490749\n",
       "1   1987-02-01  5.462933\n",
       "2   1987-03-01  5.685479\n",
       "3   1987-04-01  5.308330\n",
       "4   1987-05-01  5.730073\n",
       "..         ...       ...\n",
       "341 2015-08-01  4.391308\n",
       "342 2015-09-01  4.473558\n",
       "343 2015-10-01  4.567538\n",
       "344 2015-11-01  4.633893\n",
       "345 2015-12-01  4.664206\n",
       "\n",
       "[346 rows x 2 columns]"
      ]
     },
     "execution_count": 815,
     "metadata": {},
     "output_type": "execute_result"
    }
   ],
   "source": [
    "data_A = monthly_mean.reset_index()\n",
    "data_A = data_A.iloc[:,[0,6]]\n",
    "data_A"
   ]
  },
  {
   "cell_type": "code",
   "execution_count": 816,
   "metadata": {},
   "outputs": [],
   "source": [
    "from sklearn.metrics import mean_squared_error, mean_absolute_error, r2_score\n",
    "from prophet import Prophet\n",
    "import plotly.graph_objects as go\n",
    "\n",
    "# Ensure the date column is in datetime format\n",
    "data_A['period'] = pd.to_datetime(data_A['period'], format='%Y-%m')\n",
    "\n",
    "# Rename columns for Prophet\n",
    "data_A = data_A.rename(columns={'period': 'ds', 'log_AQI': 'y'})\n"
   ]
  },
  {
   "cell_type": "code",
   "execution_count": 817,
   "metadata": {},
   "outputs": [
    {
     "name": "stdout",
     "output_type": "stream",
     "text": [
      "            ds         y\n",
      "0   1987-01-01  5.490749\n",
      "1   1987-02-01  5.462933\n",
      "2   1987-03-01  5.685479\n",
      "3   1987-04-01  5.308330\n",
      "4   1987-05-01  5.730073\n",
      "..         ...       ...\n",
      "335 2015-02-01  4.629401\n",
      "336 2015-03-01  4.595108\n",
      "337 2015-04-01  4.590966\n",
      "338 2015-05-01  4.584907\n",
      "339 2015-06-01  4.486562\n",
      "\n",
      "[340 rows x 2 columns]\n",
      "            ds         y\n",
      "340 2015-07-01  4.411023\n",
      "341 2015-08-01  4.391308\n",
      "342 2015-09-01  4.473558\n",
      "343 2015-10-01  4.567538\n",
      "344 2015-11-01  4.633893\n",
      "345 2015-12-01  4.664206\n"
     ]
    }
   ],
   "source": [
    "# Train-test split (use the last 20% of data_A as the test set)\n",
    "test_size = 6\n",
    "# train, test = data_A[:train_size], data_A[train_size:]\n",
    "train, test = data_A.iloc[:-6],data_A.iloc[-6:]\n",
    "print(train)\n",
    "print(test)"
   ]
  },
  {
   "cell_type": "code",
   "execution_count": 818,
   "metadata": {},
   "outputs": [
    {
     "name": "stderr",
     "output_type": "stream",
     "text": [
      "17:11:06 - cmdstanpy - INFO - Chain [1] start processing\n",
      "17:11:06 - cmdstanpy - INFO - Chain [1] done processing\n",
      "c:\\Users\\onero\\Desktop\\Dumb\\swu\\indian-air\\myenv\\Lib\\site-packages\\prophet\\forecaster.py:1854: FutureWarning:\n",
      "\n",
      "'M' is deprecated and will be removed in a future version, please use 'ME' instead.\n",
      "\n"
     ]
    },
    {
     "data": {
      "text/plain": [
       "['../results/output/prophet_model.pkl']"
      ]
     },
     "execution_count": 818,
     "metadata": {},
     "output_type": "execute_result"
    }
   ],
   "source": [
    "\n",
    "# Initialize the Prophet model\n",
    "model = Prophet()\n",
    "\n",
    "# Fit the model on the training data\n",
    "model.fit(train)\n",
    "\n",
    "# Make future dataframe (including the test set period)\n",
    "future = model.make_future_dataframe(periods=test_size, freq='M')\n",
    "\n",
    "# Get the forecasted values\n",
    "forecast = model.predict(future)\n",
    "forecast\n",
    "# Extract the predictions for the test period\n",
    "\n",
    "joblib.dump(model, '../results/output/prophet_model.pkl')\n"
   ]
  },
  {
   "cell_type": "code",
   "execution_count": 819,
   "metadata": {},
   "outputs": [
    {
     "name": "stdout",
     "output_type": "stream",
     "text": [
      "            ds         y\n",
      "340 2015-07-01  4.411023\n",
      "341 2015-08-01  4.391308\n",
      "342 2015-09-01  4.473558\n",
      "343 2015-10-01  4.567538\n",
      "344 2015-11-01  4.633893\n",
      "345 2015-12-01  4.664206\n",
      "            ds      yhat\n",
      "340 2015-06-30  3.979276\n",
      "341 2015-07-31  4.167630\n",
      "342 2015-08-31  4.066948\n",
      "343 2015-09-30  4.475319\n",
      "344 2015-10-31  4.490444\n",
      "345 2015-11-30  4.645310\n"
     ]
    }
   ],
   "source": [
    "y_pred = forecast.loc[:,[\"ds\",\"yhat\"]][-test_size:]\n",
    "print(test)\n",
    "print(y_pred)"
   ]
  },
  {
   "cell_type": "code",
   "execution_count": 820,
   "metadata": {},
   "outputs": [
    {
     "name": "stdout",
     "output_type": "stream",
     "text": [
      "MSE on training set(Prophet): 0.07186797817212605\n",
      "R² on training set(Prophet): -5.480021712494315\n"
     ]
    },
    {
     "data": {
      "application/vnd.plotly.v1+json": {
       "config": {
        "plotlyServerURL": "https://plot.ly"
       },
       "data": [
        {
         "line": {
          "color": "blue"
         },
         "mode": "lines",
         "name": "Train",
         "type": "scatter",
         "x": [
          "1987-01-01T00:00:00",
          "1987-02-01T00:00:00",
          "1987-03-01T00:00:00",
          "1987-04-01T00:00:00",
          "1987-05-01T00:00:00",
          "1987-06-01T00:00:00",
          "1987-07-01T00:00:00",
          "1987-08-01T00:00:00",
          "1987-09-01T00:00:00",
          "1987-10-01T00:00:00",
          "1987-11-01T00:00:00",
          "1987-12-01T00:00:00",
          "1988-01-01T00:00:00",
          "1988-02-01T00:00:00",
          "1988-03-01T00:00:00",
          "1988-04-01T00:00:00",
          "1988-05-01T00:00:00",
          "1988-06-01T00:00:00",
          "1988-07-01T00:00:00",
          "1988-08-01T00:00:00",
          "1988-09-01T00:00:00",
          "1988-10-01T00:00:00",
          "1988-11-01T00:00:00",
          "1988-12-01T00:00:00",
          "1989-01-01T00:00:00",
          "1989-02-01T00:00:00",
          "1989-03-01T00:00:00",
          "1989-04-01T00:00:00",
          "1989-05-01T00:00:00",
          "1989-06-01T00:00:00",
          "1989-07-01T00:00:00",
          "1989-08-01T00:00:00",
          "1989-09-01T00:00:00",
          "1989-10-01T00:00:00",
          "1989-12-01T00:00:00",
          "1990-01-01T00:00:00",
          "1990-02-01T00:00:00",
          "1990-03-01T00:00:00",
          "1990-04-01T00:00:00",
          "1990-05-01T00:00:00",
          "1990-06-01T00:00:00",
          "1990-07-01T00:00:00",
          "1990-08-01T00:00:00",
          "1990-09-01T00:00:00",
          "1990-10-01T00:00:00",
          "1990-11-01T00:00:00",
          "1990-12-01T00:00:00",
          "1991-01-01T00:00:00",
          "1991-02-01T00:00:00",
          "1991-03-01T00:00:00",
          "1991-04-01T00:00:00",
          "1991-05-01T00:00:00",
          "1991-06-01T00:00:00",
          "1991-07-01T00:00:00",
          "1991-08-01T00:00:00",
          "1991-09-01T00:00:00",
          "1991-10-01T00:00:00",
          "1991-11-01T00:00:00",
          "1991-12-01T00:00:00",
          "1992-01-01T00:00:00",
          "1992-02-01T00:00:00",
          "1992-03-01T00:00:00",
          "1992-04-01T00:00:00",
          "1992-05-01T00:00:00",
          "1992-06-01T00:00:00",
          "1992-07-01T00:00:00",
          "1992-08-01T00:00:00",
          "1992-09-01T00:00:00",
          "1992-10-01T00:00:00",
          "1992-11-01T00:00:00",
          "1992-12-01T00:00:00",
          "1993-01-01T00:00:00",
          "1993-02-01T00:00:00",
          "1993-03-01T00:00:00",
          "1993-04-01T00:00:00",
          "1993-05-01T00:00:00",
          "1993-06-01T00:00:00",
          "1993-07-01T00:00:00",
          "1993-08-01T00:00:00",
          "1993-09-01T00:00:00",
          "1993-10-01T00:00:00",
          "1993-11-01T00:00:00",
          "1993-12-01T00:00:00",
          "1994-01-01T00:00:00",
          "1994-02-01T00:00:00",
          "1994-03-01T00:00:00",
          "1994-04-01T00:00:00",
          "1994-05-01T00:00:00",
          "1994-06-01T00:00:00",
          "1994-07-01T00:00:00",
          "1994-08-01T00:00:00",
          "1994-09-01T00:00:00",
          "1994-11-01T00:00:00",
          "1994-12-01T00:00:00",
          "1995-01-01T00:00:00",
          "1995-02-01T00:00:00",
          "1995-03-01T00:00:00",
          "1995-04-01T00:00:00",
          "1995-05-01T00:00:00",
          "1995-06-01T00:00:00",
          "1995-07-01T00:00:00",
          "1995-08-01T00:00:00",
          "1995-09-01T00:00:00",
          "1995-10-01T00:00:00",
          "1995-11-01T00:00:00",
          "1995-12-01T00:00:00",
          "1996-01-01T00:00:00",
          "1996-02-01T00:00:00",
          "1996-03-01T00:00:00",
          "1996-04-01T00:00:00",
          "1996-05-01T00:00:00",
          "1996-06-01T00:00:00",
          "1996-07-01T00:00:00",
          "1996-08-01T00:00:00",
          "1996-09-01T00:00:00",
          "1996-10-01T00:00:00",
          "1996-11-01T00:00:00",
          "1996-12-01T00:00:00",
          "1997-01-01T00:00:00",
          "1997-02-01T00:00:00",
          "1997-03-01T00:00:00",
          "1997-04-01T00:00:00",
          "1997-05-01T00:00:00",
          "1997-06-01T00:00:00",
          "1997-07-01T00:00:00",
          "1997-08-01T00:00:00",
          "1997-09-01T00:00:00",
          "1997-10-01T00:00:00",
          "1997-11-01T00:00:00",
          "1997-12-01T00:00:00",
          "1998-01-01T00:00:00",
          "1998-02-01T00:00:00",
          "1998-03-01T00:00:00",
          "1998-04-01T00:00:00",
          "1998-05-01T00:00:00",
          "1998-06-01T00:00:00",
          "1998-07-01T00:00:00",
          "1998-08-01T00:00:00",
          "1998-09-01T00:00:00",
          "1998-10-01T00:00:00",
          "1998-11-01T00:00:00",
          "1998-12-01T00:00:00",
          "1999-01-01T00:00:00",
          "1999-02-01T00:00:00",
          "1999-03-01T00:00:00",
          "1999-04-01T00:00:00",
          "1999-05-01T00:00:00",
          "1999-06-01T00:00:00",
          "1999-07-01T00:00:00",
          "1999-08-01T00:00:00",
          "1999-09-01T00:00:00",
          "1999-10-01T00:00:00",
          "1999-11-01T00:00:00",
          "1999-12-01T00:00:00",
          "2000-01-01T00:00:00",
          "2000-02-01T00:00:00",
          "2000-03-01T00:00:00",
          "2000-04-01T00:00:00",
          "2000-05-01T00:00:00",
          "2000-06-01T00:00:00",
          "2000-07-01T00:00:00",
          "2000-08-01T00:00:00",
          "2000-09-01T00:00:00",
          "2000-10-01T00:00:00",
          "2000-11-01T00:00:00",
          "2000-12-01T00:00:00",
          "2001-01-01T00:00:00",
          "2001-02-01T00:00:00",
          "2001-03-01T00:00:00",
          "2001-04-01T00:00:00",
          "2001-05-01T00:00:00",
          "2001-06-01T00:00:00",
          "2001-07-01T00:00:00",
          "2001-08-01T00:00:00",
          "2001-09-01T00:00:00",
          "2001-10-01T00:00:00",
          "2001-11-01T00:00:00",
          "2001-12-01T00:00:00",
          "2002-01-01T00:00:00",
          "2002-02-01T00:00:00",
          "2002-03-01T00:00:00",
          "2002-04-01T00:00:00",
          "2002-05-01T00:00:00",
          "2002-06-01T00:00:00",
          "2002-07-01T00:00:00",
          "2002-08-01T00:00:00",
          "2002-09-01T00:00:00",
          "2002-10-01T00:00:00",
          "2002-11-01T00:00:00",
          "2002-12-01T00:00:00",
          "2003-01-01T00:00:00",
          "2003-02-01T00:00:00",
          "2003-03-01T00:00:00",
          "2003-04-01T00:00:00",
          "2003-05-01T00:00:00",
          "2003-06-01T00:00:00",
          "2003-07-01T00:00:00",
          "2003-08-01T00:00:00",
          "2003-09-01T00:00:00",
          "2003-10-01T00:00:00",
          "2003-11-01T00:00:00",
          "2003-12-01T00:00:00",
          "2004-01-01T00:00:00",
          "2004-02-01T00:00:00",
          "2004-03-01T00:00:00",
          "2004-04-01T00:00:00",
          "2004-05-01T00:00:00",
          "2004-06-01T00:00:00",
          "2004-07-01T00:00:00",
          "2004-08-01T00:00:00",
          "2004-09-01T00:00:00",
          "2004-10-01T00:00:00",
          "2004-11-01T00:00:00",
          "2004-12-01T00:00:00",
          "2005-01-01T00:00:00",
          "2005-02-01T00:00:00",
          "2005-03-01T00:00:00",
          "2005-04-01T00:00:00",
          "2005-05-01T00:00:00",
          "2005-06-01T00:00:00",
          "2005-07-01T00:00:00",
          "2005-08-01T00:00:00",
          "2005-09-01T00:00:00",
          "2005-10-01T00:00:00",
          "2005-11-01T00:00:00",
          "2005-12-01T00:00:00",
          "2006-01-01T00:00:00",
          "2006-02-01T00:00:00",
          "2006-03-01T00:00:00",
          "2006-04-01T00:00:00",
          "2006-05-01T00:00:00",
          "2006-06-01T00:00:00",
          "2006-07-01T00:00:00",
          "2006-08-01T00:00:00",
          "2006-09-01T00:00:00",
          "2006-10-01T00:00:00",
          "2006-11-01T00:00:00",
          "2006-12-01T00:00:00",
          "2007-01-01T00:00:00",
          "2007-02-01T00:00:00",
          "2007-03-01T00:00:00",
          "2007-04-01T00:00:00",
          "2007-05-01T00:00:00",
          "2007-06-01T00:00:00",
          "2007-07-01T00:00:00",
          "2007-08-01T00:00:00",
          "2007-09-01T00:00:00",
          "2007-10-01T00:00:00",
          "2007-11-01T00:00:00",
          "2007-12-01T00:00:00",
          "2008-01-01T00:00:00",
          "2008-02-01T00:00:00",
          "2008-03-01T00:00:00",
          "2008-04-01T00:00:00",
          "2008-05-01T00:00:00",
          "2008-06-01T00:00:00",
          "2008-07-01T00:00:00",
          "2008-08-01T00:00:00",
          "2008-09-01T00:00:00",
          "2008-10-01T00:00:00",
          "2008-11-01T00:00:00",
          "2008-12-01T00:00:00",
          "2009-01-01T00:00:00",
          "2009-02-01T00:00:00",
          "2009-03-01T00:00:00",
          "2009-04-01T00:00:00",
          "2009-05-01T00:00:00",
          "2009-06-01T00:00:00",
          "2009-07-01T00:00:00",
          "2009-08-01T00:00:00",
          "2009-09-01T00:00:00",
          "2009-10-01T00:00:00",
          "2009-11-01T00:00:00",
          "2009-12-01T00:00:00",
          "2010-01-01T00:00:00",
          "2010-02-01T00:00:00",
          "2010-03-01T00:00:00",
          "2010-04-01T00:00:00",
          "2010-05-01T00:00:00",
          "2010-06-01T00:00:00",
          "2010-07-01T00:00:00",
          "2010-08-01T00:00:00",
          "2010-09-01T00:00:00",
          "2010-10-01T00:00:00",
          "2010-11-01T00:00:00",
          "2010-12-01T00:00:00",
          "2011-01-01T00:00:00",
          "2011-02-01T00:00:00",
          "2011-03-01T00:00:00",
          "2011-04-01T00:00:00",
          "2011-05-01T00:00:00",
          "2011-06-01T00:00:00",
          "2011-07-01T00:00:00",
          "2011-08-01T00:00:00",
          "2011-09-01T00:00:00",
          "2011-10-01T00:00:00",
          "2011-11-01T00:00:00",
          "2011-12-01T00:00:00",
          "2012-01-01T00:00:00",
          "2012-02-01T00:00:00",
          "2012-03-01T00:00:00",
          "2012-04-01T00:00:00",
          "2012-05-01T00:00:00",
          "2012-06-01T00:00:00",
          "2012-07-01T00:00:00",
          "2012-08-01T00:00:00",
          "2012-09-01T00:00:00",
          "2012-10-01T00:00:00",
          "2012-11-01T00:00:00",
          "2012-12-01T00:00:00",
          "2013-01-01T00:00:00",
          "2013-02-01T00:00:00",
          "2013-03-01T00:00:00",
          "2013-04-01T00:00:00",
          "2013-05-01T00:00:00",
          "2013-06-01T00:00:00",
          "2013-07-01T00:00:00",
          "2013-08-01T00:00:00",
          "2013-09-01T00:00:00",
          "2013-10-01T00:00:00",
          "2013-11-01T00:00:00",
          "2013-12-01T00:00:00",
          "2014-01-01T00:00:00",
          "2014-02-01T00:00:00",
          "2014-03-01T00:00:00",
          "2014-04-01T00:00:00",
          "2014-05-01T00:00:00",
          "2014-06-01T00:00:00",
          "2014-07-01T00:00:00",
          "2014-08-01T00:00:00",
          "2014-09-01T00:00:00",
          "2014-10-01T00:00:00",
          "2014-11-01T00:00:00",
          "2014-12-01T00:00:00",
          "2015-01-01T00:00:00",
          "2015-02-01T00:00:00",
          "2015-03-01T00:00:00",
          "2015-04-01T00:00:00",
          "2015-05-01T00:00:00",
          "2015-06-01T00:00:00",
          "2015-07-01T00:00:00",
          "2015-08-01T00:00:00",
          "2015-09-01T00:00:00",
          "2015-10-01T00:00:00",
          "2015-11-01T00:00:00",
          "2015-12-01T00:00:00"
         ],
         "y": [
          5.490748698918279,
          5.462932794772425,
          5.685478548307909,
          5.30833047344768,
          5.730072726330491,
          5.583182976490243,
          5.340058938127676,
          5.664502500487761,
          5.525369934358962,
          5.053854413216232,
          5.541397226062308,
          5.859004009484952,
          5.352220634122594,
          5.344059470464751,
          5.501300279119195,
          5.523708390402725,
          5.169151939414687,
          4.6465253716700055,
          5.793394633345888,
          5.00709367643029,
          5.358902771909242,
          4.453668771534023,
          5.600368365987834,
          5.7120812774708964,
          5.466004486201127,
          5.530287575749694,
          5.528280648520721,
          5.5013422406275465,
          5.528105460580915,
          5.197830118345015,
          4.873035826700586,
          4.854859306903748,
          4.997555451944436,
          5.076475051591799,
          5.424257168608578,
          5.476760711733455,
          5.326843103259619,
          5.34811844040454,
          5.480222977675458,
          5.464293972328965,
          5.539016175056353,
          5.028502911893205,
          4.885739311219014,
          4.83481323091612,
          5.237208720546991,
          5.417400262487247,
          5.467270944518832,
          5.472522961522089,
          5.353200322473688,
          5.356612572049681,
          5.542371300126698,
          5.445984905104396,
          5.245473685468249,
          5.084447571218131,
          4.753769772681777,
          4.911399236289425,
          5.294752997032328,
          5.377726389322805,
          5.415066506312329,
          5.1788866976934935,
          4.984325787507042,
          5.080218283236488,
          5.387354783166924,
          5.427215068212746,
          5.376648378590041,
          4.988445741411501,
          4.608188542829176,
          4.582405676646721,
          4.844774340562819,
          4.991379184098954,
          5.169201979311156,
          4.185929829741002,
          4.235652711983922,
          4.2701234035124465,
          4.044951264815491,
          3.880421038915923,
          4.345111813538544,
          4.045597452681361,
          4.154774213489177,
          4.085982737119131,
          4.157624968045648,
          4.442608723867248,
          4.469912601971151,
          5.326109281542817,
          5.276771388437458,
          5.420193214999242,
          5.265316491446971,
          5.4314149073564195,
          5.269168233467041,
          4.916158544670107,
          5.015977885891759,
          5.176003389092693,
          5.438270764200727,
          5.645158131432917,
          5.445202909540626,
          5.457673285107788,
          5.29472893796931,
          5.295022762071012,
          5.358821568846861,
          5.310460808712471,
          5.0952564317420075,
          4.973900377677536,
          5.041376518087627,
          5.2128042523513365,
          5.410012701806966,
          5.529408687729378,
          5.379206743667848,
          5.426125737745417,
          5.43929046922533,
          5.492771923502635,
          5.501005053997696,
          5.4757088612395854,
          5.0298258092665495,
          5.008871356407717,
          5.193856809359814,
          5.393137080565224,
          5.5006719417840015,
          5.582793524292536,
          5.397726277921323,
          5.43107293746738,
          5.35933882676206,
          5.142292568789139,
          5.221501251618459,
          5.071690140407218,
          4.930743336250032,
          4.819980760378301,
          4.932312580963847,
          5.078434348211996,
          5.148982094215638,
          5.147065435990892,
          5.458481315659021,
          5.4254423948726345,
          5.339182217292808,
          5.387431143226317,
          5.450373556699897,
          5.238475617219297,
          5.01917400414797,
          4.977938390674544,
          5.072804691630963,
          5.357140802933324,
          5.487679795040196,
          5.640359951314356,
          5.418050581393757,
          5.363050956661292,
          5.436477235775225,
          5.45194143715276,
          5.367588987059657,
          5.274023504354833,
          5.016212435892906,
          4.935969589631203,
          4.990417160988357,
          5.118020289723159,
          5.335701627842891,
          5.4561642829894845,
          5.276952640180519,
          5.170878487922671,
          5.203172948685784,
          5.259186910365649,
          5.203181328021957,
          5.018623248291724,
          4.7666088909031075,
          4.719620905834417,
          4.812739171489361,
          5.150823775925309,
          5.255824054279031,
          5.39440433364752,
          5.32368412564634,
          5.3364843777287865,
          5.200838691422992,
          5.325453025549849,
          5.225238445029402,
          5.003988933399421,
          4.718022656023506,
          4.77930161867824,
          4.857678711680666,
          5.047321406812277,
          5.245297183680731,
          5.290781903267955,
          5.0086791911405735,
          4.950643492637055,
          4.964346313084223,
          5.066756132804211,
          5.046349693387684,
          4.823046396171957,
          4.917413713771651,
          4.668250124379591,
          4.727462714506401,
          4.984956447809639,
          5.080667196753416,
          5.164096251993035,
          5.1155683325065855,
          4.812327410890535,
          5.09673764290806,
          5.203669827725598,
          5.598226423037937,
          5.022609898433287,
          4.799118335689416,
          4.828626288134221,
          4.735049611050247,
          5.512444905299738,
          5.468092775754254,
          5.446434108788727,
          5.103891824362817,
          5.116747621554359,
          5.17221246077561,
          5.20360099494559,
          5.16626997209972,
          5.011113119027871,
          4.97104373139346,
          4.925222358083643,
          4.931344292386731,
          5.093093371043261,
          5.17675561671663,
          5.253037105272507,
          5.335353239785083,
          5.291501127848378,
          5.278751047354179,
          5.352175373380864,
          5.333965665287715,
          5.247539123820168,
          5.1299915438963595,
          5.105717104471864,
          5.06762313966474,
          5.243613899079664,
          5.345656986181487,
          5.392437984184353,
          5.392821231233782,
          5.37874360679978,
          5.2898063263793,
          5.336488371967061,
          5.2802591842185675,
          5.192866115429727,
          5.0884092822949345,
          5.06277850595319,
          5.0758787242474055,
          5.240170890056607,
          5.2464724173394295,
          5.333027741495382,
          5.352952982709586,
          5.2224172229421635,
          5.253470583067575,
          5.2794707675391965,
          5.265043489100654,
          5.067610213367258,
          5.022207823538213,
          5.0241779350038644,
          5.056702256275217,
          5.223827175980604,
          5.3199873658753365,
          5.375263274240479,
          5.367723357227616,
          5.398444289807757,
          5.359478604856108,
          5.32128505117258,
          5.342766376605553,
          5.150166316002761,
          5.115243552723201,
          5.091904140510662,
          5.089670292153153,
          5.3196199722690185,
          5.354421397733838,
          5.406607166282197,
          5.400456464250188,
          5.456959068690163,
          5.424811094913042,
          5.356674247688884,
          5.323185186581105,
          5.311977401903561,
          5.09041403530978,
          5.06348641569407,
          5.219134265857,
          5.312595674415163,
          5.319468284098286,
          5.418713894922117,
          5.237885849091954,
          5.169315279238143,
          5.205566428887692,
          5.179216426845003,
          5.229945742364007,
          5.048969166127193,
          4.8604926774810355,
          4.876050193704355,
          4.922950346088408,
          5.035692432550206,
          5.1046602092059645,
          5.222788855810229,
          4.76984315487842,
          4.735935916752657,
          4.730191287840589,
          4.702245794202762,
          4.7310593866382185,
          4.596043048207503,
          4.570741513364227,
          4.52773861400442,
          4.582661840287593,
          4.706467382646772,
          4.737386944122354,
          4.761495810688147,
          4.603423165465655,
          4.623833996155944,
          4.657771659930687,
          4.590995534601039,
          4.610912360471971,
          4.56295713774578,
          4.497703300636236,
          4.467292125732528,
          4.510102008758916,
          4.593569114852892,
          4.666769837318418,
          4.67404874505617,
          4.670330070309949,
          4.633914662080027,
          4.614717199028057,
          4.619745535332636,
          4.619443075471742,
          4.514951603081076,
          4.4723196062892,
          4.4665215219746734,
          4.509801407574085,
          4.539081615252059,
          4.621264090288856,
          4.623950593103364,
          4.633268289563282,
          4.590882906875666,
          4.608741373106654,
          4.584875191958085,
          4.577624304839109,
          4.553267033516309,
          4.474436060310474,
          4.475067994894636,
          4.50243556034238,
          4.568815871772733,
          4.611396022008613,
          4.623135189513642,
          4.617612986633248,
          4.629400813380951,
          4.595107805867658,
          4.590966103637075,
          4.584906917400685,
          4.486562255447944,
          4.411022623263895,
          4.391308114409631,
          4.47355790202225,
          4.567538164267924,
          4.633893139874898,
          4.664205984510283
         ]
        },
        {
         "line": {
          "color": "red",
          "dash": "dot"
         },
         "mode": "lines",
         "name": "Prediction",
         "type": "scatter",
         "x": [
          "2015-06-30T00:00:00",
          "2015-07-31T00:00:00",
          "2015-08-31T00:00:00",
          "2015-09-30T00:00:00",
          "2015-10-31T00:00:00",
          "2015-11-30T00:00:00"
         ],
         "y": [
          3.979275594057665,
          4.167629734843111,
          4.066948341597005,
          4.475319251368224,
          4.49044409521107,
          4.64530986379018
         ]
        }
       ],
       "layout": {
        "annotations": [
         {
          "align": "left",
          "bgcolor": "rgba(255,255,255,0.7)",
          "bordercolor": "black",
          "borderwidth": 1,
          "font": {
           "color": "black",
           "size": 12
          },
          "showarrow": false,
          "text": "<br><b>MSE:</b> 0.07<br><b>R²:</b> -5.48",
          "x": "2015-12-01T00:00:00",
          "y": 6.664205984510283
         }
        ],
        "legend": {
         "x": 0.01,
         "y": 0.99
        },
        "template": {
         "data": {
          "bar": [
           {
            "error_x": {
             "color": "#2a3f5f"
            },
            "error_y": {
             "color": "#2a3f5f"
            },
            "marker": {
             "line": {
              "color": "white",
              "width": 0.5
             },
             "pattern": {
              "fillmode": "overlay",
              "size": 10,
              "solidity": 0.2
             }
            },
            "type": "bar"
           }
          ],
          "barpolar": [
           {
            "marker": {
             "line": {
              "color": "white",
              "width": 0.5
             },
             "pattern": {
              "fillmode": "overlay",
              "size": 10,
              "solidity": 0.2
             }
            },
            "type": "barpolar"
           }
          ],
          "carpet": [
           {
            "aaxis": {
             "endlinecolor": "#2a3f5f",
             "gridcolor": "#C8D4E3",
             "linecolor": "#C8D4E3",
             "minorgridcolor": "#C8D4E3",
             "startlinecolor": "#2a3f5f"
            },
            "baxis": {
             "endlinecolor": "#2a3f5f",
             "gridcolor": "#C8D4E3",
             "linecolor": "#C8D4E3",
             "minorgridcolor": "#C8D4E3",
             "startlinecolor": "#2a3f5f"
            },
            "type": "carpet"
           }
          ],
          "choropleth": [
           {
            "colorbar": {
             "outlinewidth": 0,
             "ticks": ""
            },
            "type": "choropleth"
           }
          ],
          "contour": [
           {
            "colorbar": {
             "outlinewidth": 0,
             "ticks": ""
            },
            "colorscale": [
             [
              0,
              "#0d0887"
             ],
             [
              0.1111111111111111,
              "#46039f"
             ],
             [
              0.2222222222222222,
              "#7201a8"
             ],
             [
              0.3333333333333333,
              "#9c179e"
             ],
             [
              0.4444444444444444,
              "#bd3786"
             ],
             [
              0.5555555555555556,
              "#d8576b"
             ],
             [
              0.6666666666666666,
              "#ed7953"
             ],
             [
              0.7777777777777778,
              "#fb9f3a"
             ],
             [
              0.8888888888888888,
              "#fdca26"
             ],
             [
              1,
              "#f0f921"
             ]
            ],
            "type": "contour"
           }
          ],
          "contourcarpet": [
           {
            "colorbar": {
             "outlinewidth": 0,
             "ticks": ""
            },
            "type": "contourcarpet"
           }
          ],
          "heatmap": [
           {
            "colorbar": {
             "outlinewidth": 0,
             "ticks": ""
            },
            "colorscale": [
             [
              0,
              "#0d0887"
             ],
             [
              0.1111111111111111,
              "#46039f"
             ],
             [
              0.2222222222222222,
              "#7201a8"
             ],
             [
              0.3333333333333333,
              "#9c179e"
             ],
             [
              0.4444444444444444,
              "#bd3786"
             ],
             [
              0.5555555555555556,
              "#d8576b"
             ],
             [
              0.6666666666666666,
              "#ed7953"
             ],
             [
              0.7777777777777778,
              "#fb9f3a"
             ],
             [
              0.8888888888888888,
              "#fdca26"
             ],
             [
              1,
              "#f0f921"
             ]
            ],
            "type": "heatmap"
           }
          ],
          "heatmapgl": [
           {
            "colorbar": {
             "outlinewidth": 0,
             "ticks": ""
            },
            "colorscale": [
             [
              0,
              "#0d0887"
             ],
             [
              0.1111111111111111,
              "#46039f"
             ],
             [
              0.2222222222222222,
              "#7201a8"
             ],
             [
              0.3333333333333333,
              "#9c179e"
             ],
             [
              0.4444444444444444,
              "#bd3786"
             ],
             [
              0.5555555555555556,
              "#d8576b"
             ],
             [
              0.6666666666666666,
              "#ed7953"
             ],
             [
              0.7777777777777778,
              "#fb9f3a"
             ],
             [
              0.8888888888888888,
              "#fdca26"
             ],
             [
              1,
              "#f0f921"
             ]
            ],
            "type": "heatmapgl"
           }
          ],
          "histogram": [
           {
            "marker": {
             "pattern": {
              "fillmode": "overlay",
              "size": 10,
              "solidity": 0.2
             }
            },
            "type": "histogram"
           }
          ],
          "histogram2d": [
           {
            "colorbar": {
             "outlinewidth": 0,
             "ticks": ""
            },
            "colorscale": [
             [
              0,
              "#0d0887"
             ],
             [
              0.1111111111111111,
              "#46039f"
             ],
             [
              0.2222222222222222,
              "#7201a8"
             ],
             [
              0.3333333333333333,
              "#9c179e"
             ],
             [
              0.4444444444444444,
              "#bd3786"
             ],
             [
              0.5555555555555556,
              "#d8576b"
             ],
             [
              0.6666666666666666,
              "#ed7953"
             ],
             [
              0.7777777777777778,
              "#fb9f3a"
             ],
             [
              0.8888888888888888,
              "#fdca26"
             ],
             [
              1,
              "#f0f921"
             ]
            ],
            "type": "histogram2d"
           }
          ],
          "histogram2dcontour": [
           {
            "colorbar": {
             "outlinewidth": 0,
             "ticks": ""
            },
            "colorscale": [
             [
              0,
              "#0d0887"
             ],
             [
              0.1111111111111111,
              "#46039f"
             ],
             [
              0.2222222222222222,
              "#7201a8"
             ],
             [
              0.3333333333333333,
              "#9c179e"
             ],
             [
              0.4444444444444444,
              "#bd3786"
             ],
             [
              0.5555555555555556,
              "#d8576b"
             ],
             [
              0.6666666666666666,
              "#ed7953"
             ],
             [
              0.7777777777777778,
              "#fb9f3a"
             ],
             [
              0.8888888888888888,
              "#fdca26"
             ],
             [
              1,
              "#f0f921"
             ]
            ],
            "type": "histogram2dcontour"
           }
          ],
          "mesh3d": [
           {
            "colorbar": {
             "outlinewidth": 0,
             "ticks": ""
            },
            "type": "mesh3d"
           }
          ],
          "parcoords": [
           {
            "line": {
             "colorbar": {
              "outlinewidth": 0,
              "ticks": ""
             }
            },
            "type": "parcoords"
           }
          ],
          "pie": [
           {
            "automargin": true,
            "type": "pie"
           }
          ],
          "scatter": [
           {
            "fillpattern": {
             "fillmode": "overlay",
             "size": 10,
             "solidity": 0.2
            },
            "type": "scatter"
           }
          ],
          "scatter3d": [
           {
            "line": {
             "colorbar": {
              "outlinewidth": 0,
              "ticks": ""
             }
            },
            "marker": {
             "colorbar": {
              "outlinewidth": 0,
              "ticks": ""
             }
            },
            "type": "scatter3d"
           }
          ],
          "scattercarpet": [
           {
            "marker": {
             "colorbar": {
              "outlinewidth": 0,
              "ticks": ""
             }
            },
            "type": "scattercarpet"
           }
          ],
          "scattergeo": [
           {
            "marker": {
             "colorbar": {
              "outlinewidth": 0,
              "ticks": ""
             }
            },
            "type": "scattergeo"
           }
          ],
          "scattergl": [
           {
            "marker": {
             "colorbar": {
              "outlinewidth": 0,
              "ticks": ""
             }
            },
            "type": "scattergl"
           }
          ],
          "scattermapbox": [
           {
            "marker": {
             "colorbar": {
              "outlinewidth": 0,
              "ticks": ""
             }
            },
            "type": "scattermapbox"
           }
          ],
          "scatterpolar": [
           {
            "marker": {
             "colorbar": {
              "outlinewidth": 0,
              "ticks": ""
             }
            },
            "type": "scatterpolar"
           }
          ],
          "scatterpolargl": [
           {
            "marker": {
             "colorbar": {
              "outlinewidth": 0,
              "ticks": ""
             }
            },
            "type": "scatterpolargl"
           }
          ],
          "scatterternary": [
           {
            "marker": {
             "colorbar": {
              "outlinewidth": 0,
              "ticks": ""
             }
            },
            "type": "scatterternary"
           }
          ],
          "surface": [
           {
            "colorbar": {
             "outlinewidth": 0,
             "ticks": ""
            },
            "colorscale": [
             [
              0,
              "#0d0887"
             ],
             [
              0.1111111111111111,
              "#46039f"
             ],
             [
              0.2222222222222222,
              "#7201a8"
             ],
             [
              0.3333333333333333,
              "#9c179e"
             ],
             [
              0.4444444444444444,
              "#bd3786"
             ],
             [
              0.5555555555555556,
              "#d8576b"
             ],
             [
              0.6666666666666666,
              "#ed7953"
             ],
             [
              0.7777777777777778,
              "#fb9f3a"
             ],
             [
              0.8888888888888888,
              "#fdca26"
             ],
             [
              1,
              "#f0f921"
             ]
            ],
            "type": "surface"
           }
          ],
          "table": [
           {
            "cells": {
             "fill": {
              "color": "#EBF0F8"
             },
             "line": {
              "color": "white"
             }
            },
            "header": {
             "fill": {
              "color": "#C8D4E3"
             },
             "line": {
              "color": "white"
             }
            },
            "type": "table"
           }
          ]
         },
         "layout": {
          "annotationdefaults": {
           "arrowcolor": "#2a3f5f",
           "arrowhead": 0,
           "arrowwidth": 1
          },
          "autotypenumbers": "strict",
          "coloraxis": {
           "colorbar": {
            "outlinewidth": 0,
            "ticks": ""
           }
          },
          "colorscale": {
           "diverging": [
            [
             0,
             "#8e0152"
            ],
            [
             0.1,
             "#c51b7d"
            ],
            [
             0.2,
             "#de77ae"
            ],
            [
             0.3,
             "#f1b6da"
            ],
            [
             0.4,
             "#fde0ef"
            ],
            [
             0.5,
             "#f7f7f7"
            ],
            [
             0.6,
             "#e6f5d0"
            ],
            [
             0.7,
             "#b8e186"
            ],
            [
             0.8,
             "#7fbc41"
            ],
            [
             0.9,
             "#4d9221"
            ],
            [
             1,
             "#276419"
            ]
           ],
           "sequential": [
            [
             0,
             "#0d0887"
            ],
            [
             0.1111111111111111,
             "#46039f"
            ],
            [
             0.2222222222222222,
             "#7201a8"
            ],
            [
             0.3333333333333333,
             "#9c179e"
            ],
            [
             0.4444444444444444,
             "#bd3786"
            ],
            [
             0.5555555555555556,
             "#d8576b"
            ],
            [
             0.6666666666666666,
             "#ed7953"
            ],
            [
             0.7777777777777778,
             "#fb9f3a"
            ],
            [
             0.8888888888888888,
             "#fdca26"
            ],
            [
             1,
             "#f0f921"
            ]
           ],
           "sequentialminus": [
            [
             0,
             "#0d0887"
            ],
            [
             0.1111111111111111,
             "#46039f"
            ],
            [
             0.2222222222222222,
             "#7201a8"
            ],
            [
             0.3333333333333333,
             "#9c179e"
            ],
            [
             0.4444444444444444,
             "#bd3786"
            ],
            [
             0.5555555555555556,
             "#d8576b"
            ],
            [
             0.6666666666666666,
             "#ed7953"
            ],
            [
             0.7777777777777778,
             "#fb9f3a"
            ],
            [
             0.8888888888888888,
             "#fdca26"
            ],
            [
             1,
             "#f0f921"
            ]
           ]
          },
          "colorway": [
           "#636efa",
           "#EF553B",
           "#00cc96",
           "#ab63fa",
           "#FFA15A",
           "#19d3f3",
           "#FF6692",
           "#B6E880",
           "#FF97FF",
           "#FECB52"
          ],
          "font": {
           "color": "#2a3f5f"
          },
          "geo": {
           "bgcolor": "white",
           "lakecolor": "white",
           "landcolor": "white",
           "showlakes": true,
           "showland": true,
           "subunitcolor": "#C8D4E3"
          },
          "hoverlabel": {
           "align": "left"
          },
          "hovermode": "closest",
          "mapbox": {
           "style": "light"
          },
          "paper_bgcolor": "white",
          "plot_bgcolor": "white",
          "polar": {
           "angularaxis": {
            "gridcolor": "#EBF0F8",
            "linecolor": "#EBF0F8",
            "ticks": ""
           },
           "bgcolor": "white",
           "radialaxis": {
            "gridcolor": "#EBF0F8",
            "linecolor": "#EBF0F8",
            "ticks": ""
           }
          },
          "scene": {
           "xaxis": {
            "backgroundcolor": "white",
            "gridcolor": "#DFE8F3",
            "gridwidth": 2,
            "linecolor": "#EBF0F8",
            "showbackground": true,
            "ticks": "",
            "zerolinecolor": "#EBF0F8"
           },
           "yaxis": {
            "backgroundcolor": "white",
            "gridcolor": "#DFE8F3",
            "gridwidth": 2,
            "linecolor": "#EBF0F8",
            "showbackground": true,
            "ticks": "",
            "zerolinecolor": "#EBF0F8"
           },
           "zaxis": {
            "backgroundcolor": "white",
            "gridcolor": "#DFE8F3",
            "gridwidth": 2,
            "linecolor": "#EBF0F8",
            "showbackground": true,
            "ticks": "",
            "zerolinecolor": "#EBF0F8"
           }
          },
          "shapedefaults": {
           "line": {
            "color": "#2a3f5f"
           }
          },
          "ternary": {
           "aaxis": {
            "gridcolor": "#DFE8F3",
            "linecolor": "#A2B1C6",
            "ticks": ""
           },
           "baxis": {
            "gridcolor": "#DFE8F3",
            "linecolor": "#A2B1C6",
            "ticks": ""
           },
           "bgcolor": "white",
           "caxis": {
            "gridcolor": "#DFE8F3",
            "linecolor": "#A2B1C6",
            "ticks": ""
           }
          },
          "title": {
           "x": 0.05
          },
          "xaxis": {
           "automargin": true,
           "gridcolor": "#EBF0F8",
           "linecolor": "#EBF0F8",
           "ticks": "",
           "title": {
            "standoff": 15
           },
           "zerolinecolor": "#EBF0F8",
           "zerolinewidth": 2
          },
          "yaxis": {
           "automargin": true,
           "gridcolor": "#EBF0F8",
           "linecolor": "#EBF0F8",
           "ticks": "",
           "title": {
            "standoff": 15
           },
           "zerolinecolor": "#EBF0F8",
           "zerolinewidth": 2
          }
         }
        },
        "title": {
         "text": "AQI Forecasting - Train, Test, and Predictions using Prophet"
        },
        "xaxis": {
         "title": {
          "text": "Period"
         }
        },
        "yaxis": {
         "title": {
          "text": "AQI"
         }
        }
       }
      }
     },
     "metadata": {},
     "output_type": "display_data"
    }
   ],
   "source": [
    "mse = mean_squared_error(test['y'], y_pred[\"yhat\"])\n",
    "r2 = r2_score(test['y'], y_pred[\"yhat\"])\n",
    "\n",
    "print(f\"MSE on training set(Prophet): {mse}\")\n",
    "print(f\"R² on training set(Prophet): {r2}\")\n",
    "\n",
    "# Create a Plotly Figure\n",
    "fig = go.Figure()\n",
    "\n",
    "# Add train data\n",
    "fig.add_trace(go.Scatter(x=data_A['ds'], y=data_A['y'],\n",
    "                         mode='lines', name='Train',\n",
    "                         line=dict(color='blue')))\n",
    "\n",
    "# Add test data\n",
    "# fig.add_trace(go.Scatter(x=data['ds'], y=test['y'],\n",
    "#                          mode='lines', name='Test',\n",
    "#                          line=dict(color='green')))\n",
    "\n",
    "# Add predictions\n",
    "fig.add_trace(go.Scatter(x=y_pred['ds'], y=y_pred[\"yhat\"],\n",
    "                         mode='lines', name='Prediction',\n",
    "                         line=dict(color='red', dash='dot')))\n",
    "\n",
    "# Update layout\n",
    "fig.update_layout(\n",
    "    title='AQI Forecasting - Train, Test, and Predictions using Prophet',\n",
    "    xaxis_title='Period',\n",
    "    yaxis_title='AQI',\n",
    "    legend=dict(x=0.01, y=0.99),\n",
    "    template='plotly_white'\n",
    ")\n",
    "\n",
    "# Show metrics in the plot\n",
    "fig.add_annotation(\n",
    "    x=data_A['ds'].iloc[-1],\n",
    "    y=max(test['y'])+2,\n",
    "    text=f\"<br><b>MSE:</b> {mse:.2f}<br><b>R²:</b> {r2:.2f}\",\n",
    "    showarrow=False,\n",
    "    font=dict(size=12, color=\"black\"),\n",
    "    align=\"left\",\n",
    "    bgcolor=\"rgba(255,255,255,0.7)\",\n",
    "    bordercolor=\"black\",\n",
    "    borderwidth=1\n",
    ")\n",
    "\n",
    "# Show the plot\n",
    "fig.show()"
   ]
  }
 ],
 "metadata": {
  "kernelspec": {
   "display_name": "myenv",
   "language": "python",
   "name": "python3"
  },
  "language_info": {
   "codemirror_mode": {
    "name": "ipython",
    "version": 3
   },
   "file_extension": ".py",
   "mimetype": "text/x-python",
   "name": "python",
   "nbconvert_exporter": "python",
   "pygments_lexer": "ipython3",
   "version": "3.12.7"
  }
 },
 "nbformat": 4,
 "nbformat_minor": 2
}
