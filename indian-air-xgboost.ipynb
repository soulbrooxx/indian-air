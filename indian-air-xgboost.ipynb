{
 "cells": [
  {
   "cell_type": "code",
   "execution_count": 12,
   "metadata": {},
   "outputs": [],
   "source": [
    "import pandas as pd\n",
    "import numpy as np\n",
    "import matplotlib.pyplot as plt\n"
   ]
  },
  {
   "cell_type": "code",
   "execution_count": 13,
   "metadata": {},
   "outputs": [],
   "source": [
    "data = pd.read_csv(\"clean_data.csv\")"
   ]
  },
  {
   "cell_type": "code",
   "execution_count": 14,
   "metadata": {},
   "outputs": [
    {
     "data": {
      "text/html": [
       "<div>\n",
       "<style scoped>\n",
       "    .dataframe tbody tr th:only-of-type {\n",
       "        vertical-align: middle;\n",
       "    }\n",
       "\n",
       "    .dataframe tbody tr th {\n",
       "        vertical-align: top;\n",
       "    }\n",
       "\n",
       "    .dataframe thead th {\n",
       "        text-align: right;\n",
       "    }\n",
       "</style>\n",
       "<table border=\"1\" class=\"dataframe\">\n",
       "  <thead>\n",
       "    <tr style=\"text-align: right;\">\n",
       "      <th></th>\n",
       "      <th>so2</th>\n",
       "      <th>si</th>\n",
       "    </tr>\n",
       "  </thead>\n",
       "  <tbody>\n",
       "    <tr>\n",
       "      <th>0</th>\n",
       "      <td>4.8</td>\n",
       "      <td>6.000</td>\n",
       "    </tr>\n",
       "    <tr>\n",
       "      <th>1</th>\n",
       "      <td>3.1</td>\n",
       "      <td>3.875</td>\n",
       "    </tr>\n",
       "    <tr>\n",
       "      <th>2</th>\n",
       "      <td>6.2</td>\n",
       "      <td>7.750</td>\n",
       "    </tr>\n",
       "    <tr>\n",
       "      <th>3</th>\n",
       "      <td>6.3</td>\n",
       "      <td>7.875</td>\n",
       "    </tr>\n",
       "    <tr>\n",
       "      <th>4</th>\n",
       "      <td>4.7</td>\n",
       "      <td>5.875</td>\n",
       "    </tr>\n",
       "  </tbody>\n",
       "</table>\n",
       "</div>"
      ],
      "text/plain": [
       "   so2     si\n",
       "0  4.8  6.000\n",
       "1  3.1  3.875\n",
       "2  6.2  7.750\n",
       "3  6.3  7.875\n",
       "4  4.7  5.875"
      ]
     },
     "execution_count": 14,
     "metadata": {},
     "output_type": "execute_result"
    }
   ],
   "source": [
    "def calculate_si(so2):\n",
    "    si=0\n",
    "    if (so2<=40):\n",
    "     si= so2*(50/40)\n",
    "    if (so2>40 and so2<=80):\n",
    "     si= 50+(so2-40)*(50/40)\n",
    "    if (so2>80 and so2<=380):\n",
    "     si= 100+(so2-80)*(100/300)\n",
    "    if (so2>380 and so2<=800):\n",
    "     si= 200+(so2-380)*(100/800)\n",
    "    if (so2>800 and so2<=1600):\n",
    "     si= 300+(so2-800)*(100/800)\n",
    "    if (so2>1600):\n",
    "     si= 400+(so2-1600)*(100/800)\n",
    "    return si\n",
    "data['si']=data['so2'].apply(calculate_si)\n",
    "df= data[['so2','si']]\n",
    "df.head()"
   ]
  },
  {
   "cell_type": "code",
   "execution_count": 16,
   "metadata": {},
   "outputs": [
    {
     "data": {
      "text/html": [
       "<div>\n",
       "<style scoped>\n",
       "    .dataframe tbody tr th:only-of-type {\n",
       "        vertical-align: middle;\n",
       "    }\n",
       "\n",
       "    .dataframe tbody tr th {\n",
       "        vertical-align: top;\n",
       "    }\n",
       "\n",
       "    .dataframe thead th {\n",
       "        text-align: right;\n",
       "    }\n",
       "</style>\n",
       "<table border=\"1\" class=\"dataframe\">\n",
       "  <thead>\n",
       "    <tr style=\"text-align: right;\">\n",
       "      <th></th>\n",
       "      <th>no2</th>\n",
       "      <th>ni</th>\n",
       "    </tr>\n",
       "  </thead>\n",
       "  <tbody>\n",
       "    <tr>\n",
       "      <th>0</th>\n",
       "      <td>17.4</td>\n",
       "      <td>21.750</td>\n",
       "    </tr>\n",
       "    <tr>\n",
       "      <th>1</th>\n",
       "      <td>7.0</td>\n",
       "      <td>8.750</td>\n",
       "    </tr>\n",
       "    <tr>\n",
       "      <th>2</th>\n",
       "      <td>28.5</td>\n",
       "      <td>35.625</td>\n",
       "    </tr>\n",
       "    <tr>\n",
       "      <th>3</th>\n",
       "      <td>14.7</td>\n",
       "      <td>18.375</td>\n",
       "    </tr>\n",
       "    <tr>\n",
       "      <th>4</th>\n",
       "      <td>7.5</td>\n",
       "      <td>9.375</td>\n",
       "    </tr>\n",
       "  </tbody>\n",
       "</table>\n",
       "</div>"
      ],
      "text/plain": [
       "    no2      ni\n",
       "0  17.4  21.750\n",
       "1   7.0   8.750\n",
       "2  28.5  35.625\n",
       "3  14.7  18.375\n",
       "4   7.5   9.375"
      ]
     },
     "execution_count": 16,
     "metadata": {},
     "output_type": "execute_result"
    }
   ],
   "source": [
    "def calculate_ni(no2):\n",
    "    ni=0\n",
    "    if(no2<=40):\n",
    "     ni= no2*50/40\n",
    "    elif(no2>40 and no2<=80):\n",
    "     ni= 50+(no2-14)*(50/40)\n",
    "    elif(no2>80 and no2<=180):\n",
    "     ni= 100+(no2-80)*(100/100)\n",
    "    elif(no2>180 and no2<=280):\n",
    "     ni= 200+(no2-180)*(100/100)\n",
    "    elif(no2>280 and no2<=400):\n",
    "     ni= 300+(no2-280)*(100/120)\n",
    "    else:\n",
    "     ni= 400+(no2-400)*(100/120)\n",
    "    return ni\n",
    "data['ni']=data['no2'].apply(calculate_ni)\n",
    "df= data[['no2','ni']]\n",
    "df.head()"
   ]
  },
  {
   "cell_type": "code",
   "execution_count": 17,
   "metadata": {},
   "outputs": [
    {
     "data": {
      "text/html": [
       "<div>\n",
       "<style scoped>\n",
       "    .dataframe tbody tr th:only-of-type {\n",
       "        vertical-align: middle;\n",
       "    }\n",
       "\n",
       "    .dataframe tbody tr th {\n",
       "        vertical-align: top;\n",
       "    }\n",
       "\n",
       "    .dataframe thead th {\n",
       "        text-align: right;\n",
       "    }\n",
       "</style>\n",
       "<table border=\"1\" class=\"dataframe\">\n",
       "  <thead>\n",
       "    <tr style=\"text-align: right;\">\n",
       "      <th></th>\n",
       "      <th>rspm</th>\n",
       "      <th>rpi</th>\n",
       "    </tr>\n",
       "  </thead>\n",
       "  <tbody>\n",
       "    <tr>\n",
       "      <th>430340</th>\n",
       "      <td>148.0</td>\n",
       "      <td>122.666667</td>\n",
       "    </tr>\n",
       "    <tr>\n",
       "      <th>430341</th>\n",
       "      <td>131.0</td>\n",
       "      <td>117.000000</td>\n",
       "    </tr>\n",
       "    <tr>\n",
       "      <th>430342</th>\n",
       "      <td>140.0</td>\n",
       "      <td>120.000000</td>\n",
       "    </tr>\n",
       "    <tr>\n",
       "      <th>430343</th>\n",
       "      <td>143.0</td>\n",
       "      <td>121.000000</td>\n",
       "    </tr>\n",
       "    <tr>\n",
       "      <th>430344</th>\n",
       "      <td>171.0</td>\n",
       "      <td>130.333333</td>\n",
       "    </tr>\n",
       "  </tbody>\n",
       "</table>\n",
       "</div>"
      ],
      "text/plain": [
       "         rspm         rpi\n",
       "430340  148.0  122.666667\n",
       "430341  131.0  117.000000\n",
       "430342  140.0  120.000000\n",
       "430343  143.0  121.000000\n",
       "430344  171.0  130.333333"
      ]
     },
     "execution_count": 17,
     "metadata": {},
     "output_type": "execute_result"
    }
   ],
   "source": [
    "def calculate_(rspm):\n",
    "    rpi=0\n",
    "    if(rpi<=30):\n",
    "     rpi=rpi*50/30\n",
    "    elif(rpi>30 and rpi<=60):\n",
    "     rpi=50+(rpi-30)*50/30\n",
    "    elif(rpi>60 and rpi<=90):\n",
    "     rpi=100+(rpi-60)*100/30\n",
    "    elif(rpi>90 and rpi<=120):\n",
    "     rpi=200+(rpi-90)*100/30\n",
    "    elif(rpi>120 and rpi<=250):\n",
    "     rpi=300+(rpi-120)*(100/130)\n",
    "    else:\n",
    "     rpi=400+(rpi-250)*(100/130)\n",
    "    return rpi\n",
    "data['rpi']=data['rspm'].apply(calculate_si)\n",
    "df= data[['rspm','rpi']]\n",
    "df.tail()"
   ]
  },
  {
   "cell_type": "code",
   "execution_count": 18,
   "metadata": {},
   "outputs": [
    {
     "data": {
      "text/html": [
       "<div>\n",
       "<style scoped>\n",
       "    .dataframe tbody tr th:only-of-type {\n",
       "        vertical-align: middle;\n",
       "    }\n",
       "\n",
       "    .dataframe tbody tr th {\n",
       "        vertical-align: top;\n",
       "    }\n",
       "\n",
       "    .dataframe thead th {\n",
       "        text-align: right;\n",
       "    }\n",
       "</style>\n",
       "<table border=\"1\" class=\"dataframe\">\n",
       "  <thead>\n",
       "    <tr style=\"text-align: right;\">\n",
       "      <th></th>\n",
       "      <th>spm</th>\n",
       "      <th>spi</th>\n",
       "    </tr>\n",
       "  </thead>\n",
       "  <tbody>\n",
       "    <tr>\n",
       "      <th>430340</th>\n",
       "      <td>220.78348</td>\n",
       "      <td>180.52232</td>\n",
       "    </tr>\n",
       "    <tr>\n",
       "      <th>430341</th>\n",
       "      <td>220.78348</td>\n",
       "      <td>180.52232</td>\n",
       "    </tr>\n",
       "    <tr>\n",
       "      <th>430342</th>\n",
       "      <td>220.78348</td>\n",
       "      <td>180.52232</td>\n",
       "    </tr>\n",
       "    <tr>\n",
       "      <th>430343</th>\n",
       "      <td>220.78348</td>\n",
       "      <td>180.52232</td>\n",
       "    </tr>\n",
       "    <tr>\n",
       "      <th>430344</th>\n",
       "      <td>220.78348</td>\n",
       "      <td>180.52232</td>\n",
       "    </tr>\n",
       "  </tbody>\n",
       "</table>\n",
       "</div>"
      ],
      "text/plain": [
       "              spm        spi\n",
       "430340  220.78348  180.52232\n",
       "430341  220.78348  180.52232\n",
       "430342  220.78348  180.52232\n",
       "430343  220.78348  180.52232\n",
       "430344  220.78348  180.52232"
      ]
     },
     "execution_count": 18,
     "metadata": {},
     "output_type": "execute_result"
    }
   ],
   "source": [
    "def calculate_spi(spm):\n",
    "    spi=0\n",
    "    if(spm<=50):\n",
    "     spi=spm\n",
    "    if(spm<50 and spm<=100):\n",
    "     spi=spm\n",
    "    elif(spm>100 and spm<=250):\n",
    "     spi= 100+(spm-100)*(100/150)\n",
    "    elif(spm>250 and spm<=350):\n",
    "     spi=200+(spm-250)\n",
    "    elif(spm>350 and spm<=450):\n",
    "     spi=300+(spm-350)*(100/80)\n",
    "    else:\n",
    "     spi=400+(spm-430)*(100/80)\n",
    "    return spi\n",
    "data['spi']=data['spm'].apply(calculate_spi)\n",
    "df= data[['spm','spi']]\n",
    "df.tail()\n",
    "#many data values of rspm values is unawailable since it was not measure before"
   ]
  },
  {
   "cell_type": "code",
   "execution_count": 19,
   "metadata": {},
   "outputs": [
    {
     "data": {
      "text/html": [
       "<div>\n",
       "<style scoped>\n",
       "    .dataframe tbody tr th:only-of-type {\n",
       "        vertical-align: middle;\n",
       "    }\n",
       "\n",
       "    .dataframe tbody tr th {\n",
       "        vertical-align: top;\n",
       "    }\n",
       "\n",
       "    .dataframe thead th {\n",
       "        text-align: right;\n",
       "    }\n",
       "</style>\n",
       "<table border=\"1\" class=\"dataframe\">\n",
       "  <thead>\n",
       "    <tr style=\"text-align: right;\">\n",
       "      <th></th>\n",
       "      <th>date</th>\n",
       "      <th>state</th>\n",
       "      <th>si</th>\n",
       "      <th>ni</th>\n",
       "      <th>rpi</th>\n",
       "      <th>spi</th>\n",
       "      <th>AQI</th>\n",
       "    </tr>\n",
       "  </thead>\n",
       "  <tbody>\n",
       "    <tr>\n",
       "      <th>0</th>\n",
       "      <td>1990-02-01</td>\n",
       "      <td>Andhra Pradesh</td>\n",
       "      <td>6.000</td>\n",
       "      <td>21.750</td>\n",
       "      <td>109.610928</td>\n",
       "      <td>180.52232</td>\n",
       "      <td>180.52232</td>\n",
       "    </tr>\n",
       "    <tr>\n",
       "      <th>1</th>\n",
       "      <td>1990-02-01</td>\n",
       "      <td>Andhra Pradesh</td>\n",
       "      <td>3.875</td>\n",
       "      <td>8.750</td>\n",
       "      <td>109.610928</td>\n",
       "      <td>180.52232</td>\n",
       "      <td>180.52232</td>\n",
       "    </tr>\n",
       "    <tr>\n",
       "      <th>2</th>\n",
       "      <td>1990-02-01</td>\n",
       "      <td>Andhra Pradesh</td>\n",
       "      <td>7.750</td>\n",
       "      <td>35.625</td>\n",
       "      <td>109.610928</td>\n",
       "      <td>180.52232</td>\n",
       "      <td>180.52232</td>\n",
       "    </tr>\n",
       "    <tr>\n",
       "      <th>3</th>\n",
       "      <td>1990-03-01</td>\n",
       "      <td>Andhra Pradesh</td>\n",
       "      <td>7.875</td>\n",
       "      <td>18.375</td>\n",
       "      <td>109.610928</td>\n",
       "      <td>180.52232</td>\n",
       "      <td>180.52232</td>\n",
       "    </tr>\n",
       "    <tr>\n",
       "      <th>4</th>\n",
       "      <td>1990-03-01</td>\n",
       "      <td>Andhra Pradesh</td>\n",
       "      <td>5.875</td>\n",
       "      <td>9.375</td>\n",
       "      <td>109.610928</td>\n",
       "      <td>180.52232</td>\n",
       "      <td>180.52232</td>\n",
       "    </tr>\n",
       "  </tbody>\n",
       "</table>\n",
       "</div>"
      ],
      "text/plain": [
       "         date           state     si      ni         rpi        spi        AQI\n",
       "0  1990-02-01  Andhra Pradesh  6.000  21.750  109.610928  180.52232  180.52232\n",
       "1  1990-02-01  Andhra Pradesh  3.875   8.750  109.610928  180.52232  180.52232\n",
       "2  1990-02-01  Andhra Pradesh  7.750  35.625  109.610928  180.52232  180.52232\n",
       "3  1990-03-01  Andhra Pradesh  7.875  18.375  109.610928  180.52232  180.52232\n",
       "4  1990-03-01  Andhra Pradesh  5.875   9.375  109.610928  180.52232  180.52232"
      ]
     },
     "execution_count": 19,
     "metadata": {},
     "output_type": "execute_result"
    }
   ],
   "source": [
    "#function to calculate the air quality index (AQI) of every data value\n",
    "#its is calculated as per indian govt standards\n",
    "def calculate_aqi(si,ni,spi,rpi):\n",
    "    aqi=0\n",
    "    if(si>ni and si>spi and si>rpi):\n",
    "     aqi=si\n",
    "    if(spi>si and spi>ni and spi>rpi):\n",
    "     aqi=spi\n",
    "    if(ni>si and ni>spi and ni>rpi):\n",
    "     aqi=ni\n",
    "    if(rpi>si and rpi>ni and rpi>spi):\n",
    "     aqi=rpi\n",
    "    return aqi\n",
    "data['AQI']=data.apply(lambda x:calculate_aqi(x['si'],x['ni'],x['spi'],x['rpi']),axis=1)\n",
    "df= data[['date','state','si','ni','rpi','spi','AQI']]\n",
    "df.head()"
   ]
  },
  {
   "cell_type": "code",
   "execution_count": 20,
   "metadata": {},
   "outputs": [],
   "source": [
    "df.to_csv('data_1st.csv',index=False)"
   ]
  },
  {
   "cell_type": "code",
   "execution_count": 21,
   "metadata": {},
   "outputs": [
    {
     "name": "stderr",
     "output_type": "stream",
     "text": [
      "C:\\Users\\TNK\\AppData\\Local\\Temp\\ipykernel_8032\\4064763646.py:2: SettingWithCopyWarning: \n",
      "A value is trying to be set on a copy of a slice from a DataFrame.\n",
      "Try using .loc[row_indexer,col_indexer] = value instead\n",
      "\n",
      "See the caveats in the documentation: https://pandas.pydata.org/pandas-docs/stable/user_guide/indexing.html#returning-a-view-versus-a-copy\n",
      "  df[\"date\"] = pd.to_datetime(df['date'])\n"
     ]
    },
    {
     "data": {
      "text/html": [
       "<div>\n",
       "<style scoped>\n",
       "    .dataframe tbody tr th:only-of-type {\n",
       "        vertical-align: middle;\n",
       "    }\n",
       "\n",
       "    .dataframe tbody tr th {\n",
       "        vertical-align: top;\n",
       "    }\n",
       "\n",
       "    .dataframe thead th {\n",
       "        text-align: right;\n",
       "    }\n",
       "</style>\n",
       "<table border=\"1\" class=\"dataframe\">\n",
       "  <thead>\n",
       "    <tr style=\"text-align: right;\">\n",
       "      <th></th>\n",
       "      <th>AQI</th>\n",
       "      <th>date</th>\n",
       "    </tr>\n",
       "  </thead>\n",
       "  <tbody>\n",
       "    <tr>\n",
       "      <th>430325</th>\n",
       "      <td>180.52232</td>\n",
       "      <td>2015-10-23</td>\n",
       "    </tr>\n",
       "    <tr>\n",
       "      <th>430326</th>\n",
       "      <td>180.52232</td>\n",
       "      <td>2015-10-28</td>\n",
       "    </tr>\n",
       "    <tr>\n",
       "      <th>430327</th>\n",
       "      <td>180.52232</td>\n",
       "      <td>2015-10-31</td>\n",
       "    </tr>\n",
       "    <tr>\n",
       "      <th>430328</th>\n",
       "      <td>180.52232</td>\n",
       "      <td>2015-11-05</td>\n",
       "    </tr>\n",
       "    <tr>\n",
       "      <th>430329</th>\n",
       "      <td>180.52232</td>\n",
       "      <td>2015-11-07</td>\n",
       "    </tr>\n",
       "    <tr>\n",
       "      <th>430330</th>\n",
       "      <td>180.52232</td>\n",
       "      <td>2015-11-10</td>\n",
       "    </tr>\n",
       "    <tr>\n",
       "      <th>430331</th>\n",
       "      <td>180.52232</td>\n",
       "      <td>2015-11-11</td>\n",
       "    </tr>\n",
       "    <tr>\n",
       "      <th>430332</th>\n",
       "      <td>180.52232</td>\n",
       "      <td>2015-11-16</td>\n",
       "    </tr>\n",
       "    <tr>\n",
       "      <th>430333</th>\n",
       "      <td>180.52232</td>\n",
       "      <td>2015-11-20</td>\n",
       "    </tr>\n",
       "    <tr>\n",
       "      <th>430334</th>\n",
       "      <td>180.52232</td>\n",
       "      <td>2015-11-26</td>\n",
       "    </tr>\n",
       "    <tr>\n",
       "      <th>430335</th>\n",
       "      <td>180.52232</td>\n",
       "      <td>2015-11-29</td>\n",
       "    </tr>\n",
       "    <tr>\n",
       "      <th>430336</th>\n",
       "      <td>180.52232</td>\n",
       "      <td>2015-12-03</td>\n",
       "    </tr>\n",
       "    <tr>\n",
       "      <th>430337</th>\n",
       "      <td>180.52232</td>\n",
       "      <td>2015-12-06</td>\n",
       "    </tr>\n",
       "    <tr>\n",
       "      <th>430338</th>\n",
       "      <td>180.52232</td>\n",
       "      <td>2015-12-09</td>\n",
       "    </tr>\n",
       "    <tr>\n",
       "      <th>430339</th>\n",
       "      <td>180.52232</td>\n",
       "      <td>2015-12-12</td>\n",
       "    </tr>\n",
       "    <tr>\n",
       "      <th>430340</th>\n",
       "      <td>180.52232</td>\n",
       "      <td>2015-12-15</td>\n",
       "    </tr>\n",
       "    <tr>\n",
       "      <th>430341</th>\n",
       "      <td>180.52232</td>\n",
       "      <td>2015-12-18</td>\n",
       "    </tr>\n",
       "    <tr>\n",
       "      <th>430342</th>\n",
       "      <td>180.52232</td>\n",
       "      <td>2015-12-21</td>\n",
       "    </tr>\n",
       "    <tr>\n",
       "      <th>430343</th>\n",
       "      <td>180.52232</td>\n",
       "      <td>2015-12-24</td>\n",
       "    </tr>\n",
       "    <tr>\n",
       "      <th>430344</th>\n",
       "      <td>180.52232</td>\n",
       "      <td>2015-12-29</td>\n",
       "    </tr>\n",
       "  </tbody>\n",
       "</table>\n",
       "</div>"
      ],
      "text/plain": [
       "              AQI       date\n",
       "430325  180.52232 2015-10-23\n",
       "430326  180.52232 2015-10-28\n",
       "430327  180.52232 2015-10-31\n",
       "430328  180.52232 2015-11-05\n",
       "430329  180.52232 2015-11-07\n",
       "430330  180.52232 2015-11-10\n",
       "430331  180.52232 2015-11-11\n",
       "430332  180.52232 2015-11-16\n",
       "430333  180.52232 2015-11-20\n",
       "430334  180.52232 2015-11-26\n",
       "430335  180.52232 2015-11-29\n",
       "430336  180.52232 2015-12-03\n",
       "430337  180.52232 2015-12-06\n",
       "430338  180.52232 2015-12-09\n",
       "430339  180.52232 2015-12-12\n",
       "430340  180.52232 2015-12-15\n",
       "430341  180.52232 2015-12-18\n",
       "430342  180.52232 2015-12-21\n",
       "430343  180.52232 2015-12-24\n",
       "430344  180.52232 2015-12-29"
      ]
     },
     "execution_count": 21,
     "metadata": {},
     "output_type": "execute_result"
    }
   ],
   "source": [
    "df=data[['AQI','date']]\n",
    "df[\"date\"] = pd.to_datetime(df['date'])\n",
    "df.tail(20)"
   ]
  },
  {
   "cell_type": "code",
   "execution_count": 22,
   "metadata": {},
   "outputs": [
    {
     "name": "stderr",
     "output_type": "stream",
     "text": [
      "C:\\Users\\TNK\\AppData\\Local\\Temp\\ipykernel_8032\\2822222202.py:1: FutureWarning: 'M' is deprecated and will be removed in a future version, please use 'ME' instead.\n",
      "  df=df.set_index('date').resample('M')[\"AQI\"].mean()\n"
     ]
    },
    {
     "data": {
      "text/plain": [
       "date\n",
       "1987-01-31    259.563812\n",
       "1987-02-28    253.636467\n",
       "1987-03-31    322.938366\n",
       "1987-04-30    227.085685\n",
       "1987-05-31    336.653480\n",
       "Freq: ME, Name: AQI, dtype: float64"
      ]
     },
     "execution_count": 22,
     "metadata": {},
     "output_type": "execute_result"
    }
   ],
   "source": [
    "df=df.set_index('date').resample('M')[\"AQI\"].mean()\n",
    "df.head()"
   ]
  },
  {
   "cell_type": "code",
   "execution_count": 23,
   "metadata": {},
   "outputs": [
    {
     "data": {
      "text/html": [
       "<div>\n",
       "<style scoped>\n",
       "    .dataframe tbody tr th:only-of-type {\n",
       "        vertical-align: middle;\n",
       "    }\n",
       "\n",
       "    .dataframe tbody tr th {\n",
       "        vertical-align: top;\n",
       "    }\n",
       "\n",
       "    .dataframe thead th {\n",
       "        text-align: right;\n",
       "    }\n",
       "</style>\n",
       "<table border=\"1\" class=\"dataframe\">\n",
       "  <thead>\n",
       "    <tr style=\"text-align: right;\">\n",
       "      <th></th>\n",
       "      <th>date</th>\n",
       "      <th>AQI</th>\n",
       "    </tr>\n",
       "  </thead>\n",
       "  <tbody>\n",
       "    <tr>\n",
       "      <th>0</th>\n",
       "      <td>1987-01-31</td>\n",
       "      <td>259.563812</td>\n",
       "    </tr>\n",
       "    <tr>\n",
       "      <th>1</th>\n",
       "      <td>1987-02-28</td>\n",
       "      <td>253.636467</td>\n",
       "    </tr>\n",
       "    <tr>\n",
       "      <th>2</th>\n",
       "      <td>1987-03-31</td>\n",
       "      <td>322.938366</td>\n",
       "    </tr>\n",
       "    <tr>\n",
       "      <th>3</th>\n",
       "      <td>1987-04-30</td>\n",
       "      <td>227.085685</td>\n",
       "    </tr>\n",
       "    <tr>\n",
       "      <th>4</th>\n",
       "      <td>1987-05-31</td>\n",
       "      <td>336.653480</td>\n",
       "    </tr>\n",
       "  </tbody>\n",
       "</table>\n",
       "</div>"
      ],
      "text/plain": [
       "        date         AQI\n",
       "0 1987-01-31  259.563812\n",
       "1 1987-02-28  253.636467\n",
       "2 1987-03-31  322.938366\n",
       "3 1987-04-30  227.085685\n",
       "4 1987-05-31  336.653480"
      ]
     },
     "execution_count": 23,
     "metadata": {},
     "output_type": "execute_result"
    }
   ],
   "source": [
    "data=df.reset_index(level=0, inplace=False)\n",
    "data = data[np.isfinite(data['AQI'])]\n",
    "data=data[data.date != '1970-01-31']\n",
    "data = data.reset_index(drop=True)\n",
    "data.head()"
   ]
  },
  {
   "cell_type": "code",
   "execution_count": 24,
   "metadata": {},
   "outputs": [
    {
     "data": {
      "image/png": "[encoded data removed]",
      "text/plain": [
       "<Figure size 1500x600 with 1 Axes>"
      ]
     },
     "metadata": {},
     "output_type": "display_data"
    }
   ],
   "source": [
    "df=data.set_index('date')\n",
    "df.sort_values(by='date',ascending=False)\n",
    "df.plot(figsize=(15, 6))\n",
    "plt.show()\n",
    "y=df.AQI"
   ]
  },
  {
   "cell_type": "code",
   "execution_count": 37,
   "metadata": {},
   "outputs": [
    {
     "name": "stdout",
     "output_type": "stream",
     "text": [
      "    period         si         ni         rpi         spi         AQI\n",
      "0  1987-01  22.348140  37.779175  109.610928  250.052355  259.563812\n",
      "1  1987-02  24.876742  44.821294  109.610928  239.155179  253.636467\n",
      "2  1987-03  24.794715  43.571985  109.610928  306.273945  322.938366\n",
      "3  1987-04  23.476983  35.470529  109.610928  195.811594  227.085685\n",
      "4  1987-05  24.704336  49.439325  109.610928  315.872807  336.653480\n"
     ]
    }
   ],
   "source": [
    "import pandas as pd\n",
    "\n",
    "# Read and preprocess data\n",
    "df = pd.read_csv(\"data_1st.csv\")\n",
    "df = df.drop(columns=['state'])\n",
    "\n",
    "# Convert date column to datetime\n",
    "df[\"date\"] = pd.to_datetime(df[\"date\"])\n",
    "\n",
    "# Group by year and month, calculate mean\n",
    "monthly_mean = df.groupby(df[\"date\"].dt.to_period(\"M\")).mean()\n",
    "\n",
    "# Drop the original 'date' column to avoid confusion (optional)\n",
    "# monthly_mean = monthly_mean.drop(columns=[\"date\"])  # This line is unnecessary since \"date\" isn't in monthly_mean\n",
    "monthly_mean = monthly_mean.drop(columns=['date'])\n",
    "\n",
    "# Move index to a column\n",
    "monthly_mean.reset_index(inplace=True)\n",
    "\n",
    "# Rename the index column to 'date'\n",
    "monthly_mean.rename(columns={\"date\": \"period\"}, inplace=True)  # To avoid confusion, keep the Period type as \"period\"\n",
    "\n",
    "# Convert 'period' to datetime (optional)\n",
    "monthly_mean['date'] = monthly_mean['period'].dt.to_timestamp()\n",
    "\n",
    "# cols = [monthly_mean.columns[-1]] + list(monthly_mean.columns[:-1])\n",
    "\n",
    "# # Reorder the DataFrame columns\n",
    "# monthly_mean = monthly_mean[cols]\n",
    "\n",
    "monthly_mean = monthly_mean.drop(columns=['date'])\n",
    "\n",
    "# Show the first few rows to verify\n",
    "print(monthly_mean.head())\n"
   ]
  },
  {
   "cell_type": "code",
   "execution_count": 38,
   "metadata": {},
   "outputs": [],
   "source": [
    "\n",
    "long = int(len(monthly_mean)*0.6)\n",
    "\n",
    "train = monthly_mean.iloc[:long]\n",
    "test = monthly_mean.iloc[long:]\n",
    "\n",
    "train.to_csv('train.csv',index=False)\n",
    "test.to_csv('test.csv',index=False)"
   ]
  },
  {
   "cell_type": "code",
   "execution_count": 39,
   "metadata": {},
   "outputs": [
    {
     "name": "stdout",
     "output_type": "stream",
     "text": [
      "Fitting 5 folds for each of 1 candidates, totalling 5 fits\n"
     ]
    },
    {
     "name": "stdout",
     "output_type": "stream",
     "text": [
      "Best Parameters: {'colsample_bytree': 1.0, 'learning_rate': 0.05, 'max_depth': 10, 'n_estimators': 500, 'subsample': 0.7}\n",
      "RMSE: 8.209977233018886\n",
      "MAE: 6.331677734620436\n",
      "R²: 0.954040996430873\n"
     ]
    },
    {
     "data": {
      "application/vnd.plotly.v1+json": {
       "config": {
        "plotlyServerURL": "https://plot.ly"
       },
       "data": [
        {
         "line": {
          "color": "blue"
         },
         "mode": "lines",
         "name": "Train",
         "type": "scatter",
         "x": [
          "1987-02-01T00:00:00",
          "1987-03-01T00:00:00",
          "1987-04-01T00:00:00",
          "1987-05-01T00:00:00",
          "1987-06-01T00:00:00",
          "1987-07-01T00:00:00",
          "1987-08-01T00:00:00",
          "1987-09-01T00:00:00",
          "1987-10-01T00:00:00",
          "1987-11-01T00:00:00",
          "1987-12-01T00:00:00",
          "1988-01-01T00:00:00",
          "1988-02-01T00:00:00",
          "1988-03-01T00:00:00",
          "1988-04-01T00:00:00",
          "1988-05-01T00:00:00",
          "1988-06-01T00:00:00",
          "1988-07-01T00:00:00",
          "1988-08-01T00:00:00",
          "1988-09-01T00:00:00",
          "1988-10-01T00:00:00",
          "1988-11-01T00:00:00",
          "1988-12-01T00:00:00",
          "1989-01-01T00:00:00",
          "1989-02-01T00:00:00",
          "1989-03-01T00:00:00",
          "1989-04-01T00:00:00",
          "1989-05-01T00:00:00",
          "1989-06-01T00:00:00",
          "1989-07-01T00:00:00",
          "1989-08-01T00:00:00",
          "1989-09-01T00:00:00",
          "1989-10-01T00:00:00",
          "1989-12-01T00:00:00",
          "1990-01-01T00:00:00",
          "1990-02-01T00:00:00",
          "1990-03-01T00:00:00",
          "1990-04-01T00:00:00",
          "1990-05-01T00:00:00",
          "1990-06-01T00:00:00",
          "1990-07-01T00:00:00",
          "1990-08-01T00:00:00",
          "1990-09-01T00:00:00",
          "1990-10-01T00:00:00",
          "1990-11-01T00:00:00",
          "1990-12-01T00:00:00",
          "1991-01-01T00:00:00",
          "1991-02-01T00:00:00",
          "1991-03-01T00:00:00",
          "1991-04-01T00:00:00",
          "1991-05-01T00:00:00",
          "1991-06-01T00:00:00",
          "1991-07-01T00:00:00",
          "1991-08-01T00:00:00",
          "1991-09-01T00:00:00",
          "1991-10-01T00:00:00",
          "1991-11-01T00:00:00",
          "1991-12-01T00:00:00",
          "1992-01-01T00:00:00",
          "1992-02-01T00:00:00",
          "1992-03-01T00:00:00",
          "1992-04-01T00:00:00",
          "1992-05-01T00:00:00",
          "1992-06-01T00:00:00",
          "1992-07-01T00:00:00",
          "1992-08-01T00:00:00",
          "1992-09-01T00:00:00",
          "1992-10-01T00:00:00",
          "1992-11-01T00:00:00",
          "1992-12-01T00:00:00",
          "1993-01-01T00:00:00",
          "1993-02-01T00:00:00",
          "1993-03-01T00:00:00",
          "1993-04-01T00:00:00",
          "1993-05-01T00:00:00",
          "1993-06-01T00:00:00",
          "1993-07-01T00:00:00",
          "1993-08-01T00:00:00",
          "1993-09-01T00:00:00",
          "1993-10-01T00:00:00",
          "1993-11-01T00:00:00",
          "1993-12-01T00:00:00",
          "1994-01-01T00:00:00",
          "1994-02-01T00:00:00",
          "1994-03-01T00:00:00",
          "1994-04-01T00:00:00",
          "1994-05-01T00:00:00",
          "1994-06-01T00:00:00",
          "1994-07-01T00:00:00",
          "1994-08-01T00:00:00",
          "1994-09-01T00:00:00",
          "1994-11-01T00:00:00",
          "1994-12-01T00:00:00",
          "1995-01-01T00:00:00",
          "1995-02-01T00:00:00",
          "1995-03-01T00:00:00",
          "1995-04-01T00:00:00",
          "1995-05-01T00:00:00",
          "1995-06-01T00:00:00",
          "1995-07-01T00:00:00",
          "1995-08-01T00:00:00",
          "1995-09-01T00:00:00",
          "1995-10-01T00:00:00",
          "1995-11-01T00:00:00",
          "1995-12-01T00:00:00",
          "1996-01-01T00:00:00",
          "1996-02-01T00:00:00",
          "1996-03-01T00:00:00",
          "1996-04-01T00:00:00",
          "1996-05-01T00:00:00",
          "1996-06-01T00:00:00",
          "1996-07-01T00:00:00",
          "1996-08-01T00:00:00",
          "1996-09-01T00:00:00",
          "1996-10-01T00:00:00",
          "1996-11-01T00:00:00",
          "1996-12-01T00:00:00",
          "1997-01-01T00:00:00",
          "1997-02-01T00:00:00",
          "1997-03-01T00:00:00",
          "1997-04-01T00:00:00",
          "1997-05-01T00:00:00",
          "1997-06-01T00:00:00",
          "1997-07-01T00:00:00",
          "1997-08-01T00:00:00",
          "1997-09-01T00:00:00",
          "1997-10-01T00:00:00",
          "1997-11-01T00:00:00",
          "1997-12-01T00:00:00",
          "1998-01-01T00:00:00",
          "1998-02-01T00:00:00",
          "1998-03-01T00:00:00",
          "1998-04-01T00:00:00",
          "1998-05-01T00:00:00",
          "1998-06-01T00:00:00",
          "1998-07-01T00:00:00",
          "1998-08-01T00:00:00",
          "1998-09-01T00:00:00",
          "1998-10-01T00:00:00",
          "1998-11-01T00:00:00",
          "1998-12-01T00:00:00",
          "1999-01-01T00:00:00",
          "1999-02-01T00:00:00",
          "1999-03-01T00:00:00",
          "1999-04-01T00:00:00",
          "1999-05-01T00:00:00",
          "1999-06-01T00:00:00",
          "1999-07-01T00:00:00",
          "1999-08-01T00:00:00",
          "1999-09-01T00:00:00",
          "1999-10-01T00:00:00",
          "1999-11-01T00:00:00",
          "1999-12-01T00:00:00",
          "2000-01-01T00:00:00",
          "2000-02-01T00:00:00",
          "2000-03-01T00:00:00",
          "2000-04-01T00:00:00",
          "2000-05-01T00:00:00",
          "2000-06-01T00:00:00",
          "2000-07-01T00:00:00",
          "2000-08-01T00:00:00",
          "2000-09-01T00:00:00",
          "2000-10-01T00:00:00",
          "2000-11-01T00:00:00"
         ],
         "y": [
          253.6364671538558,
          322.9383658599252,
          227.0856851229431,
          336.65347986940617,
          290.0627123426979,
          208.525,
          288.4444444444444,
          289.4222465997214,
          171.72218561235894,
          262.7373570965268,
          350.375,
          231.47203183633812,
          231.63838672069545,
          268.103609442672,
          268.08377629000216,
          230.73222035006927,
          156.7938356607068,
          333.7592440051496,
          181.45193699778545,
          254.11103789138457,
          128.0332235037435,
          288.8193986821153,
          302.5,
          248.9121143985336,
          260.53626391823644,
          264.1740244966486,
          253.6649505766416,
          260.26172397531883,
          197.91287086104293,
          155.44576872769224,
          152.11478626790796,
          160.98646348167392,
          192.7110825980045,
          236.7309015193504,
          250.7872617986349,
          220.78752315174663,
          231.0145111970748,
          253.7981787219756,
          253.77091949062225,
          270.5805646810426,
          174.9900673588408,
          163.9906600773925,
          151.07646552576796,
          209.48972433333316,
          249.02056215349864,
          261.29011010482066,
          263.4904992326716,
          245.09994172504568,
          235.89080034929955,
          270.0099487514534,
          242.1126804544849,
          207.1052504226705,
          192.47412361811325,
          153.5065023619824,
          172.8947866769577,
          239.31023398222595,
          255.79950325808556,
          267.17447652376546,
          217.00795344071565,
          185.2256325678544,
          201.920124730705,
          248.3428768381259,
          260.7406619557476,
          241.21238773884528,
          198.68296773909967,
          145.70630085705267,
          136.06738994743955,
          149.2017147352474,
          181.81672257677832,
          211.14492549438145,
          185.70958796484192,
          179.99882296704538,
          192.27821158636544,
          188.34014700375403,
          181.28710812092356,
          198.2000188455137,
          182.6287505099264,
          179.28082239809396,
          180.07197322024635,
          186.79710557064817,
          188.98966983066856,
          189.35646025130285,
          249.17178044924256,
          239.37383150264196,
          268.9379051598788,
          238.86221848595548,
          270.5463897815053,
          236.56385806075764,
          177.81435978115724,
          197.20168526514777,
          224.40764475756484,
          277.24379517371364,
          320.0094092451003,
          258.793746651308,
          266.7265236149592,
          224.1243019297204,
          237.5624056962188,
          239.81633244710204,
          246.01697181358432,
          201.047913225742,
          184.2256036253256,
          187.8984812415733,
          212.87666732469916,
          262.8031559966118,
          288.73777920307435,
          236.6844790961876,
          253.77775649297357,
          249.3137182909441,
          265.0531642040469,
          267.0804732651335,
          261.2850818232205,
          181.74351544263047,
          178.39914040503717,
          198.24352902049105,
          242.08214236688457,
          273.59389397709907,
          288.4158831720461,
          243.3802933346106,
          247.398346628814,
          226.94160969001547,
          202.1595574280224,
          206.76340504407912,
          187.19618243134568,
          167.3213803701459,
          151.4780844984097,
          162.87447161740997,
          184.59354279397496,
          200.7612615111109,
          198.42037094763225,
          252.19598744933208,
          245.51410999878624,
          229.1061215655575,
          234.23967287631447,
          255.91262064398808,
          204.4969886369134,
          173.42049242720165,
          165.08603013512956,
          179.28634323703574,
          227.4972675848145,
          257.24027462626265,
          293.8082867160552,
          247.44847545407623,
          230.50108435774948,
          253.959340720204,
          259.04082325860645,
          228.91098981525565,
          220.6794826815432,
          175.1361373617256,
          169.9931314061299,
          174.2918662416761,
          197.7336512647901,
          244.53184384127871,
          277.02047996900933,
          226.47729009553635,
          207.39094929350065,
          214.3546960254431,
          227.8004961349209,
          224.1339474768729,
          201.01602115728767,
          160.49772295832904,
          158.6966077741727,
          167.4168398687262,
          208.24105633597296,
          228.52340770032853
         ]
        },
        {
         "line": {
          "color": "green"
         },
         "mode": "lines",
         "name": "Test",
         "type": "scatter",
         "x": [
          "2000-12-01T00:00:00",
          "2001-01-01T00:00:00",
          "2001-02-01T00:00:00",
          "2001-03-01T00:00:00",
          "2001-04-01T00:00:00",
          "2001-05-01T00:00:00",
          "2001-06-01T00:00:00",
          "2001-07-01T00:00:00",
          "2001-08-01T00:00:00",
          "2001-09-01T00:00:00",
          "2001-10-01T00:00:00",
          "2001-11-01T00:00:00",
          "2001-12-01T00:00:00",
          "2002-01-01T00:00:00",
          "2002-02-01T00:00:00",
          "2002-03-01T00:00:00",
          "2002-04-01T00:00:00",
          "2002-05-01T00:00:00",
          "2002-06-01T00:00:00",
          "2002-07-01T00:00:00",
          "2002-08-01T00:00:00",
          "2002-09-01T00:00:00",
          "2002-10-01T00:00:00",
          "2002-11-01T00:00:00",
          "2002-12-01T00:00:00",
          "2003-01-01T00:00:00",
          "2003-02-01T00:00:00",
          "2003-03-01T00:00:00",
          "2003-04-01T00:00:00",
          "2003-05-01T00:00:00",
          "2003-06-01T00:00:00",
          "2003-07-01T00:00:00",
          "2003-08-01T00:00:00",
          "2003-09-01T00:00:00",
          "2003-10-01T00:00:00",
          "2003-11-01T00:00:00",
          "2003-12-01T00:00:00",
          "2004-01-01T00:00:00",
          "2004-02-01T00:00:00",
          "2004-03-01T00:00:00",
          "2004-04-01T00:00:00",
          "2004-05-01T00:00:00"
         ],
         "y": [
          260.7244494043911,
          263.11725911397434,
          258.7105115889313,
          229.73004827613468,
          236.3663853081248,
          235.99291625794996,
          186.78968386139485,
          162.36750732860088,
          166.2976638431729,
          177.17031529955756,
          205.0233978076999,
          237.2955961781694,
          241.3322604594549,
          197.6873491029823,
          184.80345515156972,
          185.1378571449414,
          202.15219066531316,
          206.52953631494083,
          171.56582512699356,
          190.0481379398393,
          152.657953544187,
          158.66368284014413,
          188.75968081741584,
          201.07095189876344,
          220.5406834367196,
          190.99708255191288,
          147.02887635946135,
          186.13462178059257,
          210.8206514140364,
          297.97732773898065,
          174.15854221712962,
          143.17063332068776,
          148.83661877192398,
          137.1805957169085,
          266.93650816144725,
          256.20461562485315,
          243.65733543806752,
          173.1706229264513,
          175.6099769833608,
          184.14920400305851,
          190.9991597225828,
          183.64938546537016
         ]
        },
        {
         "line": {
          "color": "red",
          "dash": "dot"
         },
         "mode": "lines",
         "name": "Prediction",
         "type": "scatter",
         "x": [
          "2000-12-01T00:00:00",
          "2001-01-01T00:00:00",
          "2001-02-01T00:00:00",
          "2001-03-01T00:00:00",
          "2001-04-01T00:00:00",
          "2001-05-01T00:00:00",
          "2001-06-01T00:00:00",
          "2001-07-01T00:00:00",
          "2001-08-01T00:00:00",
          "2001-09-01T00:00:00",
          "2001-10-01T00:00:00",
          "2001-11-01T00:00:00",
          "2001-12-01T00:00:00",
          "2002-01-01T00:00:00",
          "2002-02-01T00:00:00",
          "2002-03-01T00:00:00",
          "2002-04-01T00:00:00",
          "2002-05-01T00:00:00",
          "2002-06-01T00:00:00",
          "2002-07-01T00:00:00",
          "2002-08-01T00:00:00",
          "2002-09-01T00:00:00",
          "2002-10-01T00:00:00",
          "2002-11-01T00:00:00",
          "2002-12-01T00:00:00",
          "2003-01-01T00:00:00",
          "2003-02-01T00:00:00",
          "2003-03-01T00:00:00",
          "2003-04-01T00:00:00",
          "2003-05-01T00:00:00",
          "2003-06-01T00:00:00",
          "2003-07-01T00:00:00",
          "2003-08-01T00:00:00",
          "2003-09-01T00:00:00",
          "2003-10-01T00:00:00",
          "2003-11-01T00:00:00",
          "2003-12-01T00:00:00",
          "2004-01-01T00:00:00",
          "2004-02-01T00:00:00",
          "2004-03-01T00:00:00",
          "2004-04-01T00:00:00",
          "2004-05-01T00:00:00"
         ],
         "y": [
          255.10256958007812,
          254.48313903808594,
          254.36495971679688,
          226.7642822265625,
          231.98876953125,
          236.64315795898438,
          187.5415496826172,
          160.80104064941406,
          160.88143920898438,
          177.4984893798828,
          199.38284301757812,
          230.95263671875,
          247.14720153808594,
          201.662109375,
          187.18797302246094,
          189.06988525390625,
          198.70046997070312,
          188.11375427246094,
          161.32041931152344,
          175.39065551757812,
          145.9133758544922,
          148.30307006835938,
          188.22860717773438,
          186.81077575683594,
          216.1386260986328,
          192.86354064941406,
          158.48794555664062,
          192.4072723388672,
          215.93406677246094,
          284.4930725097656,
          196.5573272705078,
          160.2455596923828,
          154.85177612304688,
          145.10263061523438,
          257.1562194824219,
          255.7896270751953,
          246.62960815429688,
          173.4033660888672,
          177.8822021484375,
          185.64920043945312,
          186.8939208984375,
          176.41998291015625
         ]
        }
       ],
       "layout": {
        "annotations": [
         {
          "align": "left",
          "bgcolor": "rgba(255,255,255,0.7)",
          "bordercolor": "black",
          "borderwidth": 1,
          "font": {
           "color": "black",
           "size": 12
          },
          "showarrow": false,
          "text": "<b>RMSE:</b> 8.21<br><b>MAE:</b> 6.33<br><b>R²:</b> 0.95",
          "x": "2004-05-01T00:00:00",
          "y": 297.97732773898065
         }
        ],
        "legend": {
         "x": 0.01,
         "y": 0.99
        },
        "template": {
         "data": {
          "bar": [
           {
            "error_x": {
             "color": "#2a3f5f"
            },
            "error_y": {
             "color": "#2a3f5f"
            },
            "marker": {
             "line": {
              "color": "white",
              "width": 0.5
             },
             "pattern": {
              "fillmode": "overlay",
              "size": 10,
              "solidity": 0.2
             }
            },
            "type": "bar"
           }
          ],
          "barpolar": [
           {
            "marker": {
             "line": {
              "color": "white",
              "width": 0.5
             },
             "pattern": {
              "fillmode": "overlay",
              "size": 10,
              "solidity": 0.2
             }
            },
            "type": "barpolar"
           }
          ],
          "carpet": [
           {
            "aaxis": {
             "endlinecolor": "#2a3f5f",
             "gridcolor": "#C8D4E3",
             "linecolor": "#C8D4E3",
             "minorgridcolor": "#C8D4E3",
             "startlinecolor": "#2a3f5f"
            },
            "baxis": {
             "endlinecolor": "#2a3f5f",
             "gridcolor": "#C8D4E3",
             "linecolor": "#C8D4E3",
             "minorgridcolor": "#C8D4E3",
             "startlinecolor": "#2a3f5f"
            },
            "type": "carpet"
           }
          ],
          "choropleth": [
           {
            "colorbar": {
             "outlinewidth": 0,
             "ticks": ""
            },
            "type": "choropleth"
           }
          ],
          "contour": [
           {
            "colorbar": {
             "outlinewidth": 0,
             "ticks": ""
            },
            "colorscale": [
             [
              0,
              "#0d0887"
             ],
             [
              0.1111111111111111,
              "#46039f"
             ],
             [
              0.2222222222222222,
              "#7201a8"
             ],
             [
              0.3333333333333333,
              "#9c179e"
             ],
             [
              0.4444444444444444,
              "#bd3786"
             ],
             [
              0.5555555555555556,
              "#d8576b"
             ],
             [
              0.6666666666666666,
              "#ed7953"
             ],
             [
              0.7777777777777778,
              "#fb9f3a"
             ],
             [
              0.8888888888888888,
              "#fdca26"
             ],
             [
              1,
              "#f0f921"
             ]
            ],
            "type": "contour"
           }
          ],
          "contourcarpet": [
           {
            "colorbar": {
             "outlinewidth": 0,
             "ticks": ""
            },
            "type": "contourcarpet"
           }
          ],
          "heatmap": [
           {
            "colorbar": {
             "outlinewidth": 0,
             "ticks": ""
            },
            "colorscale": [
             [
              0,
              "#0d0887"
             ],
             [
              0.1111111111111111,
              "#46039f"
             ],
             [
              0.2222222222222222,
              "#7201a8"
             ],
             [
              0.3333333333333333,
              "#9c179e"
             ],
             [
              0.4444444444444444,
              "#bd3786"
             ],
             [
              0.5555555555555556,
              "#d8576b"
             ],
             [
              0.6666666666666666,
              "#ed7953"
             ],
             [
              0.7777777777777778,
              "#fb9f3a"
             ],
             [
              0.8888888888888888,
              "#fdca26"
             ],
             [
              1,
              "#f0f921"
             ]
            ],
            "type": "heatmap"
           }
          ],
          "heatmapgl": [
           {
            "colorbar": {
             "outlinewidth": 0,
             "ticks": ""
            },
            "colorscale": [
             [
              0,
              "#0d0887"
             ],
             [
              0.1111111111111111,
              "#46039f"
             ],
             [
              0.2222222222222222,
              "#7201a8"
             ],
             [
              0.3333333333333333,
              "#9c179e"
             ],
             [
              0.4444444444444444,
              "#bd3786"
             ],
             [
              0.5555555555555556,
              "#d8576b"
             ],
             [
              0.6666666666666666,
              "#ed7953"
             ],
             [
              0.7777777777777778,
              "#fb9f3a"
             ],
             [
              0.8888888888888888,
              "#fdca26"
             ],
             [
              1,
              "#f0f921"
             ]
            ],
            "type": "heatmapgl"
           }
          ],
          "histogram": [
           {
            "marker": {
             "pattern": {
              "fillmode": "overlay",
              "size": 10,
              "solidity": 0.2
             }
            },
            "type": "histogram"
           }
          ],
          "histogram2d": [
           {
            "colorbar": {
             "outlinewidth": 0,
             "ticks": ""
            },
            "colorscale": [
             [
              0,
              "#0d0887"
             ],
             [
              0.1111111111111111,
              "#46039f"
             ],
             [
              0.2222222222222222,
              "#7201a8"
             ],
             [
              0.3333333333333333,
              "#9c179e"
             ],
             [
              0.4444444444444444,
              "#bd3786"
             ],
             [
              0.5555555555555556,
              "#d8576b"
             ],
             [
              0.6666666666666666,
              "#ed7953"
             ],
             [
              0.7777777777777778,
              "#fb9f3a"
             ],
             [
              0.8888888888888888,
              "#fdca26"
             ],
             [
              1,
              "#f0f921"
             ]
            ],
            "type": "histogram2d"
           }
          ],
          "histogram2dcontour": [
           {
            "colorbar": {
             "outlinewidth": 0,
             "ticks": ""
            },
            "colorscale": [
             [
              0,
              "#0d0887"
             ],
             [
              0.1111111111111111,
              "#46039f"
             ],
             [
              0.2222222222222222,
              "#7201a8"
             ],
             [
              0.3333333333333333,
              "#9c179e"
             ],
             [
              0.4444444444444444,
              "#bd3786"
             ],
             [
              0.5555555555555556,
              "#d8576b"
             ],
             [
              0.6666666666666666,
              "#ed7953"
             ],
             [
              0.7777777777777778,
              "#fb9f3a"
             ],
             [
              0.8888888888888888,
              "#fdca26"
             ],
             [
              1,
              "#f0f921"
             ]
            ],
            "type": "histogram2dcontour"
           }
          ],
          "mesh3d": [
           {
            "colorbar": {
             "outlinewidth": 0,
             "ticks": ""
            },
            "type": "mesh3d"
           }
          ],
          "parcoords": [
           {
            "line": {
             "colorbar": {
              "outlinewidth": 0,
              "ticks": ""
             }
            },
            "type": "parcoords"
           }
          ],
          "pie": [
           {
            "automargin": true,
            "type": "pie"
           }
          ],
          "scatter": [
           {
            "fillpattern": {
             "fillmode": "overlay",
             "size": 10,
             "solidity": 0.2
            },
            "type": "scatter"
           }
          ],
          "scatter3d": [
           {
            "line": {
             "colorbar": {
              "outlinewidth": 0,
              "ticks": ""
             }
            },
            "marker": {
             "colorbar": {
              "outlinewidth": 0,
              "ticks": ""
             }
            },
            "type": "scatter3d"
           }
          ],
          "scattercarpet": [
           {
            "marker": {
             "colorbar": {
              "outlinewidth": 0,
              "ticks": ""
             }
            },
            "type": "scattercarpet"
           }
          ],
          "scattergeo": [
           {
            "marker": {
             "colorbar": {
              "outlinewidth": 0,
              "ticks": ""
             }
            },
            "type": "scattergeo"
           }
          ],
          "scattergl": [
           {
            "marker": {
             "colorbar": {
              "outlinewidth": 0,
              "ticks": ""
             }
            },
            "type": "scattergl"
           }
          ],
          "scattermapbox": [
           {
            "marker": {
             "colorbar": {
              "outlinewidth": 0,
              "ticks": ""
             }
            },
            "type": "scattermapbox"
           }
          ],
          "scatterpolar": [
           {
            "marker": {
             "colorbar": {
              "outlinewidth": 0,
              "ticks": ""
             }
            },
            "type": "scatterpolar"
           }
          ],
          "scatterpolargl": [
           {
            "marker": {
             "colorbar": {
              "outlinewidth": 0,
              "ticks": ""
             }
            },
            "type": "scatterpolargl"
           }
          ],
          "scatterternary": [
           {
            "marker": {
             "colorbar": {
              "outlinewidth": 0,
              "ticks": ""
             }
            },
            "type": "scatterternary"
           }
          ],
          "surface": [
           {
            "colorbar": {
             "outlinewidth": 0,
             "ticks": ""
            },
            "colorscale": [
             [
              0,
              "#0d0887"
             ],
             [
              0.1111111111111111,
              "#46039f"
             ],
             [
              0.2222222222222222,
              "#7201a8"
             ],
             [
              0.3333333333333333,
              "#9c179e"
             ],
             [
              0.4444444444444444,
              "#bd3786"
             ],
             [
              0.5555555555555556,
              "#d8576b"
             ],
             [
              0.6666666666666666,
              "#ed7953"
             ],
             [
              0.7777777777777778,
              "#fb9f3a"
             ],
             [
              0.8888888888888888,
              "#fdca26"
             ],
             [
              1,
              "#f0f921"
             ]
            ],
            "type": "surface"
           }
          ],
          "table": [
           {
            "cells": {
             "fill": {
              "color": "#EBF0F8"
             },
             "line": {
              "color": "white"
             }
            },
            "header": {
             "fill": {
              "color": "#C8D4E3"
             },
             "line": {
              "color": "white"
             }
            },
            "type": "table"
           }
          ]
         },
         "layout": {
          "annotationdefaults": {
           "arrowcolor": "#2a3f5f",
           "arrowhead": 0,
           "arrowwidth": 1
          },
          "autotypenumbers": "strict",
          "coloraxis": {
           "colorbar": {
            "outlinewidth": 0,
            "ticks": ""
           }
          },
          "colorscale": {
           "diverging": [
            [
             0,
             "#8e0152"
            ],
            [
             0.1,
             "#c51b7d"
            ],
            [
             0.2,
             "#de77ae"
            ],
            [
             0.3,
             "#f1b6da"
            ],
            [
             0.4,
             "#fde0ef"
            ],
            [
             0.5,
             "#f7f7f7"
            ],
            [
             0.6,
             "#e6f5d0"
            ],
            [
             0.7,
             "#b8e186"
            ],
            [
             0.8,
             "#7fbc41"
            ],
            [
             0.9,
             "#4d9221"
            ],
            [
             1,
             "#276419"
            ]
           ],
           "sequential": [
            [
             0,
             "#0d0887"
            ],
            [
             0.1111111111111111,
             "#46039f"
            ],
            [
             0.2222222222222222,
             "#7201a8"
            ],
            [
             0.3333333333333333,
             "#9c179e"
            ],
            [
             0.4444444444444444,
             "#bd3786"
            ],
            [
             0.5555555555555556,
             "#d8576b"
            ],
            [
             0.6666666666666666,
             "#ed7953"
            ],
            [
             0.7777777777777778,
             "#fb9f3a"
            ],
            [
             0.8888888888888888,
             "#fdca26"
            ],
            [
             1,
             "#f0f921"
            ]
           ],
           "sequentialminus": [
            [
             0,
             "#0d0887"
            ],
            [
             0.1111111111111111,
             "#46039f"
            ],
            [
             0.2222222222222222,
             "#7201a8"
            ],
            [
             0.3333333333333333,
             "#9c179e"
            ],
            [
             0.4444444444444444,
             "#bd3786"
            ],
            [
             0.5555555555555556,
             "#d8576b"
            ],
            [
             0.6666666666666666,
             "#ed7953"
            ],
            [
             0.7777777777777778,
             "#fb9f3a"
            ],
            [
             0.8888888888888888,
             "#fdca26"
            ],
            [
             1,
             "#f0f921"
            ]
           ]
          },
          "colorway": [
           "#636efa",
           "#EF553B",
           "#00cc96",
           "#ab63fa",
           "#FFA15A",
           "#19d3f3",
           "#FF6692",
           "#B6E880",
           "#FF97FF",
           "#FECB52"
          ],
          "font": {
           "color": "#2a3f5f"
          },
          "geo": {
           "bgcolor": "white",
           "lakecolor": "white",
           "landcolor": "white",
           "showlakes": true,
           "showland": true,
           "subunitcolor": "#C8D4E3"
          },
          "hoverlabel": {
           "align": "left"
          },
          "hovermode": "closest",
          "mapbox": {
           "style": "light"
          },
          "paper_bgcolor": "white",
          "plot_bgcolor": "white",
          "polar": {
           "angularaxis": {
            "gridcolor": "#EBF0F8",
            "linecolor": "#EBF0F8",
            "ticks": ""
           },
           "bgcolor": "white",
           "radialaxis": {
            "gridcolor": "#EBF0F8",
            "linecolor": "#EBF0F8",
            "ticks": ""
           }
          },
          "scene": {
           "xaxis": {
            "backgroundcolor": "white",
            "gridcolor": "#DFE8F3",
            "gridwidth": 2,
            "linecolor": "#EBF0F8",
            "showbackground": true,
            "ticks": "",
            "zerolinecolor": "#EBF0F8"
           },
           "yaxis": {
            "backgroundcolor": "white",
            "gridcolor": "#DFE8F3",
            "gridwidth": 2,
            "linecolor": "#EBF0F8",
            "showbackground": true,
            "ticks": "",
            "zerolinecolor": "#EBF0F8"
           },
           "zaxis": {
            "backgroundcolor": "white",
            "gridcolor": "#DFE8F3",
            "gridwidth": 2,
            "linecolor": "#EBF0F8",
            "showbackground": true,
            "ticks": "",
            "zerolinecolor": "#EBF0F8"
           }
          },
          "shapedefaults": {
           "line": {
            "color": "#2a3f5f"
           }
          },
          "ternary": {
           "aaxis": {
            "gridcolor": "#DFE8F3",
            "linecolor": "#A2B1C6",
            "ticks": ""
           },
           "baxis": {
            "gridcolor": "#DFE8F3",
            "linecolor": "#A2B1C6",
            "ticks": ""
           },
           "bgcolor": "white",
           "caxis": {
            "gridcolor": "#DFE8F3",
            "linecolor": "#A2B1C6",
            "ticks": ""
           }
          },
          "title": {
           "x": 0.05
          },
          "xaxis": {
           "automargin": true,
           "gridcolor": "#EBF0F8",
           "linecolor": "#EBF0F8",
           "ticks": "",
           "title": {
            "standoff": 15
           },
           "zerolinecolor": "#EBF0F8",
           "zerolinewidth": 2
          },
          "yaxis": {
           "automargin": true,
           "gridcolor": "#EBF0F8",
           "linecolor": "#EBF0F8",
           "ticks": "",
           "title": {
            "standoff": 15
           },
           "zerolinecolor": "#EBF0F8",
           "zerolinewidth": 2
          }
         }
        },
        "title": {
         "text": "AQI Forecasting - Train, Test, and Predictions"
        },
        "xaxis": {
         "title": {
          "text": "period"
         }
        },
        "yaxis": {
         "title": {
          "text": "AQI"
         }
        }
       }
      }
     },
     "metadata": {},
     "output_type": "display_data"
    }
   ],
   "source": [
    "import pandas as pd\n",
    "import numpy as np\n",
    "from xgboost import XGBRegressor\n",
    "from sklearn.model_selection import GridSearchCV\n",
    "from sklearn.metrics import mean_squared_error, mean_absolute_error, r2_score\n",
    "import plotly.graph_objects as go\n",
    "\n",
    "# Load the training data\n",
    "data = pd.read_csv('train.csv', index_col=0)\n",
    "\n",
    "# Reset index to get 'period' as a column if it's in the index\n",
    "if 'period' not in data.columns:\n",
    "    data.reset_index(inplace=True)\n",
    "    data.rename(columns={'index': 'period'}, inplace=True)\n",
    "\n",
    "# Ensure the date column is in datetime format\n",
    "data['period'] = pd.to_datetime(data['period'], format='%Y-%m')\n",
    "\n",
    "# Create lag features\n",
    "for lag in range(1, 2):  # Create lag features for 1 to 3 previous time steps\n",
    "    data[f'AQI_lag_{lag}'] = data['AQI'].shift(lag)\n",
    "\n",
    "# Drop rows with NaN values due to lagging\n",
    "data = data.dropna()\n",
    "\n",
    "# Features and target\n",
    "features = [col for col in data.columns if col not in ['period', 'AQI']]\n",
    "X = data[features]\n",
    "y = data['AQI']\n",
    "\n",
    "# Train-test split (use the last 20% of data as the test set)\n",
    "train_size = int(len(data) * 0.8)\n",
    "X_train, X_test = X[:train_size], X[train_size:]\n",
    "y_train, y_test = y[:train_size], y[train_size:]\n",
    "\n",
    "# Define the model\n",
    "model = XGBRegressor(random_state=42)\n",
    "\n",
    "# Define parameter grid\n",
    "param_grid = {\n",
    "    'n_estimators': [500],  # Number of trees\n",
    "    'learning_rate': [0.05],  # Learning rate\n",
    "    'max_depth': [10],  # Depth of each tree\n",
    "    'subsample': [0.7],  # Fraction of samples to use\n",
    "    'colsample_bytree': [1.0],  # Fraction of features to use\n",
    "}\n",
    "\n",
    "# Setup GridSearchCV\n",
    "grid_search = GridSearchCV(estimator=model, param_grid=param_grid, cv=5, scoring='neg_mean_squared_error', verbose=1, n_jobs=-1)\n",
    "\n",
    "# Fit the model\n",
    "grid_search.fit(X_train, y_train)\n",
    "\n",
    "# Get the best parameters and model\n",
    "best_params = grid_search.best_params_\n",
    "best_model = grid_search.best_estimator_\n",
    "\n",
    "# Save the best model\n",
    "best_model.save_model('best_model.json')\n",
    "\n",
    "# Predictions on the test set\n",
    "y_pred = best_model.predict(X_test)\n",
    "\n",
    "# Evaluation Metrics\n",
    "rmse = np.sqrt(mean_squared_error(y_test, y_pred))\n",
    "mae = mean_absolute_error(y_test, y_pred)\n",
    "r2 = r2_score(y_test, y_pred)\n",
    "\n",
    "print(f\"Best Parameters: {best_params}\")\n",
    "print(f\"RMSE: {rmse}\")\n",
    "print(f\"MAE: {mae}\")\n",
    "print(f\"R²: {r2}\")\n",
    "\n",
    "# Create a Plotly Figure\n",
    "fig = go.Figure()\n",
    "\n",
    "# Add train data\n",
    "fig.add_trace(go.Scatter(x=data['period'][:train_size], y=y_train,\n",
    "                         mode='lines', name='Train',\n",
    "                         line=dict(color='blue')))\n",
    "\n",
    "# Add test data\n",
    "fig.add_trace(go.Scatter(x=data['period'][train_size:], y=y_test,\n",
    "                         mode='lines', name='Test',\n",
    "                         line=dict(color='green')))\n",
    "\n",
    "# Add predictions\n",
    "fig.add_trace(go.Scatter(x=data['period'][train_size:], y=y_pred,\n",
    "                         mode='lines', name='Prediction',\n",
    "                         line=dict(color='red', dash='dot')))\n",
    "\n",
    "# Update layout\n",
    "fig.update_layout(\n",
    "    title='AQI Forecasting - Train, Test, and Predictions',\n",
    "    xaxis_title='period',\n",
    "    yaxis_title='AQI',\n",
    "    legend=dict(x=0.01, y=0.99),\n",
    "    template='plotly_white'\n",
    ")\n",
    "\n",
    "# Show metrics in the plot\n",
    "fig.add_annotation(\n",
    "    x=data['period'].iloc[-1],\n",
    "    y=max(y_test),\n",
    "    text=f\"<b>RMSE:</b> {rmse:.2f}<br><b>MAE:</b> {mae:.2f}<br><b>R²:</b> {r2:.2f}\",\n",
    "    showarrow=False,\n",
    "    font=dict(size=12, color=\"black\"),\n",
    "    align=\"left\",\n",
    "    bgcolor=\"rgba(255,255,255,0.7)\",\n",
    "    bordercolor=\"black\",\n",
    "    borderwidth=1\n",
    ")\n",
    "\n",
    "# Show the plot\n",
    "fig.show()\n"
   ]
  },
  {
   "cell_type": "code",
   "execution_count": 40,
   "metadata": {},
   "outputs": [
    {
     "name": "stdout",
     "output_type": "stream",
     "text": [
      "RMSE on new data: 6.937942920549846\n",
      "MAE on new data: 5.862866886580575\n",
      "R² on new data: 0.8775773473203331\n"
     ]
    },
    {
     "data": {
      "application/vnd.plotly.v1+json": {
       "config": {
        "plotlyServerURL": "https://plot.ly"
       },
       "data": [
        {
         "line": {
          "color": "blue"
         },
         "mode": "lines",
         "name": "Actual AQI",
         "type": "scatter",
         "x": [
          "2004-07-01T00:00:00",
          "2004-08-01T00:00:00",
          "2004-09-01T00:00:00",
          "2004-10-01T00:00:00",
          "2004-11-01T00:00:00",
          "2004-12-01T00:00:00",
          "2005-01-01T00:00:00",
          "2005-02-01T00:00:00",
          "2005-03-01T00:00:00",
          "2005-04-01T00:00:00",
          "2005-05-01T00:00:00",
          "2005-06-01T00:00:00",
          "2005-07-01T00:00:00",
          "2005-08-01T00:00:00",
          "2005-09-01T00:00:00",
          "2005-10-01T00:00:00",
          "2005-11-01T00:00:00",
          "2005-12-01T00:00:00",
          "2006-01-01T00:00:00",
          "2006-02-01T00:00:00",
          "2006-03-01T00:00:00",
          "2006-04-01T00:00:00",
          "2006-05-01T00:00:00",
          "2006-06-01T00:00:00",
          "2006-07-01T00:00:00",
          "2006-08-01T00:00:00",
          "2006-09-01T00:00:00",
          "2006-10-01T00:00:00",
          "2006-11-01T00:00:00",
          "2006-12-01T00:00:00",
          "2007-01-01T00:00:00",
          "2007-02-01T00:00:00",
          "2007-03-01T00:00:00",
          "2007-04-01T00:00:00",
          "2007-05-01T00:00:00",
          "2007-06-01T00:00:00",
          "2007-07-01T00:00:00",
          "2007-08-01T00:00:00",
          "2007-09-01T00:00:00",
          "2007-10-01T00:00:00",
          "2007-11-01T00:00:00",
          "2007-12-01T00:00:00",
          "2008-01-01T00:00:00",
          "2008-02-01T00:00:00",
          "2008-03-01T00:00:00",
          "2008-04-01T00:00:00",
          "2008-05-01T00:00:00",
          "2008-06-01T00:00:00",
          "2008-07-01T00:00:00",
          "2008-08-01T00:00:00",
          "2008-09-01T00:00:00",
          "2008-10-01T00:00:00",
          "2008-11-01T00:00:00",
          "2008-12-01T00:00:00",
          "2009-01-01T00:00:00",
          "2009-02-01T00:00:00",
          "2009-03-01T00:00:00",
          "2009-04-01T00:00:00",
          "2009-05-01T00:00:00",
          "2009-06-01T00:00:00",
          "2009-07-01T00:00:00",
          "2009-08-01T00:00:00",
          "2009-09-01T00:00:00",
          "2009-10-01T00:00:00",
          "2009-11-01T00:00:00",
          "2009-12-01T00:00:00",
          "2010-01-01T00:00:00",
          "2010-02-01T00:00:00",
          "2010-03-01T00:00:00",
          "2010-04-01T00:00:00",
          "2010-05-01T00:00:00",
          "2010-06-01T00:00:00",
          "2010-07-01T00:00:00",
          "2010-08-01T00:00:00",
          "2010-09-01T00:00:00",
          "2010-10-01T00:00:00",
          "2010-11-01T00:00:00",
          "2010-12-01T00:00:00",
          "2011-01-01T00:00:00",
          "2011-02-01T00:00:00",
          "2011-03-01T00:00:00",
          "2011-04-01T00:00:00",
          "2011-05-01T00:00:00",
          "2011-06-01T00:00:00",
          "2011-07-01T00:00:00",
          "2011-08-01T00:00:00",
          "2011-09-01T00:00:00",
          "2011-10-01T00:00:00",
          "2011-11-01T00:00:00",
          "2011-12-01T00:00:00",
          "2012-01-01T00:00:00",
          "2012-02-01T00:00:00",
          "2012-03-01T00:00:00",
          "2012-04-01T00:00:00",
          "2012-05-01T00:00:00",
          "2012-06-01T00:00:00",
          "2012-07-01T00:00:00",
          "2012-08-01T00:00:00",
          "2012-09-01T00:00:00",
          "2012-10-01T00:00:00",
          "2012-11-01T00:00:00",
          "2012-12-01T00:00:00",
          "2013-01-01T00:00:00",
          "2013-02-01T00:00:00",
          "2013-03-01T00:00:00",
          "2013-04-01T00:00:00",
          "2013-05-01T00:00:00",
          "2013-06-01T00:00:00",
          "2013-07-01T00:00:00",
          "2013-08-01T00:00:00",
          "2013-09-01T00:00:00",
          "2013-10-01T00:00:00",
          "2013-11-01T00:00:00",
          "2013-12-01T00:00:00",
          "2014-01-01T00:00:00",
          "2014-02-01T00:00:00",
          "2014-03-01T00:00:00",
          "2014-04-01T00:00:00",
          "2014-05-01T00:00:00",
          "2014-06-01T00:00:00",
          "2014-07-01T00:00:00",
          "2014-08-01T00:00:00",
          "2014-09-01T00:00:00",
          "2014-10-01T00:00:00",
          "2014-11-01T00:00:00",
          "2014-12-01T00:00:00",
          "2015-01-01T00:00:00",
          "2015-02-01T00:00:00",
          "2015-03-01T00:00:00",
          "2015-04-01T00:00:00",
          "2015-05-01T00:00:00",
          "2015-06-01T00:00:00",
          "2015-07-01T00:00:00",
          "2015-08-01T00:00:00",
          "2015-09-01T00:00:00",
          "2015-10-01T00:00:00",
          "2015-11-01T00:00:00",
          "2015-12-01T00:00:00"
         ],
         "y": [
          154.49635915759032,
          147.97272508456405,
          148.50183323488952,
          170.58681912612803,
          185.71228644390013,
          199.47381407293128,
          215.81081626120184,
          207.9797007248941,
          205.33851401589536,
          218.5220710654652,
          215.7102743141951,
          204.3699754681924,
          183.1740061569622,
          176.62233358939912,
          171.2084374586829,
          197.6874591806444,
          217.6963725334029,
          229.56837763880887,
          228.1273572608428,
          224.97043106150923,
          206.23695499367145,
          213.62497230157445,
          203.08573090364143,
          187.4172619138114,
          170.92489691825327,
          167.272377209172,
          168.1584047939725,
          196.13795856626703,
          200.37720648210197,
          215.52877691766656,
          218.829658814782,
          194.57784752769237,
          199.73118823672388,
          203.55489626938095,
          201.21170383646773,
          169.6266173024306,
          161.44451408317482,
          161.40665846484913,
          167.4298226216665,
          193.8238700548268,
          212.1388636666396,
          223.920327252759,
          221.9586251400793,
          226.73516716120128,
          218.570452821156,
          210.4306500737452,
          214.5744609491444,
          179.8997398271514,
          172.45163768152676,
          169.2125913162277,
          169.2303880026793,
          208.060292446922,
          216.67687435200037,
          227.58944330142063,
          226.6246675035794,
          238.47872278918007,
          231.3107634553367,
          216.2254894602058,
          208.3421928215633,
          206.88596795533536,
          169.24414071277462,
          164.96519583917402,
          189.8954522672518,
          207.9575216563162,
          210.74576264484136,
          231.15627142314528,
          222.35014091354716,
          209.3238046954132,
          216.31863036928164,
          215.1397289973304,
          222.55150049884253,
          193.76953516964937,
          174.17504430482398,
          173.09545519828103,
          178.49270777877302,
          194.72154561766416,
          201.5068873064982,
          220.329559060692,
          178.35111055234435,
          176.63855159592677,
          176.0162319476241,
          175.20520597638034,
          177.4936132316655,
          173.54170677331794,
          171.97785754944107,
          171.46136268115603,
          172.26251286656955,
          175.41254160904674,
          176.9447973387972,
          179.7428076534498,
          181.03413225314105,
          180.9391241236661,
          181.20834969188545,
          180.9425732001837,
          181.14397122839603,
          180.912519258164,
          180.6747461876801,
          180.6139273586616,
          180.7186862356718,
          180.87012725598663,
          181.32416923285265,
          180.96242651382823,
          178.1354426120432,
          177.16482238111027,
          176.34324071382065,
          177.23637500294055,
          174.8151525758683,
          175.6567591355012,
          174.57206360760804,
          174.61855982321416,
          175.3562129280757,
          174.3175794839126,
          175.05279498257954,
          174.61218168133533,
          180.9314946602455,
          180.7382645267828,
          180.70310463923963,
          180.70632844921988,
          180.7247483830413,
          180.67190132393563,
          180.69846829015032,
          180.66239213931183,
          180.8494242084716,
          181.06972651197995,
          181.32566202795903,
          181.11796374032969,
          180.78235333035477,
          180.81565746927475,
          180.56449295440024,
          180.6671003515469,
          180.7084254230822,
          180.55345765165333,
          180.5333394778618,
          180.52821706732848,
          180.5633294548433,
          180.6072988701841,
          180.9988737477541,
          180.96167712492985
         ]
        },
        {
         "line": {
          "color": "red",
          "dash": "dot"
         },
         "mode": "lines",
         "name": "Predicted AQI",
         "type": "scatter",
         "x": [
          "2004-07-01T00:00:00",
          "2004-08-01T00:00:00",
          "2004-09-01T00:00:00",
          "2004-10-01T00:00:00",
          "2004-11-01T00:00:00",
          "2004-12-01T00:00:00",
          "2005-01-01T00:00:00",
          "2005-02-01T00:00:00",
          "2005-03-01T00:00:00",
          "2005-04-01T00:00:00",
          "2005-05-01T00:00:00",
          "2005-06-01T00:00:00",
          "2005-07-01T00:00:00",
          "2005-08-01T00:00:00",
          "2005-09-01T00:00:00",
          "2005-10-01T00:00:00",
          "2005-11-01T00:00:00",
          "2005-12-01T00:00:00",
          "2006-01-01T00:00:00",
          "2006-02-01T00:00:00",
          "2006-03-01T00:00:00",
          "2006-04-01T00:00:00",
          "2006-05-01T00:00:00",
          "2006-06-01T00:00:00",
          "2006-07-01T00:00:00",
          "2006-08-01T00:00:00",
          "2006-09-01T00:00:00",
          "2006-10-01T00:00:00",
          "2006-11-01T00:00:00",
          "2006-12-01T00:00:00",
          "2007-01-01T00:00:00",
          "2007-02-01T00:00:00",
          "2007-03-01T00:00:00",
          "2007-04-01T00:00:00",
          "2007-05-01T00:00:00",
          "2007-06-01T00:00:00",
          "2007-07-01T00:00:00",
          "2007-08-01T00:00:00",
          "2007-09-01T00:00:00",
          "2007-10-01T00:00:00",
          "2007-11-01T00:00:00",
          "2007-12-01T00:00:00",
          "2008-01-01T00:00:00",
          "2008-02-01T00:00:00",
          "2008-03-01T00:00:00",
          "2008-04-01T00:00:00",
          "2008-05-01T00:00:00",
          "2008-06-01T00:00:00",
          "2008-07-01T00:00:00",
          "2008-08-01T00:00:00",
          "2008-09-01T00:00:00",
          "2008-10-01T00:00:00",
          "2008-11-01T00:00:00",
          "2008-12-01T00:00:00",
          "2009-01-01T00:00:00",
          "2009-02-01T00:00:00",
          "2009-03-01T00:00:00",
          "2009-04-01T00:00:00",
          "2009-05-01T00:00:00",
          "2009-06-01T00:00:00",
          "2009-07-01T00:00:00",
          "2009-08-01T00:00:00",
          "2009-09-01T00:00:00",
          "2009-10-01T00:00:00",
          "2009-11-01T00:00:00",
          "2009-12-01T00:00:00",
          "2010-01-01T00:00:00",
          "2010-02-01T00:00:00",
          "2010-03-01T00:00:00",
          "2010-04-01T00:00:00",
          "2010-05-01T00:00:00",
          "2010-06-01T00:00:00",
          "2010-07-01T00:00:00",
          "2010-08-01T00:00:00",
          "2010-09-01T00:00:00",
          "2010-10-01T00:00:00",
          "2010-11-01T00:00:00",
          "2010-12-01T00:00:00",
          "2011-01-01T00:00:00",
          "2011-02-01T00:00:00",
          "2011-03-01T00:00:00",
          "2011-04-01T00:00:00",
          "2011-05-01T00:00:00",
          "2011-06-01T00:00:00",
          "2011-07-01T00:00:00",
          "2011-08-01T00:00:00",
          "2011-09-01T00:00:00",
          "2011-10-01T00:00:00",
          "2011-11-01T00:00:00",
          "2011-12-01T00:00:00",
          "2012-01-01T00:00:00",
          "2012-02-01T00:00:00",
          "2012-03-01T00:00:00",
          "2012-04-01T00:00:00",
          "2012-05-01T00:00:00",
          "2012-06-01T00:00:00",
          "2012-07-01T00:00:00",
          "2012-08-01T00:00:00",
          "2012-09-01T00:00:00",
          "2012-10-01T00:00:00",
          "2012-11-01T00:00:00",
          "2012-12-01T00:00:00",
          "2013-01-01T00:00:00",
          "2013-02-01T00:00:00",
          "2013-03-01T00:00:00",
          "2013-04-01T00:00:00",
          "2013-05-01T00:00:00",
          "2013-06-01T00:00:00",
          "2013-07-01T00:00:00",
          "2013-08-01T00:00:00",
          "2013-09-01T00:00:00",
          "2013-10-01T00:00:00",
          "2013-11-01T00:00:00",
          "2013-12-01T00:00:00",
          "2014-01-01T00:00:00",
          "2014-02-01T00:00:00",
          "2014-03-01T00:00:00",
          "2014-04-01T00:00:00",
          "2014-05-01T00:00:00",
          "2014-06-01T00:00:00",
          "2014-07-01T00:00:00",
          "2014-08-01T00:00:00",
          "2014-09-01T00:00:00",
          "2014-10-01T00:00:00",
          "2014-11-01T00:00:00",
          "2014-12-01T00:00:00",
          "2015-01-01T00:00:00",
          "2015-02-01T00:00:00",
          "2015-03-01T00:00:00",
          "2015-04-01T00:00:00",
          "2015-05-01T00:00:00",
          "2015-06-01T00:00:00",
          "2015-07-01T00:00:00",
          "2015-08-01T00:00:00",
          "2015-09-01T00:00:00",
          "2015-10-01T00:00:00",
          "2015-11-01T00:00:00",
          "2015-12-01T00:00:00"
         ],
         "y": [
          149.902099609375,
          143.6112060546875,
          146.42556762695312,
          169.34426879882812,
          193.14927673339844,
          195.39036560058594,
          214.3092498779297,
          215.70962524414062,
          204.04905700683594,
          214.96893310546875,
          214.57846069335938,
          199.41844177246094,
          187.58261108398438,
          186.33399963378906,
          176.16436767578125,
          193.8486785888672,
          215.6259765625,
          229.89956665039062,
          222.97235107421875,
          220.18075561523438,
          200.529052734375,
          216.33547973632812,
          199.5352783203125,
          182.54019165039062,
          170.5083465576172,
          163.38453674316406,
          165.31503295898438,
          197.2892303466797,
          195.6669158935547,
          214.6243896484375,
          214.0631561279297,
          193.5049591064453,
          197.263427734375,
          198.38531494140625,
          196.9729766845703,
          168.94650268554688,
          157.8305206298828,
          154.18704223632812,
          164.46377563476562,
          194.78631591796875,
          215.9360809326172,
          219.00582885742188,
          218.92755126953125,
          222.5468292236328,
          213.96641540527344,
          214.2251434326172,
          214.4517059326172,
          183.5810546875,
          171.3722381591797,
          169.88204956054688,
          171.1552734375,
          207.92897033691406,
          214.50918579101562,
          222.63172912597656,
          222.5945281982422,
          239.29086303710938,
          230.96876525878906,
          212.84608459472656,
          212.91506958007812,
          199.5369110107422,
          171.54698181152344,
          165.77000427246094,
          187.9451904296875,
          214.9446258544922,
          210.97377014160156,
          219.5421905517578,
          216.21343994140625,
          210.52273559570312,
          210.31228637695312,
          211.1085968017578,
          215.9847869873047,
          192.40530395507812,
          179.19508361816406,
          175.92288208007812,
          182.2725830078125,
          193.0448760986328,
          196.5663299560547,
          215.0425567626953,
          187.2129669189453,
          193.48463439941406,
          193.2022247314453,
          185.96255493164062,
          188.2843475341797,
          182.63282775878906,
          182.27163696289062,
          182.30523681640625,
          182.58316040039062,
          193.43702697753906,
          193.4790496826172,
          196.16485595703125,
          193.0132598876953,
          187.5924835205078,
          187.5156707763672,
          187.5156707763672,
          188.55868530273438,
          188.55868530273438,
          188.14459228515625,
          188.14541625976562,
          188.55868530273438,
          187.8244171142578,
          193.13742065429688,
          192.39537048339844,
          184.25111389160156,
          183.87158203125,
          183.57171630859375,
          183.45748901367188,
          183.23959350585938,
          183.8632354736328,
          186.89666748046875,
          186.8258514404297,
          183.8632354736328,
          183.27230834960938,
          183.77220153808594,
          183.27207946777344,
          188.45352172851562,
          187.8146514892578,
          187.75230407714844,
          188.55123901367188,
          188.55868530273438,
          188.14459228515625,
          188.02285766601562,
          188.02285766601562,
          188.14459228515625,
          187.8244171142578,
          187.8096466064453,
          187.4932403564453,
          187.77806091308594,
          187.5156707763672,
          188.55868530273438,
          188.14541625976562,
          188.14459228515625,
          188.05557250976562,
          188.50726318359375,
          188.50726318359375,
          188.05520629882812,
          188.542724609375,
          187.7966766357422,
          188.09230041503906
         ]
        }
       ],
       "layout": {
        "legend": {
         "x": 0.01,
         "y": 0.99
        },
        "template": {
         "data": {
          "bar": [
           {
            "error_x": {
             "color": "#2a3f5f"
            },
            "error_y": {
             "color": "#2a3f5f"
            },
            "marker": {
             "line": {
              "color": "white",
              "width": 0.5
             },
             "pattern": {
              "fillmode": "overlay",
              "size": 10,
              "solidity": 0.2
             }
            },
            "type": "bar"
           }
          ],
          "barpolar": [
           {
            "marker": {
             "line": {
              "color": "white",
              "width": 0.5
             },
             "pattern": {
              "fillmode": "overlay",
              "size": 10,
              "solidity": 0.2
             }
            },
            "type": "barpolar"
           }
          ],
          "carpet": [
           {
            "aaxis": {
             "endlinecolor": "#2a3f5f",
             "gridcolor": "#C8D4E3",
             "linecolor": "#C8D4E3",
             "minorgridcolor": "#C8D4E3",
             "startlinecolor": "#2a3f5f"
            },
            "baxis": {
             "endlinecolor": "#2a3f5f",
             "gridcolor": "#C8D4E3",
             "linecolor": "#C8D4E3",
             "minorgridcolor": "#C8D4E3",
             "startlinecolor": "#2a3f5f"
            },
            "type": "carpet"
           }
          ],
          "choropleth": [
           {
            "colorbar": {
             "outlinewidth": 0,
             "ticks": ""
            },
            "type": "choropleth"
           }
          ],
          "contour": [
           {
            "colorbar": {
             "outlinewidth": 0,
             "ticks": ""
            },
            "colorscale": [
             [
              0,
              "#0d0887"
             ],
             [
              0.1111111111111111,
              "#46039f"
             ],
             [
              0.2222222222222222,
              "#7201a8"
             ],
             [
              0.3333333333333333,
              "#9c179e"
             ],
             [
              0.4444444444444444,
              "#bd3786"
             ],
             [
              0.5555555555555556,
              "#d8576b"
             ],
             [
              0.6666666666666666,
              "#ed7953"
             ],
             [
              0.7777777777777778,
              "#fb9f3a"
             ],
             [
              0.8888888888888888,
              "#fdca26"
             ],
             [
              1,
              "#f0f921"
             ]
            ],
            "type": "contour"
           }
          ],
          "contourcarpet": [
           {
            "colorbar": {
             "outlinewidth": 0,
             "ticks": ""
            },
            "type": "contourcarpet"
           }
          ],
          "heatmap": [
           {
            "colorbar": {
             "outlinewidth": 0,
             "ticks": ""
            },
            "colorscale": [
             [
              0,
              "#0d0887"
             ],
             [
              0.1111111111111111,
              "#46039f"
             ],
             [
              0.2222222222222222,
              "#7201a8"
             ],
             [
              0.3333333333333333,
              "#9c179e"
             ],
             [
              0.4444444444444444,
              "#bd3786"
             ],
             [
              0.5555555555555556,
              "#d8576b"
             ],
             [
              0.6666666666666666,
              "#ed7953"
             ],
             [
              0.7777777777777778,
              "#fb9f3a"
             ],
             [
              0.8888888888888888,
              "#fdca26"
             ],
             [
              1,
              "#f0f921"
             ]
            ],
            "type": "heatmap"
           }
          ],
          "heatmapgl": [
           {
            "colorbar": {
             "outlinewidth": 0,
             "ticks": ""
            },
            "colorscale": [
             [
              0,
              "#0d0887"
             ],
             [
              0.1111111111111111,
              "#46039f"
             ],
             [
              0.2222222222222222,
              "#7201a8"
             ],
             [
              0.3333333333333333,
              "#9c179e"
             ],
             [
              0.4444444444444444,
              "#bd3786"
             ],
             [
              0.5555555555555556,
              "#d8576b"
             ],
             [
              0.6666666666666666,
              "#ed7953"
             ],
             [
              0.7777777777777778,
              "#fb9f3a"
             ],
             [
              0.8888888888888888,
              "#fdca26"
             ],
             [
              1,
              "#f0f921"
             ]
            ],
            "type": "heatmapgl"
           }
          ],
          "histogram": [
           {
            "marker": {
             "pattern": {
              "fillmode": "overlay",
              "size": 10,
              "solidity": 0.2
             }
            },
            "type": "histogram"
           }
          ],
          "histogram2d": [
           {
            "colorbar": {
             "outlinewidth": 0,
             "ticks": ""
            },
            "colorscale": [
             [
              0,
              "#0d0887"
             ],
             [
              0.1111111111111111,
              "#46039f"
             ],
             [
              0.2222222222222222,
              "#7201a8"
             ],
             [
              0.3333333333333333,
              "#9c179e"
             ],
             [
              0.4444444444444444,
              "#bd3786"
             ],
             [
              0.5555555555555556,
              "#d8576b"
             ],
             [
              0.6666666666666666,
              "#ed7953"
             ],
             [
              0.7777777777777778,
              "#fb9f3a"
             ],
             [
              0.8888888888888888,
              "#fdca26"
             ],
             [
              1,
              "#f0f921"
             ]
            ],
            "type": "histogram2d"
           }
          ],
          "histogram2dcontour": [
           {
            "colorbar": {
             "outlinewidth": 0,
             "ticks": ""
            },
            "colorscale": [
             [
              0,
              "#0d0887"
             ],
             [
              0.1111111111111111,
              "#46039f"
             ],
             [
              0.2222222222222222,
              "#7201a8"
             ],
             [
              0.3333333333333333,
              "#9c179e"
             ],
             [
              0.4444444444444444,
              "#bd3786"
             ],
             [
              0.5555555555555556,
              "#d8576b"
             ],
             [
              0.6666666666666666,
              "#ed7953"
             ],
             [
              0.7777777777777778,
              "#fb9f3a"
             ],
             [
              0.8888888888888888,
              "#fdca26"
             ],
             [
              1,
              "#f0f921"
             ]
            ],
            "type": "histogram2dcontour"
           }
          ],
          "mesh3d": [
           {
            "colorbar": {
             "outlinewidth": 0,
             "ticks": ""
            },
            "type": "mesh3d"
           }
          ],
          "parcoords": [
           {
            "line": {
             "colorbar": {
              "outlinewidth": 0,
              "ticks": ""
             }
            },
            "type": "parcoords"
           }
          ],
          "pie": [
           {
            "automargin": true,
            "type": "pie"
           }
          ],
          "scatter": [
           {
            "fillpattern": {
             "fillmode": "overlay",
             "size": 10,
             "solidity": 0.2
            },
            "type": "scatter"
           }
          ],
          "scatter3d": [
           {
            "line": {
             "colorbar": {
              "outlinewidth": 0,
              "ticks": ""
             }
            },
            "marker": {
             "colorbar": {
              "outlinewidth": 0,
              "ticks": ""
             }
            },
            "type": "scatter3d"
           }
          ],
          "scattercarpet": [
           {
            "marker": {
             "colorbar": {
              "outlinewidth": 0,
              "ticks": ""
             }
            },
            "type": "scattercarpet"
           }
          ],
          "scattergeo": [
           {
            "marker": {
             "colorbar": {
              "outlinewidth": 0,
              "ticks": ""
             }
            },
            "type": "scattergeo"
           }
          ],
          "scattergl": [
           {
            "marker": {
             "colorbar": {
              "outlinewidth": 0,
              "ticks": ""
             }
            },
            "type": "scattergl"
           }
          ],
          "scattermapbox": [
           {
            "marker": {
             "colorbar": {
              "outlinewidth": 0,
              "ticks": ""
             }
            },
            "type": "scattermapbox"
           }
          ],
          "scatterpolar": [
           {
            "marker": {
             "colorbar": {
              "outlinewidth": 0,
              "ticks": ""
             }
            },
            "type": "scatterpolar"
           }
          ],
          "scatterpolargl": [
           {
            "marker": {
             "colorbar": {
              "outlinewidth": 0,
              "ticks": ""
             }
            },
            "type": "scatterpolargl"
           }
          ],
          "scatterternary": [
           {
            "marker": {
             "colorbar": {
              "outlinewidth": 0,
              "ticks": ""
             }
            },
            "type": "scatterternary"
           }
          ],
          "surface": [
           {
            "colorbar": {
             "outlinewidth": 0,
             "ticks": ""
            },
            "colorscale": [
             [
              0,
              "#0d0887"
             ],
             [
              0.1111111111111111,
              "#46039f"
             ],
             [
              0.2222222222222222,
              "#7201a8"
             ],
             [
              0.3333333333333333,
              "#9c179e"
             ],
             [
              0.4444444444444444,
              "#bd3786"
             ],
             [
              0.5555555555555556,
              "#d8576b"
             ],
             [
              0.6666666666666666,
              "#ed7953"
             ],
             [
              0.7777777777777778,
              "#fb9f3a"
             ],
             [
              0.8888888888888888,
              "#fdca26"
             ],
             [
              1,
              "#f0f921"
             ]
            ],
            "type": "surface"
           }
          ],
          "table": [
           {
            "cells": {
             "fill": {
              "color": "#EBF0F8"
             },
             "line": {
              "color": "white"
             }
            },
            "header": {
             "fill": {
              "color": "#C8D4E3"
             },
             "line": {
              "color": "white"
             }
            },
            "type": "table"
           }
          ]
         },
         "layout": {
          "annotationdefaults": {
           "arrowcolor": "#2a3f5f",
           "arrowhead": 0,
           "arrowwidth": 1
          },
          "autotypenumbers": "strict",
          "coloraxis": {
           "colorbar": {
            "outlinewidth": 0,
            "ticks": ""
           }
          },
          "colorscale": {
           "diverging": [
            [
             0,
             "#8e0152"
            ],
            [
             0.1,
             "#c51b7d"
            ],
            [
             0.2,
             "#de77ae"
            ],
            [
             0.3,
             "#f1b6da"
            ],
            [
             0.4,
             "#fde0ef"
            ],
            [
             0.5,
             "#f7f7f7"
            ],
            [
             0.6,
             "#e6f5d0"
            ],
            [
             0.7,
             "#b8e186"
            ],
            [
             0.8,
             "#7fbc41"
            ],
            [
             0.9,
             "#4d9221"
            ],
            [
             1,
             "#276419"
            ]
           ],
           "sequential": [
            [
             0,
             "#0d0887"
            ],
            [
             0.1111111111111111,
             "#46039f"
            ],
            [
             0.2222222222222222,
             "#7201a8"
            ],
            [
             0.3333333333333333,
             "#9c179e"
            ],
            [
             0.4444444444444444,
             "#bd3786"
            ],
            [
             0.5555555555555556,
             "#d8576b"
            ],
            [
             0.6666666666666666,
             "#ed7953"
            ],
            [
             0.7777777777777778,
             "#fb9f3a"
            ],
            [
             0.8888888888888888,
             "#fdca26"
            ],
            [
             1,
             "#f0f921"
            ]
           ],
           "sequentialminus": [
            [
             0,
             "#0d0887"
            ],
            [
             0.1111111111111111,
             "#46039f"
            ],
            [
             0.2222222222222222,
             "#7201a8"
            ],
            [
             0.3333333333333333,
             "#9c179e"
            ],
            [
             0.4444444444444444,
             "#bd3786"
            ],
            [
             0.5555555555555556,
             "#d8576b"
            ],
            [
             0.6666666666666666,
             "#ed7953"
            ],
            [
             0.7777777777777778,
             "#fb9f3a"
            ],
            [
             0.8888888888888888,
             "#fdca26"
            ],
            [
             1,
             "#f0f921"
            ]
           ]
          },
          "colorway": [
           "#636efa",
           "#EF553B",
           "#00cc96",
           "#ab63fa",
           "#FFA15A",
           "#19d3f3",
           "#FF6692",
           "#B6E880",
           "#FF97FF",
           "#FECB52"
          ],
          "font": {
           "color": "#2a3f5f"
          },
          "geo": {
           "bgcolor": "white",
           "lakecolor": "white",
           "landcolor": "white",
           "showlakes": true,
           "showland": true,
           "subunitcolor": "#C8D4E3"
          },
          "hoverlabel": {
           "align": "left"
          },
          "hovermode": "closest",
          "mapbox": {
           "style": "light"
          },
          "paper_bgcolor": "white",
          "plot_bgcolor": "white",
          "polar": {
           "angularaxis": {
            "gridcolor": "#EBF0F8",
            "linecolor": "#EBF0F8",
            "ticks": ""
           },
           "bgcolor": "white",
           "radialaxis": {
            "gridcolor": "#EBF0F8",
            "linecolor": "#EBF0F8",
            "ticks": ""
           }
          },
          "scene": {
           "xaxis": {
            "backgroundcolor": "white",
            "gridcolor": "#DFE8F3",
            "gridwidth": 2,
            "linecolor": "#EBF0F8",
            "showbackground": true,
            "ticks": "",
            "zerolinecolor": "#EBF0F8"
           },
           "yaxis": {
            "backgroundcolor": "white",
            "gridcolor": "#DFE8F3",
            "gridwidth": 2,
            "linecolor": "#EBF0F8",
            "showbackground": true,
            "ticks": "",
            "zerolinecolor": "#EBF0F8"
           },
           "zaxis": {
            "backgroundcolor": "white",
            "gridcolor": "#DFE8F3",
            "gridwidth": 2,
            "linecolor": "#EBF0F8",
            "showbackground": true,
            "ticks": "",
            "zerolinecolor": "#EBF0F8"
           }
          },
          "shapedefaults": {
           "line": {
            "color": "#2a3f5f"
           }
          },
          "ternary": {
           "aaxis": {
            "gridcolor": "#DFE8F3",
            "linecolor": "#A2B1C6",
            "ticks": ""
           },
           "baxis": {
            "gridcolor": "#DFE8F3",
            "linecolor": "#A2B1C6",
            "ticks": ""
           },
           "bgcolor": "white",
           "caxis": {
            "gridcolor": "#DFE8F3",
            "linecolor": "#A2B1C6",
            "ticks": ""
           }
          },
          "title": {
           "x": 0.05
          },
          "xaxis": {
           "automargin": true,
           "gridcolor": "#EBF0F8",
           "linecolor": "#EBF0F8",
           "ticks": "",
           "title": {
            "standoff": 15
           },
           "zerolinecolor": "#EBF0F8",
           "zerolinewidth": 2
          },
          "yaxis": {
           "automargin": true,
           "gridcolor": "#EBF0F8",
           "linecolor": "#EBF0F8",
           "ticks": "",
           "title": {
            "standoff": 15
           },
           "zerolinecolor": "#EBF0F8",
           "zerolinewidth": 2
          }
         }
        },
        "title": {
         "text": "AQI Predictions on New Data"
        },
        "xaxis": {
         "title": {
          "text": "Period"
         }
        },
        "yaxis": {
         "title": {
          "text": "AQI"
         }
        }
       }
      }
     },
     "metadata": {},
     "output_type": "display_data"
    }
   ],
   "source": [
    "import pandas as pd\n",
    "import numpy as np\n",
    "from xgboost import XGBRegressor\n",
    "from sklearn.metrics import mean_squared_error, mean_absolute_error, r2_score\n",
    "import plotly.graph_objects as go\n",
    "\n",
    "# Load the new data\n",
    "new_data = pd.read_csv('test.csv', index_col=0)\n",
    "\n",
    "# Reset index to get 'period' as a column if it's in the index\n",
    "if 'period' not in new_data.columns:\n",
    "    new_data.reset_index(inplace=True)\n",
    "    new_data.rename(columns={'index': 'period'}, inplace=True)\n",
    "\n",
    "# Ensure the date column is in datetime format\n",
    "new_data['period'] = pd.to_datetime(new_data['period'], format='%Y-%m')\n",
    "\n",
    "# Create lag features for the new data (same as in the training data)\n",
    "for lag in range(1, 2):\n",
    "    new_data[f'AQI_lag_{lag}'] = new_data['AQI'].shift(lag)\n",
    "\n",
    "# Drop rows with NaN values due to lagging (same as before)\n",
    "new_data = new_data.dropna()\n",
    "\n",
    "# Features for the new data (same as the training data)\n",
    "features = [col for col in new_data.columns if col not in ['period', 'AQI']]\n",
    "X_new = new_data[features]\n",
    "\n",
    "# Load the trained model\n",
    "model = XGBRegressor()\n",
    "model.load_model('best_model.json')  # Replace with your saved model path\n",
    "\n",
    "# Make predictions using the trained model\n",
    "y_new_pred = model.predict(X_new)\n",
    "\n",
    "# If you have the actual AQI values for the new data, you can compare them with the predictions\n",
    "# Assuming you have the 'AQI' column in 'new_data.csv' for evaluation\n",
    "if 'AQI' in new_data.columns:\n",
    "    y_new_actual = new_data['AQI']\n",
    "    rmse_new = np.sqrt(mean_squared_error(y_new_actual, y_new_pred))\n",
    "    mae_new = mean_absolute_error(y_new_actual, y_new_pred)\n",
    "    r2_new = r2_score(y_new_actual, y_new_pred)\n",
    "    \n",
    "    print(f\"RMSE on new data: {rmse_new}\")\n",
    "    print(f\"MAE on new data: {mae_new}\")\n",
    "    print(f\"R² on new data: {r2_new}\")\n",
    "\n",
    "# Optionally, visualize the results (if you want to compare predictions vs. actual)\n",
    "fig_new = go.Figure()\n",
    "\n",
    "# Add new data actual AQI (if available)\n",
    "if 'AQI' in new_data.columns:\n",
    "    fig_new.add_trace(go.Scatter(x=new_data['period'], y=new_data['AQI'],\n",
    "                                mode='lines', name='Actual AQI',\n",
    "                                line=dict(color='blue')))\n",
    "\n",
    "# Add predictions\n",
    "fig_new.add_trace(go.Scatter(x=new_data['period'], y=y_new_pred,\n",
    "                            mode='lines', name='Predicted AQI',\n",
    "                            line=dict(color='red', dash='dot')))\n",
    "\n",
    "# Update layout\n",
    "fig_new.update_layout(\n",
    "    title='AQI Predictions on New Data',\n",
    "    xaxis_title='Period',\n",
    "    yaxis_title='AQI',\n",
    "    legend=dict(x=0.01, y=0.99),\n",
    "    template='plotly_white'\n",
    ")\n",
    "\n",
    "# Show the plot\n",
    "fig_new.show()\n"
   ]
  },
  {
   "cell_type": "code",
   "execution_count": 43,
   "metadata": {},
   "outputs": [
    {
     "name": "stdout",
     "output_type": "stream",
     "text": [
      "Training RMSE: 2.906844603221727\n",
      "Training MAE: 2.069777318149392\n",
      "Training R²: 0.9955679523088368\n"
     ]
    }
   ],
   "source": [
    "import pandas as pd\n",
    "import numpy as np\n",
    "from sklearn.ensemble import RandomForestRegressor\n",
    "from sklearn.metrics import mean_squared_error, mean_absolute_error, r2_score\n",
    "import joblib  # For saving the model\n",
    "\n",
    "# Load the training data\n",
    "train_data = pd.read_csv('train.csv', index_col=0)\n",
    "\n",
    "# Reset index to get 'period' as a column if it's in the index\n",
    "if 'period' not in train_data.columns:\n",
    "    train_data.reset_index(inplace=True)\n",
    "    train_data.rename(columns={'index': 'period'}, inplace=True)\n",
    "\n",
    "# Ensure the date column is in datetime format\n",
    "train_data['period'] = pd.to_datetime(train_data['period'], format='%Y-%m')\n",
    "\n",
    "# Set the 'period' column as the index\n",
    "train_data.set_index('period', inplace=True)\n",
    "\n",
    "# Ensure the AQI column is numeric (in case there are any issues with the data)\n",
    "train_data['AQI'] = pd.to_numeric(train_data['AQI'], errors='coerce')\n",
    "\n",
    "# Drop rows with NaN values (because of non-numeric AQI or missing values)\n",
    "train_data = train_data.dropna()\n",
    "\n",
    "# Create lag features for the training data (same as the test data)\n",
    "# Example: create a lag of 1 step (you can add more lags based on your model needs)\n",
    "train_data['AQI_lag_1'] = train_data['AQI'].shift(1)\n",
    "\n",
    "# Drop rows with NaN values due to lagging\n",
    "train_data = train_data.dropna()\n",
    "\n",
    "# Features for the model (use lag features and other potential features if available)\n",
    "features = [col for col in train_data.columns if col not in ['AQI']]\n",
    "\n",
    "# Define the features (X) and target (y) for training the model\n",
    "X_train = train_data[features]\n",
    "y_train = train_data['AQI']\n",
    "\n",
    "# Initialize the RandomForestRegressor model\n",
    "model_rf = RandomForestRegressor(n_estimators=100, random_state=42)\n",
    "\n",
    "# Fit the model to the training data\n",
    "model_rf.fit(X_train, y_train)\n",
    "\n",
    "# Save the model to disk for later use (e.g., testing)\n",
    "joblib.dump(model_rf, 'random_forest_model.pkl')\n",
    "\n",
    "# Make predictions on the training data (optional for evaluation)\n",
    "y_train_pred = model_rf.predict(X_train)\n",
    "\n",
    "# Evaluate the model on training data\n",
    "rmse_train = np.sqrt(mean_squared_error(y_train, y_train_pred))\n",
    "mae_train = mean_absolute_error(y_train, y_train_pred)\n",
    "r2_train = r2_score(y_train, y_train_pred)\n",
    "\n",
    "print(f\"Training RMSE: {rmse_train}\")\n",
    "print(f\"Training MAE: {mae_train}\")\n",
    "print(f\"Training R²: {r2_train}\")\n"
   ]
  },
  {
   "cell_type": "code",
   "execution_count": 44,
   "metadata": {},
   "outputs": [
    {
     "name": "stdout",
     "output_type": "stream",
     "text": [
      "RMSE on new data: 10.56238812753037\n",
      "MAE on new data: 8.335415178457868\n",
      "R² on new data: 0.7162573732907738\n"
     ]
    },
    {
     "data": {
      "application/vnd.plotly.v1+json": {
       "config": {
        "plotlyServerURL": "https://plot.ly"
       },
       "data": [
        {
         "line": {
          "color": "blue"
         },
         "mode": "lines",
         "name": "Actual AQI",
         "type": "scatter",
         "x": [
          "2004-07-01T00:00:00",
          "2004-08-01T00:00:00",
          "2004-09-01T00:00:00",
          "2004-10-01T00:00:00",
          "2004-11-01T00:00:00",
          "2004-12-01T00:00:00",
          "2005-01-01T00:00:00",
          "2005-02-01T00:00:00",
          "2005-03-01T00:00:00",
          "2005-04-01T00:00:00",
          "2005-05-01T00:00:00",
          "2005-06-01T00:00:00",
          "2005-07-01T00:00:00",
          "2005-08-01T00:00:00",
          "2005-09-01T00:00:00",
          "2005-10-01T00:00:00",
          "2005-11-01T00:00:00",
          "2005-12-01T00:00:00",
          "2006-01-01T00:00:00",
          "2006-02-01T00:00:00",
          "2006-03-01T00:00:00",
          "2006-04-01T00:00:00",
          "2006-05-01T00:00:00",
          "2006-06-01T00:00:00",
          "2006-07-01T00:00:00",
          "2006-08-01T00:00:00",
          "2006-09-01T00:00:00",
          "2006-10-01T00:00:00",
          "2006-11-01T00:00:00",
          "2006-12-01T00:00:00",
          "2007-01-01T00:00:00",
          "2007-02-01T00:00:00",
          "2007-03-01T00:00:00",
          "2007-04-01T00:00:00",
          "2007-05-01T00:00:00",
          "2007-06-01T00:00:00",
          "2007-07-01T00:00:00",
          "2007-08-01T00:00:00",
          "2007-09-01T00:00:00",
          "2007-10-01T00:00:00",
          "2007-11-01T00:00:00",
          "2007-12-01T00:00:00",
          "2008-01-01T00:00:00",
          "2008-02-01T00:00:00",
          "2008-03-01T00:00:00",
          "2008-04-01T00:00:00",
          "2008-05-01T00:00:00",
          "2008-06-01T00:00:00",
          "2008-07-01T00:00:00",
          "2008-08-01T00:00:00",
          "2008-09-01T00:00:00",
          "2008-10-01T00:00:00",
          "2008-11-01T00:00:00",
          "2008-12-01T00:00:00",
          "2009-01-01T00:00:00",
          "2009-02-01T00:00:00",
          "2009-03-01T00:00:00",
          "2009-04-01T00:00:00",
          "2009-05-01T00:00:00",
          "2009-06-01T00:00:00",
          "2009-07-01T00:00:00",
          "2009-08-01T00:00:00",
          "2009-09-01T00:00:00",
          "2009-10-01T00:00:00",
          "2009-11-01T00:00:00",
          "2009-12-01T00:00:00",
          "2010-01-01T00:00:00",
          "2010-02-01T00:00:00",
          "2010-03-01T00:00:00",
          "2010-04-01T00:00:00",
          "2010-05-01T00:00:00",
          "2010-06-01T00:00:00",
          "2010-07-01T00:00:00",
          "2010-08-01T00:00:00",
          "2010-09-01T00:00:00",
          "2010-10-01T00:00:00",
          "2010-11-01T00:00:00",
          "2010-12-01T00:00:00",
          "2011-01-01T00:00:00",
          "2011-02-01T00:00:00",
          "2011-03-01T00:00:00",
          "2011-04-01T00:00:00",
          "2011-05-01T00:00:00",
          "2011-06-01T00:00:00",
          "2011-07-01T00:00:00",
          "2011-08-01T00:00:00",
          "2011-09-01T00:00:00",
          "2011-10-01T00:00:00",
          "2011-11-01T00:00:00",
          "2011-12-01T00:00:00",
          "2012-01-01T00:00:00",
          "2012-02-01T00:00:00",
          "2012-03-01T00:00:00",
          "2012-04-01T00:00:00",
          "2012-05-01T00:00:00",
          "2012-06-01T00:00:00",
          "2012-07-01T00:00:00",
          "2012-08-01T00:00:00",
          "2012-09-01T00:00:00",
          "2012-10-01T00:00:00",
          "2012-11-01T00:00:00",
          "2012-12-01T00:00:00",
          "2013-01-01T00:00:00",
          "2013-02-01T00:00:00",
          "2013-03-01T00:00:00",
          "2013-04-01T00:00:00",
          "2013-05-01T00:00:00",
          "2013-06-01T00:00:00",
          "2013-07-01T00:00:00",
          "2013-08-01T00:00:00",
          "2013-09-01T00:00:00",
          "2013-10-01T00:00:00",
          "2013-11-01T00:00:00",
          "2013-12-01T00:00:00",
          "2014-01-01T00:00:00",
          "2014-02-01T00:00:00",
          "2014-03-01T00:00:00",
          "2014-04-01T00:00:00",
          "2014-05-01T00:00:00",
          "2014-06-01T00:00:00",
          "2014-07-01T00:00:00",
          "2014-08-01T00:00:00",
          "2014-09-01T00:00:00",
          "2014-10-01T00:00:00",
          "2014-11-01T00:00:00",
          "2014-12-01T00:00:00",
          "2015-01-01T00:00:00",
          "2015-02-01T00:00:00",
          "2015-03-01T00:00:00",
          "2015-04-01T00:00:00",
          "2015-05-01T00:00:00",
          "2015-06-01T00:00:00",
          "2015-07-01T00:00:00",
          "2015-08-01T00:00:00",
          "2015-09-01T00:00:00",
          "2015-10-01T00:00:00",
          "2015-11-01T00:00:00",
          "2015-12-01T00:00:00"
         ],
         "y": [
          154.49635915759032,
          147.97272508456405,
          148.50183323488952,
          170.58681912612803,
          185.71228644390013,
          199.47381407293128,
          215.81081626120184,
          207.9797007248941,
          205.33851401589536,
          218.5220710654652,
          215.7102743141951,
          204.3699754681924,
          183.1740061569622,
          176.62233358939912,
          171.2084374586829,
          197.6874591806444,
          217.6963725334029,
          229.56837763880887,
          228.1273572608428,
          224.97043106150923,
          206.23695499367145,
          213.62497230157445,
          203.08573090364143,
          187.4172619138114,
          170.92489691825327,
          167.272377209172,
          168.1584047939725,
          196.13795856626703,
          200.37720648210197,
          215.52877691766656,
          218.829658814782,
          194.57784752769237,
          199.73118823672388,
          203.55489626938095,
          201.21170383646773,
          169.6266173024306,
          161.44451408317482,
          161.40665846484913,
          167.4298226216665,
          193.8238700548268,
          212.1388636666396,
          223.920327252759,
          221.9586251400793,
          226.73516716120128,
          218.570452821156,
          210.4306500737452,
          214.5744609491444,
          179.8997398271514,
          172.45163768152676,
          169.2125913162277,
          169.2303880026793,
          208.060292446922,
          216.67687435200037,
          227.58944330142063,
          226.6246675035794,
          238.47872278918007,
          231.3107634553367,
          216.2254894602058,
          208.3421928215633,
          206.88596795533536,
          169.24414071277462,
          164.96519583917402,
          189.8954522672518,
          207.9575216563162,
          210.74576264484136,
          231.15627142314528,
          222.35014091354716,
          209.3238046954132,
          216.31863036928164,
          215.1397289973304,
          222.55150049884253,
          193.76953516964937,
          174.17504430482398,
          173.09545519828103,
          178.49270777877302,
          194.72154561766416,
          201.5068873064982,
          220.329559060692,
          178.35111055234435,
          176.63855159592677,
          176.0162319476241,
          175.20520597638034,
          177.4936132316655,
          173.54170677331794,
          171.97785754944107,
          171.46136268115603,
          172.26251286656955,
          175.41254160904674,
          176.9447973387972,
          179.7428076534498,
          181.03413225314105,
          180.9391241236661,
          181.20834969188545,
          180.9425732001837,
          181.14397122839603,
          180.912519258164,
          180.6747461876801,
          180.6139273586616,
          180.7186862356718,
          180.87012725598663,
          181.32416923285265,
          180.96242651382823,
          178.1354426120432,
          177.16482238111027,
          176.34324071382065,
          177.23637500294055,
          174.8151525758683,
          175.6567591355012,
          174.57206360760804,
          174.61855982321416,
          175.3562129280757,
          174.3175794839126,
          175.05279498257954,
          174.61218168133533,
          180.9314946602455,
          180.7382645267828,
          180.70310463923963,
          180.70632844921988,
          180.7247483830413,
          180.67190132393563,
          180.69846829015032,
          180.66239213931183,
          180.8494242084716,
          181.06972651197995,
          181.32566202795903,
          181.11796374032969,
          180.78235333035477,
          180.81565746927475,
          180.56449295440024,
          180.6671003515469,
          180.7084254230822,
          180.55345765165333,
          180.5333394778618,
          180.52821706732848,
          180.5633294548433,
          180.6072988701841,
          180.9988737477541,
          180.96167712492985
         ]
        },
        {
         "line": {
          "color": "red",
          "dash": "dot"
         },
         "mode": "lines",
         "name": "Predicted AQI",
         "type": "scatter",
         "x": [
          "2004-07-01T00:00:00",
          "2004-08-01T00:00:00",
          "2004-09-01T00:00:00",
          "2004-10-01T00:00:00",
          "2004-11-01T00:00:00",
          "2004-12-01T00:00:00",
          "2005-01-01T00:00:00",
          "2005-02-01T00:00:00",
          "2005-03-01T00:00:00",
          "2005-04-01T00:00:00",
          "2005-05-01T00:00:00",
          "2005-06-01T00:00:00",
          "2005-07-01T00:00:00",
          "2005-08-01T00:00:00",
          "2005-09-01T00:00:00",
          "2005-10-01T00:00:00",
          "2005-11-01T00:00:00",
          "2005-12-01T00:00:00",
          "2006-01-01T00:00:00",
          "2006-02-01T00:00:00",
          "2006-03-01T00:00:00",
          "2006-04-01T00:00:00",
          "2006-05-01T00:00:00",
          "2006-06-01T00:00:00",
          "2006-07-01T00:00:00",
          "2006-08-01T00:00:00",
          "2006-09-01T00:00:00",
          "2006-10-01T00:00:00",
          "2006-11-01T00:00:00",
          "2006-12-01T00:00:00",
          "2007-01-01T00:00:00",
          "2007-02-01T00:00:00",
          "2007-03-01T00:00:00",
          "2007-04-01T00:00:00",
          "2007-05-01T00:00:00",
          "2007-06-01T00:00:00",
          "2007-07-01T00:00:00",
          "2007-08-01T00:00:00",
          "2007-09-01T00:00:00",
          "2007-10-01T00:00:00",
          "2007-11-01T00:00:00",
          "2007-12-01T00:00:00",
          "2008-01-01T00:00:00",
          "2008-02-01T00:00:00",
          "2008-03-01T00:00:00",
          "2008-04-01T00:00:00",
          "2008-05-01T00:00:00",
          "2008-06-01T00:00:00",
          "2008-07-01T00:00:00",
          "2008-08-01T00:00:00",
          "2008-09-01T00:00:00",
          "2008-10-01T00:00:00",
          "2008-11-01T00:00:00",
          "2008-12-01T00:00:00",
          "2009-01-01T00:00:00",
          "2009-02-01T00:00:00",
          "2009-03-01T00:00:00",
          "2009-04-01T00:00:00",
          "2009-05-01T00:00:00",
          "2009-06-01T00:00:00",
          "2009-07-01T00:00:00",
          "2009-08-01T00:00:00",
          "2009-09-01T00:00:00",
          "2009-10-01T00:00:00",
          "2009-11-01T00:00:00",
          "2009-12-01T00:00:00",
          "2010-01-01T00:00:00",
          "2010-02-01T00:00:00",
          "2010-03-01T00:00:00",
          "2010-04-01T00:00:00",
          "2010-05-01T00:00:00",
          "2010-06-01T00:00:00",
          "2010-07-01T00:00:00",
          "2010-08-01T00:00:00",
          "2010-09-01T00:00:00",
          "2010-10-01T00:00:00",
          "2010-11-01T00:00:00",
          "2010-12-01T00:00:00",
          "2011-01-01T00:00:00",
          "2011-02-01T00:00:00",
          "2011-03-01T00:00:00",
          "2011-04-01T00:00:00",
          "2011-05-01T00:00:00",
          "2011-06-01T00:00:00",
          "2011-07-01T00:00:00",
          "2011-08-01T00:00:00",
          "2011-09-01T00:00:00",
          "2011-10-01T00:00:00",
          "2011-11-01T00:00:00",
          "2011-12-01T00:00:00",
          "2012-01-01T00:00:00",
          "2012-02-01T00:00:00",
          "2012-03-01T00:00:00",
          "2012-04-01T00:00:00",
          "2012-05-01T00:00:00",
          "2012-06-01T00:00:00",
          "2012-07-01T00:00:00",
          "2012-08-01T00:00:00",
          "2012-09-01T00:00:00",
          "2012-10-01T00:00:00",
          "2012-11-01T00:00:00",
          "2012-12-01T00:00:00",
          "2013-01-01T00:00:00",
          "2013-02-01T00:00:00",
          "2013-03-01T00:00:00",
          "2013-04-01T00:00:00",
          "2013-05-01T00:00:00",
          "2013-06-01T00:00:00",
          "2013-07-01T00:00:00",
          "2013-08-01T00:00:00",
          "2013-09-01T00:00:00",
          "2013-10-01T00:00:00",
          "2013-11-01T00:00:00",
          "2013-12-01T00:00:00",
          "2014-01-01T00:00:00",
          "2014-02-01T00:00:00",
          "2014-03-01T00:00:00",
          "2014-04-01T00:00:00",
          "2014-05-01T00:00:00",
          "2014-06-01T00:00:00",
          "2014-07-01T00:00:00",
          "2014-08-01T00:00:00",
          "2014-09-01T00:00:00",
          "2014-10-01T00:00:00",
          "2014-11-01T00:00:00",
          "2014-12-01T00:00:00",
          "2015-01-01T00:00:00",
          "2015-02-01T00:00:00",
          "2015-03-01T00:00:00",
          "2015-04-01T00:00:00",
          "2015-05-01T00:00:00",
          "2015-06-01T00:00:00",
          "2015-07-01T00:00:00",
          "2015-08-01T00:00:00",
          "2015-09-01T00:00:00",
          "2015-10-01T00:00:00",
          "2015-11-01T00:00:00",
          "2015-12-01T00:00:00"
         ],
         "y": [
          153.8871905401449,
          147.19013241538804,
          146.28914835603405,
          171.56267038026562,
          193.27550569796796,
          197.0475361045032,
          219.84565578756855,
          220.33853730471012,
          213.89448775291615,
          217.57084984724665,
          218.02480012459836,
          202.3845740996999,
          187.67008382314074,
          188.25597787481,
          184.57701085484237,
          196.68680706308658,
          217.4805093396444,
          231.29930747445334,
          228.93587151335734,
          222.98773325316205,
          209.8914574819567,
          216.36692697636303,
          201.70299674022644,
          193.7553231110215,
          175.70379445984895,
          163.72748717795267,
          166.39673700688064,
          196.61468035970987,
          199.7459525785267,
          217.29655584174816,
          217.68426130633384,
          196.93431451864487,
          201.28793613482333,
          200.3407988576107,
          198.65018832603303,
          170.31669814517724,
          154.74212273855923,
          154.86076993804008,
          164.81907984289342,
          193.9122039973297,
          217.67376830547303,
          222.78662693406565,
          222.20274908400904,
          228.48573364956675,
          217.53337728574243,
          217.73047033911647,
          217.42149708558273,
          189.6899962229132,
          185.83424329614448,
          172.87441690082144,
          172.94686794692686,
          210.94783561501882,
          217.75980174208172,
          228.58699722986748,
          228.52978745574907,
          239.9795022685522,
          232.67384883457748,
          216.36455606130727,
          217.32044307965091,
          205.8421496742147,
          185.09981954805502,
          166.18791746866052,
          191.58550526092304,
          216.81986151359314,
          216.960231070444,
          227.7774294249744,
          222.39540143907433,
          216.460085557985,
          217.24495647960964,
          216.68731358897261,
          221.68438399018265,
          195.38194128958474,
          188.21186582860577,
          187.92322743974464,
          188.33883071989635,
          198.21603191808765,
          203.45542081766882,
          221.35370331519363,
          199.02665203262458,
          197.94970279916916,
          199.28006763041586,
          195.95313427809964,
          194.01842958204216,
          192.20688814219318,
          193.0088925933881,
          189.16775650267263,
          193.01128731397657,
          198.48729565303313,
          197.8979537088725,
          198.52864148244097,
          195.46956197635097,
          193.70785881789845,
          193.9848190612888,
          193.67682608712846,
          192.15196623942975,
          190.4506826579353,
          190.2930770292321,
          190.12666993071437,
          190.45582084354334,
          194.1693999725224,
          195.82004345161616,
          195.8648872067176,
          192.38272784976544,
          192.20446438997953,
          192.54022745649675,
          192.27627672469532,
          193.07319317552293,
          191.80073298639473,
          191.77157832332102,
          191.7715367799076,
          191.8179145302691,
          191.91824108278936,
          192.533503203374,
          192.4540864922727,
          194.27311851159146,
          192.34448440007475,
          192.17438836391088,
          191.86168547351238,
          190.63885712007175,
          190.02115654293118,
          190.65003747401997,
          190.6328559301456,
          190.02882736220906,
          191.0012647367747,
          193.72183410428426,
          193.78082344365205,
          193.91275645585225,
          192.34448440007475,
          191.554024044162,
          191.2268656676176,
          191.2268656676176,
          190.6328559301456,
          190.35365541636483,
          190.35365541636483,
          190.6328559301456,
          190.67138030250183,
          193.97962133820457,
          194.38291244213062
         ]
        }
       ],
       "layout": {
        "legend": {
         "x": 0.01,
         "y": 0.99
        },
        "template": {
         "data": {
          "bar": [
           {
            "error_x": {
             "color": "#2a3f5f"
            },
            "error_y": {
             "color": "#2a3f5f"
            },
            "marker": {
             "line": {
              "color": "white",
              "width": 0.5
             },
             "pattern": {
              "fillmode": "overlay",
              "size": 10,
              "solidity": 0.2
             }
            },
            "type": "bar"
           }
          ],
          "barpolar": [
           {
            "marker": {
             "line": {
              "color": "white",
              "width": 0.5
             },
             "pattern": {
              "fillmode": "overlay",
              "size": 10,
              "solidity": 0.2
             }
            },
            "type": "barpolar"
           }
          ],
          "carpet": [
           {
            "aaxis": {
             "endlinecolor": "#2a3f5f",
             "gridcolor": "#C8D4E3",
             "linecolor": "#C8D4E3",
             "minorgridcolor": "#C8D4E3",
             "startlinecolor": "#2a3f5f"
            },
            "baxis": {
             "endlinecolor": "#2a3f5f",
             "gridcolor": "#C8D4E3",
             "linecolor": "#C8D4E3",
             "minorgridcolor": "#C8D4E3",
             "startlinecolor": "#2a3f5f"
            },
            "type": "carpet"
           }
          ],
          "choropleth": [
           {
            "colorbar": {
             "outlinewidth": 0,
             "ticks": ""
            },
            "type": "choropleth"
           }
          ],
          "contour": [
           {
            "colorbar": {
             "outlinewidth": 0,
             "ticks": ""
            },
            "colorscale": [
             [
              0,
              "#0d0887"
             ],
             [
              0.1111111111111111,
              "#46039f"
             ],
             [
              0.2222222222222222,
              "#7201a8"
             ],
             [
              0.3333333333333333,
              "#9c179e"
             ],
             [
              0.4444444444444444,
              "#bd3786"
             ],
             [
              0.5555555555555556,
              "#d8576b"
             ],
             [
              0.6666666666666666,
              "#ed7953"
             ],
             [
              0.7777777777777778,
              "#fb9f3a"
             ],
             [
              0.8888888888888888,
              "#fdca26"
             ],
             [
              1,
              "#f0f921"
             ]
            ],
            "type": "contour"
           }
          ],
          "contourcarpet": [
           {
            "colorbar": {
             "outlinewidth": 0,
             "ticks": ""
            },
            "type": "contourcarpet"
           }
          ],
          "heatmap": [
           {
            "colorbar": {
             "outlinewidth": 0,
             "ticks": ""
            },
            "colorscale": [
             [
              0,
              "#0d0887"
             ],
             [
              0.1111111111111111,
              "#46039f"
             ],
             [
              0.2222222222222222,
              "#7201a8"
             ],
             [
              0.3333333333333333,
              "#9c179e"
             ],
             [
              0.4444444444444444,
              "#bd3786"
             ],
             [
              0.5555555555555556,
              "#d8576b"
             ],
             [
              0.6666666666666666,
              "#ed7953"
             ],
             [
              0.7777777777777778,
              "#fb9f3a"
             ],
             [
              0.8888888888888888,
              "#fdca26"
             ],
             [
              1,
              "#f0f921"
             ]
            ],
            "type": "heatmap"
           }
          ],
          "heatmapgl": [
           {
            "colorbar": {
             "outlinewidth": 0,
             "ticks": ""
            },
            "colorscale": [
             [
              0,
              "#0d0887"
             ],
             [
              0.1111111111111111,
              "#46039f"
             ],
             [
              0.2222222222222222,
              "#7201a8"
             ],
             [
              0.3333333333333333,
              "#9c179e"
             ],
             [
              0.4444444444444444,
              "#bd3786"
             ],
             [
              0.5555555555555556,
              "#d8576b"
             ],
             [
              0.6666666666666666,
              "#ed7953"
             ],
             [
              0.7777777777777778,
              "#fb9f3a"
             ],
             [
              0.8888888888888888,
              "#fdca26"
             ],
             [
              1,
              "#f0f921"
             ]
            ],
            "type": "heatmapgl"
           }
          ],
          "histogram": [
           {
            "marker": {
             "pattern": {
              "fillmode": "overlay",
              "size": 10,
              "solidity": 0.2
             }
            },
            "type": "histogram"
           }
          ],
          "histogram2d": [
           {
            "colorbar": {
             "outlinewidth": 0,
             "ticks": ""
            },
            "colorscale": [
             [
              0,
              "#0d0887"
             ],
             [
              0.1111111111111111,
              "#46039f"
             ],
             [
              0.2222222222222222,
              "#7201a8"
             ],
             [
              0.3333333333333333,
              "#9c179e"
             ],
             [
              0.4444444444444444,
              "#bd3786"
             ],
             [
              0.5555555555555556,
              "#d8576b"
             ],
             [
              0.6666666666666666,
              "#ed7953"
             ],
             [
              0.7777777777777778,
              "#fb9f3a"
             ],
             [
              0.8888888888888888,
              "#fdca26"
             ],
             [
              1,
              "#f0f921"
             ]
            ],
            "type": "histogram2d"
           }
          ],
          "histogram2dcontour": [
           {
            "colorbar": {
             "outlinewidth": 0,
             "ticks": ""
            },
            "colorscale": [
             [
              0,
              "#0d0887"
             ],
             [
              0.1111111111111111,
              "#46039f"
             ],
             [
              0.2222222222222222,
              "#7201a8"
             ],
             [
              0.3333333333333333,
              "#9c179e"
             ],
             [
              0.4444444444444444,
              "#bd3786"
             ],
             [
              0.5555555555555556,
              "#d8576b"
             ],
             [
              0.6666666666666666,
              "#ed7953"
             ],
             [
              0.7777777777777778,
              "#fb9f3a"
             ],
             [
              0.8888888888888888,
              "#fdca26"
             ],
             [
              1,
              "#f0f921"
             ]
            ],
            "type": "histogram2dcontour"
           }
          ],
          "mesh3d": [
           {
            "colorbar": {
             "outlinewidth": 0,
             "ticks": ""
            },
            "type": "mesh3d"
           }
          ],
          "parcoords": [
           {
            "line": {
             "colorbar": {
              "outlinewidth": 0,
              "ticks": ""
             }
            },
            "type": "parcoords"
           }
          ],
          "pie": [
           {
            "automargin": true,
            "type": "pie"
           }
          ],
          "scatter": [
           {
            "fillpattern": {
             "fillmode": "overlay",
             "size": 10,
             "solidity": 0.2
            },
            "type": "scatter"
           }
          ],
          "scatter3d": [
           {
            "line": {
             "colorbar": {
              "outlinewidth": 0,
              "ticks": ""
             }
            },
            "marker": {
             "colorbar": {
              "outlinewidth": 0,
              "ticks": ""
             }
            },
            "type": "scatter3d"
           }
          ],
          "scattercarpet": [
           {
            "marker": {
             "colorbar": {
              "outlinewidth": 0,
              "ticks": ""
             }
            },
            "type": "scattercarpet"
           }
          ],
          "scattergeo": [
           {
            "marker": {
             "colorbar": {
              "outlinewidth": 0,
              "ticks": ""
             }
            },
            "type": "scattergeo"
           }
          ],
          "scattergl": [
           {
            "marker": {
             "colorbar": {
              "outlinewidth": 0,
              "ticks": ""
             }
            },
            "type": "scattergl"
           }
          ],
          "scattermapbox": [
           {
            "marker": {
             "colorbar": {
              "outlinewidth": 0,
              "ticks": ""
             }
            },
            "type": "scattermapbox"
           }
          ],
          "scatterpolar": [
           {
            "marker": {
             "colorbar": {
              "outlinewidth": 0,
              "ticks": ""
             }
            },
            "type": "scatterpolar"
           }
          ],
          "scatterpolargl": [
           {
            "marker": {
             "colorbar": {
              "outlinewidth": 0,
              "ticks": ""
             }
            },
            "type": "scatterpolargl"
           }
          ],
          "scatterternary": [
           {
            "marker": {
             "colorbar": {
              "outlinewidth": 0,
              "ticks": ""
             }
            },
            "type": "scatterternary"
           }
          ],
          "surface": [
           {
            "colorbar": {
             "outlinewidth": 0,
             "ticks": ""
            },
            "colorscale": [
             [
              0,
              "#0d0887"
             ],
             [
              0.1111111111111111,
              "#46039f"
             ],
             [
              0.2222222222222222,
              "#7201a8"
             ],
             [
              0.3333333333333333,
              "#9c179e"
             ],
             [
              0.4444444444444444,
              "#bd3786"
             ],
             [
              0.5555555555555556,
              "#d8576b"
             ],
             [
              0.6666666666666666,
              "#ed7953"
             ],
             [
              0.7777777777777778,
              "#fb9f3a"
             ],
             [
              0.8888888888888888,
              "#fdca26"
             ],
             [
              1,
              "#f0f921"
             ]
            ],
            "type": "surface"
           }
          ],
          "table": [
           {
            "cells": {
             "fill": {
              "color": "#EBF0F8"
             },
             "line": {
              "color": "white"
             }
            },
            "header": {
             "fill": {
              "color": "#C8D4E3"
             },
             "line": {
              "color": "white"
             }
            },
            "type": "table"
           }
          ]
         },
         "layout": {
          "annotationdefaults": {
           "arrowcolor": "#2a3f5f",
           "arrowhead": 0,
           "arrowwidth": 1
          },
          "autotypenumbers": "strict",
          "coloraxis": {
           "colorbar": {
            "outlinewidth": 0,
            "ticks": ""
           }
          },
          "colorscale": {
           "diverging": [
            [
             0,
             "#8e0152"
            ],
            [
             0.1,
             "#c51b7d"
            ],
            [
             0.2,
             "#de77ae"
            ],
            [
             0.3,
             "#f1b6da"
            ],
            [
             0.4,
             "#fde0ef"
            ],
            [
             0.5,
             "#f7f7f7"
            ],
            [
             0.6,
             "#e6f5d0"
            ],
            [
             0.7,
             "#b8e186"
            ],
            [
             0.8,
             "#7fbc41"
            ],
            [
             0.9,
             "#4d9221"
            ],
            [
             1,
             "#276419"
            ]
           ],
           "sequential": [
            [
             0,
             "#0d0887"
            ],
            [
             0.1111111111111111,
             "#46039f"
            ],
            [
             0.2222222222222222,
             "#7201a8"
            ],
            [
             0.3333333333333333,
             "#9c179e"
            ],
            [
             0.4444444444444444,
             "#bd3786"
            ],
            [
             0.5555555555555556,
             "#d8576b"
            ],
            [
             0.6666666666666666,
             "#ed7953"
            ],
            [
             0.7777777777777778,
             "#fb9f3a"
            ],
            [
             0.8888888888888888,
             "#fdca26"
            ],
            [
             1,
             "#f0f921"
            ]
           ],
           "sequentialminus": [
            [
             0,
             "#0d0887"
            ],
            [
             0.1111111111111111,
             "#46039f"
            ],
            [
             0.2222222222222222,
             "#7201a8"
            ],
            [
             0.3333333333333333,
             "#9c179e"
            ],
            [
             0.4444444444444444,
             "#bd3786"
            ],
            [
             0.5555555555555556,
             "#d8576b"
            ],
            [
             0.6666666666666666,
             "#ed7953"
            ],
            [
             0.7777777777777778,
             "#fb9f3a"
            ],
            [
             0.8888888888888888,
             "#fdca26"
            ],
            [
             1,
             "#f0f921"
            ]
           ]
          },
          "colorway": [
           "#636efa",
           "#EF553B",
           "#00cc96",
           "#ab63fa",
           "#FFA15A",
           "#19d3f3",
           "#FF6692",
           "#B6E880",
           "#FF97FF",
           "#FECB52"
          ],
          "font": {
           "color": "#2a3f5f"
          },
          "geo": {
           "bgcolor": "white",
           "lakecolor": "white",
           "landcolor": "white",
           "showlakes": true,
           "showland": true,
           "subunitcolor": "#C8D4E3"
          },
          "hoverlabel": {
           "align": "left"
          },
          "hovermode": "closest",
          "mapbox": {
           "style": "light"
          },
          "paper_bgcolor": "white",
          "plot_bgcolor": "white",
          "polar": {
           "angularaxis": {
            "gridcolor": "#EBF0F8",
            "linecolor": "#EBF0F8",
            "ticks": ""
           },
           "bgcolor": "white",
           "radialaxis": {
            "gridcolor": "#EBF0F8",
            "linecolor": "#EBF0F8",
            "ticks": ""
           }
          },
          "scene": {
           "xaxis": {
            "backgroundcolor": "white",
            "gridcolor": "#DFE8F3",
            "gridwidth": 2,
            "linecolor": "#EBF0F8",
            "showbackground": true,
            "ticks": "",
            "zerolinecolor": "#EBF0F8"
           },
           "yaxis": {
            "backgroundcolor": "white",
            "gridcolor": "#DFE8F3",
            "gridwidth": 2,
            "linecolor": "#EBF0F8",
            "showbackground": true,
            "ticks": "",
            "zerolinecolor": "#EBF0F8"
           },
           "zaxis": {
            "backgroundcolor": "white",
            "gridcolor": "#DFE8F3",
            "gridwidth": 2,
            "linecolor": "#EBF0F8",
            "showbackground": true,
            "ticks": "",
            "zerolinecolor": "#EBF0F8"
           }
          },
          "shapedefaults": {
           "line": {
            "color": "#2a3f5f"
           }
          },
          "ternary": {
           "aaxis": {
            "gridcolor": "#DFE8F3",
            "linecolor": "#A2B1C6",
            "ticks": ""
           },
           "baxis": {
            "gridcolor": "#DFE8F3",
            "linecolor": "#A2B1C6",
            "ticks": ""
           },
           "bgcolor": "white",
           "caxis": {
            "gridcolor": "#DFE8F3",
            "linecolor": "#A2B1C6",
            "ticks": ""
           }
          },
          "title": {
           "x": 0.05
          },
          "xaxis": {
           "automargin": true,
           "gridcolor": "#EBF0F8",
           "linecolor": "#EBF0F8",
           "ticks": "",
           "title": {
            "standoff": 15
           },
           "zerolinecolor": "#EBF0F8",
           "zerolinewidth": 2
          },
          "yaxis": {
           "automargin": true,
           "gridcolor": "#EBF0F8",
           "linecolor": "#EBF0F8",
           "ticks": "",
           "title": {
            "standoff": 15
           },
           "zerolinecolor": "#EBF0F8",
           "zerolinewidth": 2
          }
         }
        },
        "title": {
         "text": "AQI Predictions on New Data using Random Forest"
        },
        "xaxis": {
         "title": {
          "text": "Period"
         }
        },
        "yaxis": {
         "title": {
          "text": "AQI"
         }
        }
       }
      }
     },
     "metadata": {},
     "output_type": "display_data"
    }
   ],
   "source": [
    "import pandas as pd\n",
    "import numpy as np\n",
    "import joblib  # For loading the saved model\n",
    "from sklearn.metrics import mean_squared_error, mean_absolute_error, r2_score\n",
    "import plotly.graph_objects as go\n",
    "\n",
    "# Load the new data (testing data)\n",
    "new_data = pd.read_csv('test.csv', index_col=0)\n",
    "\n",
    "# Reset index to get 'period' as a column if it's in the index\n",
    "if 'period' not in new_data.columns:\n",
    "    new_data.reset_index(inplace=True)\n",
    "    new_data.rename(columns={'index': 'period'}, inplace=True)\n",
    "\n",
    "# Ensure the date column is in datetime format\n",
    "new_data['period'] = pd.to_datetime(new_data['period'], format='%Y-%m')\n",
    "\n",
    "# Set the 'period' column as the index\n",
    "new_data.set_index('period', inplace=True)\n",
    "\n",
    "# Ensure the AQI column is numeric (in case there are any issues with the data)\n",
    "new_data['AQI'] = pd.to_numeric(new_data['AQI'], errors='coerce')\n",
    "\n",
    "# Drop rows with NaN values (because of non-numeric AQI or missing values)\n",
    "new_data = new_data.dropna()\n",
    "\n",
    "# Create lag features for the new data (same as in the training data)\n",
    "new_data['AQI_lag_1'] = new_data['AQI'].shift(1)\n",
    "\n",
    "# Drop rows with NaN values due to lagging\n",
    "new_data = new_data.dropna()\n",
    "\n",
    "# Features for the model (use lag features and other potential features if available)\n",
    "features = [col for col in new_data.columns if col not in ['AQI']]\n",
    "\n",
    "# Define the features (X) and target (y) for testing the model\n",
    "X_new = new_data[features]\n",
    "y_new = new_data['AQI']\n",
    "\n",
    "# Load the trained model from disk\n",
    "model_rf = joblib.load('random_forest_model.pkl')\n",
    "\n",
    "# Make predictions on the new (testing) data\n",
    "y_new_pred = model_rf.predict(X_new)\n",
    "\n",
    "# If you have the actual AQI values for the new data, you can compare them with the predictions\n",
    "# Assuming you have the 'AQI' column in 'new.csv' for evaluation\n",
    "if 'AQI' in new_data.columns:\n",
    "    y_new_actual = new_data['AQI']\n",
    "    rmse_new = np.sqrt(mean_squared_error(y_new_actual, y_new_pred))\n",
    "    mae_new = mean_absolute_error(y_new_actual, y_new_pred)\n",
    "    r2_new = r2_score(y_new_actual, y_new_pred)\n",
    "    \n",
    "    print(f\"RMSE on new data: {rmse_new}\")\n",
    "    print(f\"MAE on new data: {mae_new}\")\n",
    "    print(f\"R² on new data: {r2_new}\")\n",
    "\n",
    "# Optionally, visualize the results (if you want to compare predictions vs. actual)\n",
    "fig_new = go.Figure()\n",
    "\n",
    "# Add new data actual AQI (if available)\n",
    "if 'AQI' in new_data.columns:\n",
    "    fig_new.add_trace(go.Scatter(x=new_data.index, y=new_data['AQI'],\n",
    "                                mode='lines', name='Actual AQI',\n",
    "                                line=dict(color='blue')))\n",
    "\n",
    "# Add predictions\n",
    "fig_new.add_trace(go.Scatter(x=new_data.index, y=y_new_pred,\n",
    "                            mode='lines', name='Predicted AQI',\n",
    "                            line=dict(color='red', dash='dot')))\n",
    "\n",
    "# Update layout\n",
    "fig_new.update_layout(\n",
    "    title='AQI Predictions on New Data using Random Forest',\n",
    "    xaxis_title='Period',\n",
    "    yaxis_title='AQI',\n",
    "    legend=dict(x=0.01, y=0.99),\n",
    "    template='plotly_white'\n",
    ")\n",
    "\n",
    "# Show the plot\n",
    "fig_new.show()\n"
   ]
  }
 ],
 "metadata": {
  "kernelspec": {
   "display_name": ".venv",
   "language": "python",
   "name": "python3"
  },
  "language_info": {
   "codemirror_mode": {
    "name": "ipython",
    "version": 3
   },
   "file_extension": ".py",
   "mimetype": "text/x-python",
   "name": "python",
   "nbconvert_exporter": "python",
   "pygments_lexer": "ipython3",
   "version": "3.13.0"
  }
 },
 "nbformat": 4,
 "nbformat_minor": 2
}
